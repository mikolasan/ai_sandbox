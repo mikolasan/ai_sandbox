{
 "cells": [
  {
   "cell_type": "code",
   "execution_count": 1,
   "metadata": {},
   "outputs": [],
   "source": [
    "import random\n",
    "\n",
    "import torch\n",
    "import torch.nn as nn\n",
    "import torch.optim as optim"
   ]
  },
  {
   "attachments": {},
   "cell_type": "markdown",
   "metadata": {},
   "source": [
    "We have inputs to an Artificial Neural Network like these:"
   ]
  },
  {
   "cell_type": "code",
   "execution_count": 2,
   "metadata": {},
   "outputs": [],
   "source": [
    "input = torch.tensor([\n",
    "  [0, 0, 0, 0, 0],\n",
    "  [0, 0, 0, 0, 0],\n",
    "  [0, 0, 0, 0, 0],\n",
    "  [0, 0, 0, 0, 0],\n",
    "  [1, 1, 1, 1, 1]\n",
    "], dtype=torch.float)"
   ]
  },
  {
   "attachments": {},
   "cell_type": "markdown",
   "metadata": {},
   "source": [
    "They represent some geometric objects. In this case it's a line.\n",
    "\n",
    "The receptive field in our ANN will be bigger than this input. Every input is randomly moved.\n",
    "\n",
    "So next, we take the input and create K=5 displacements (moving the original tensor in receptive field by (x,y) offset)."
   ]
  },
  {
   "cell_type": "code",
   "execution_count": 3,
   "metadata": {},
   "outputs": [],
   "source": [
    "K = 5\n",
    "N = 15"
   ]
  },
  {
   "cell_type": "code",
   "execution_count": 4,
   "metadata": {},
   "outputs": [],
   "source": [
    "def create_displaced_tensors(tensor, K, receptive_field_size=(15, 15)):\n",
    "    \"\"\"\n",
    "    Creates K displacements of the input tensor by moving it within a larger receptive field.\n",
    "    \n",
    "    Parameters:\n",
    "        tensor (torch.Tensor): The original input tensor of shape (5, 5).\n",
    "        K (int): The number of displacements to create.\n",
    "        receptive_field_size (tuple): The dimensions of the receptive field (height, width).\n",
    "        \n",
    "    Returns:\n",
    "        batch of tensors: A tensor of K tensors with the original tensor displaced within the receptive field.\n",
    "    \"\"\"\n",
    "    \n",
    "    # Create a larger tensor filled with zeros (the receptive field)\n",
    "    receptive_field_h, receptive_field_w = receptive_field_size\n",
    "    displaced_tensors = torch.zeros(K, receptive_field_h, receptive_field_w, dtype=tensor.dtype)\n",
    "    \n",
    "    # Calculate padding size based on the receptive field dimensions\n",
    "    input_h, input_w = tensor.shape\n",
    "    padding_h = receptive_field_h - input_h\n",
    "    padding_w = receptive_field_w - input_w\n",
    "    \n",
    "    for i in range(K):\n",
    "        # Randomly choose top-left corner for placing the input tensor within the receptive field\n",
    "        max_x_offset = padding_h\n",
    "        max_y_offset = padding_w\n",
    "        x_offset = random.randint(0, max_x_offset)\n",
    "        y_offset = random.randint(0, max_y_offset)\n",
    "        \n",
    "        # Place the input tensor within the receptive field at the chosen offset\n",
    "        displaced_tensors[i, x_offset:x_offset + input_h, y_offset:y_offset + input_w] = tensor\n",
    "\n",
    "    return displaced_tensors\n",
    "\n",
    "input_saccades = create_displaced_tensors(input,\n",
    "                                          K=K,\n",
    "                                          receptive_field_size=(N, N))"
   ]
  },
  {
   "cell_type": "code",
   "execution_count": 5,
   "metadata": {},
   "outputs": [],
   "source": [
    "import matplotlib.pyplot as plt\n",
    "import matplotlib.cm as cm"
   ]
  },
  {
   "cell_type": "code",
   "execution_count": 6,
   "metadata": {},
   "outputs": [
    {
     "data": {
      "image/png": "[encoded data removed]",
      "text/plain": [
       "<Figure size 1200x400 with 5 Axes>"
      ]
     },
     "metadata": {},
     "output_type": "display_data"
    }
   ],
   "source": [
    "fig, axs = plt.subplots(1, K, figsize=(12, 4))\n",
    "for i in range(K):\n",
    "  axs[i].imshow(input_saccades[i].detach().numpy(), cmap=cm.Purples)\n",
    "\n",
    "plt.tight_layout()\n",
    "plt.show()\n"
   ]
  },
  {
   "attachments": {},
   "cell_type": "markdown",
   "metadata": {},
   "source": [
    "Purpose of the first step is to make transformations absolutely unlinked from the coordinates. We will be building a hierarchical network that will generalize the concept.\n",
    "\n",
    "In this configuration we cannot use any output tensors or labels and therefore an error function cannot be used for backpropagation in weight adjustment. \n",
    "\n",
    "So, how to make a hierarchical network (not CNN) and group these different representation of lines into one latent feature activated on the last layer?"
   ]
  },
  {
   "cell_type": "code",
   "execution_count": 7,
   "metadata": {},
   "outputs": [],
   "source": [
    "class HierarchicalNetwork(nn.Module):\n",
    "    def __init__(self):\n",
    "        super(HierarchicalNetwork, self).__init__()\n",
    "        # Define hierarchical layers to capture line patterns without spatial dependence\n",
    "        self.layer1 = nn.Linear(N*N, 32)  # Input flattened from receptive field (7x7)\n",
    "        self.layer2 = nn.Linear(32, 16)  # Reduced dimensional layer\n",
    "        self.layer3 = nn.Linear(16, 8)   # Latent feature layer\n",
    "\n",
    "    def forward(self, x):\n",
    "        x = x.flatten()\n",
    "        x = torch.relu(self.layer1(x))\n",
    "        x = torch.relu(self.layer2(x))\n",
    "        latent_feature = torch.sigmoid(self.layer3(x))  # Latent feature activation\n",
    "        return latent_feature\n",
    "\n",
    "\n",
    "model = HierarchicalNetwork()"
   ]
  },
  {
   "attachments": {},
   "cell_type": "markdown",
   "metadata": {},
   "source": [
    "Adjust weights for each connection using Oja’s rule:\n",
    "   \n",
    "$\n",
    "\\Delta w_{ij} = \\eta \\cdot y_i (x_j - y_i \\cdot w_{ij})\n",
    "$\n",
    "\n",
    "where:\n",
    "\n",
    "- $w_{ij}$ is the weight between neuron $j$ in the previous layer and neuron $i$ in the current layer.\n",
    "- $\\eta$ is the learning rate.\n",
    "- $x_j$ is the activation from the previous layer.\n",
    "- $y_i$ is the activation of the current neuron after applying the current weights."
   ]
  },
  {
   "cell_type": "code",
   "execution_count": 48,
   "metadata": {},
   "outputs": [],
   "source": [
    "class OjasHierarchicalNetwork(nn.Module):\n",
    "    def __init__(self, input_dim=N*N, hidden_dims=[36, 16, 8], learning_rate=0.01):\n",
    "        super(OjasHierarchicalNetwork, self).__init__()\n",
    "\n",
    "        dims = zip([input_dim] + hidden_dims[:-1], hidden_dims)\n",
    "        self.layers = nn.ModuleList([nn.Linear(in_dim, out_dim) for in_dim, out_dim in dims])\n",
    "        self.eta = learning_rate\n",
    "\n",
    "    def forward(self, x):\n",
    "        x = x.flatten()\n",
    "        activations = [x]\n",
    "        for layer in self.layers:\n",
    "            x = torch.relu(layer(x))\n",
    "            activations.append(x)\n",
    "        return activations\n",
    "\n",
    "    def oja_update(self, activations):\n",
    "        for i in range(len(activations) - 1):\n",
    "            layer = self.layers[i]\n",
    "            weight = layer.weight.data\n",
    "            \n",
    "            prev_layer_x = activations[i]\n",
    "            curr_layer_y = activations[i + 1].unsqueeze(0).T\n",
    "\n",
    "            weight += self.eta * curr_layer_y * (prev_layer_x - curr_layer_y * weight)\n"
   ]
  },
  {
   "cell_type": "code",
   "execution_count": 49,
   "metadata": {},
   "outputs": [
    {
     "data": {
      "text/plain": [
       "tensor([[0., 0., 0., 0., 0., 0., 0., 0., 0., 0., 0., 0., 0., 0., 0.],\n",
       "        [0., 0., 0., 0., 0., 0., 0., 0., 0., 0., 0., 0., 0., 0., 0.],\n",
       "        [0., 0., 0., 0., 0., 0., 0., 0., 0., 0., 0., 0., 0., 0., 0.],\n",
       "        [0., 0., 0., 0., 0., 0., 0., 0., 0., 0., 0., 0., 0., 0., 0.],\n",
       "        [0., 0., 0., 0., 0., 0., 0., 0., 0., 0., 0., 0., 0., 0., 0.],\n",
       "        [0., 0., 0., 0., 0., 0., 0., 0., 0., 0., 0., 0., 0., 0., 0.],\n",
       "        [0., 0., 0., 0., 0., 0., 0., 0., 0., 0., 0., 0., 0., 0., 0.],\n",
       "        [0., 0., 0., 0., 0., 0., 0., 0., 0., 0., 0., 0., 0., 0., 0.],\n",
       "        [0., 0., 0., 0., 0., 0., 0., 0., 0., 0., 0., 0., 0., 0., 0.],\n",
       "        [0., 0., 0., 0., 0., 0., 0., 0., 0., 0., 0., 0., 0., 1., 1.],\n",
       "        [0., 0., 0., 0., 0., 0., 0., 0., 1., 1., 1., 0., 0., 0., 0.],\n",
       "        [0., 0., 0., 0., 0., 0., 0., 0., 0., 0., 0., 0., 0., 0., 0.],\n",
       "        [0., 0., 0., 0., 0., 0., 0., 0., 0., 0., 0., 0., 0., 0., 0.],\n",
       "        [0., 0., 0., 0., 0., 0., 0., 0., 0., 0., 0., 0., 0., 0., 0.],\n",
       "        [0., 0., 0., 0., 0., 0., 0., 0., 0., 0., 0., 0., 0., 0., 0.]])"
      ]
     },
     "execution_count": 49,
     "metadata": {},
     "output_type": "execute_result"
    }
   ],
   "source": [
    "# Initialize the model\n",
    "model = OjasHierarchicalNetwork()\n",
    "\n",
    "# Example input\n",
    "example_input = torch.tensor([[\n",
    "  0, 0, 0, 0, 0, 0, 0,\n",
    "  0, 0, 0, 0, 0, 0, 0, \n",
    "  0, 0, 0, 0, 0, 0, 0, \n",
    "  0, 0, 0, 0, 0, 0, 0, \n",
    "  0, 0, 0, 0, 0, 0, 0, \n",
    "  0, 0, 0, 0, 0, 1, 1, \n",
    "  1, 1, 1, 0, 0, 0, 0\n",
    "]], dtype=torch.float)\n",
    "# initial example was for 7x7 and I'm lazy to type more zeroes, \n",
    "# so I will pad them programmatically to match the current size of 15x15\n",
    "# https://pytorch.org/docs/stable/generated/torch.nn.functional.pad.html#torch.nn.functional.pad\n",
    "example_input = nn.functional.pad(example_input.view(7, 7), (8, 0, 4, 4))\n",
    "example_input\n",
    "# plt.figure(figsize=(6, 5))\n",
    "# w_mat = plt.imshow(example_input.view(15, 15).detach().numpy())\n",
    "# plt.colorbar(w_mat)\n",
    "# plt.title(\"DG output\")\n",
    "# plt.tight_layout()\n",
    "# plt.show()"
   ]
  },
  {
   "cell_type": "code",
   "execution_count": 50,
   "metadata": {},
   "outputs": [
    {
     "data": {
      "text/plain": [
       "torch.Size([225])"
      ]
     },
     "execution_count": 50,
     "metadata": {},
     "output_type": "execute_result"
    }
   ],
   "source": [
    "example_input.flatten().size()"
   ]
  },
  {
   "cell_type": "code",
   "execution_count": 51,
   "metadata": {},
   "outputs": [],
   "source": [
    "per_layer_data = model(example_input)"
   ]
  },
  {
   "cell_type": "code",
   "execution_count": 56,
   "metadata": {},
   "outputs": [],
   "source": [
    "model.eta = 0.1\n",
    "model.oja_update(per_layer_data)\n",
    "per_layer_data = model(example_input)"
   ]
  },
  {
   "cell_type": "code",
   "execution_count": 57,
   "metadata": {},
   "outputs": [
    {
     "data": {
      "image/png": "[encoded data removed]",
      "text/plain": [
       "<Figure size 1200x400 with 4 Axes>"
      ]
     },
     "metadata": {},
     "output_type": "display_data"
    }
   ],
   "source": [
    "fig, axs = plt.subplots(1, 4, figsize=(12, 4))\n",
    "axs[0].imshow(per_layer_data[0].view(15,15).detach().numpy(), cmap=cm.Purples)\n",
    "axs[1].imshow(per_layer_data[1].view(6,6).detach().numpy(), cmap=cm.Purples)\n",
    "axs[2].imshow(per_layer_data[2].view(4,4).detach().numpy(), cmap=cm.Purples)\n",
    "axs[3].imshow(per_layer_data[3].view(2,-1).detach().numpy(), cmap=cm.Purples)\n",
    "\n",
    "plt.tight_layout()\n",
    "plt.show()"
   ]
  },
  {
   "cell_type": "code",
   "execution_count": 14,
   "metadata": {},
   "outputs": [
    {
     "data": {
      "text/plain": [
       "torch.Size([36, 225])"
      ]
     },
     "execution_count": 14,
     "metadata": {},
     "output_type": "execute_result"
    }
   ],
   "source": [
    "w = model.layers[0].weight.data\n",
    "w.shape # 225 columns x 36 rows"
   ]
  },
  {
   "cell_type": "code",
   "execution_count": 44,
   "metadata": {},
   "outputs": [
    {
     "name": "stdout",
     "output_type": "stream",
     "text": [
      "torch.Size([1, 225])\n"
     ]
    },
    {
     "data": {
      "text/plain": [
       "torch.Size([36, 1])"
      ]
     },
     "execution_count": 44,
     "metadata": {},
     "output_type": "execute_result"
    }
   ],
   "source": [
    "x = per_layer_data[0]\n",
    "print(x.unsqueeze(0).shape)\n",
    "y = per_layer_data[1]\n",
    "y.unsqueeze(0).T.shape # should be 36 columns and 1 row "
   ]
  },
  {
   "cell_type": "code",
   "execution_count": 41,
   "metadata": {},
   "outputs": [
    {
     "data": {
      "text/plain": [
       "torch.Size([36, 225])"
      ]
     },
     "execution_count": 41,
     "metadata": {},
     "output_type": "execute_result"
    }
   ],
   "source": [
    "yw = y.unsqueeze(0).T * w\n",
    "# this is not the same!\n",
    "#yw = torch.matmul(y.unsqueeze(0).T, w)\n",
    "yw.shape"
   ]
  },
  {
   "cell_type": "code",
   "execution_count": 46,
   "metadata": {},
   "outputs": [
    {
     "data": {
      "text/plain": [
       "torch.Size([36, 225])"
      ]
     },
     "execution_count": 46,
     "metadata": {},
     "output_type": "execute_result"
    }
   ],
   "source": [
    "xyw = x - yw\n",
    "xyw.shape"
   ]
  },
  {
   "cell_type": "code",
   "execution_count": 47,
   "metadata": {},
   "outputs": [
    {
     "data": {
      "text/plain": [
       "torch.Size([36, 225])"
      ]
     },
     "execution_count": 47,
     "metadata": {},
     "output_type": "execute_result"
    }
   ],
   "source": [
    "dw = y.unsqueeze(0).T * xyw\n",
    "dw.shape"
   ]
  },
  {
   "cell_type": "code",
   "execution_count": 55,
   "metadata": {},
   "outputs": [],
   "source": [
    "model = OjasHierarchicalNetwork()\n",
    "\n",
    "model.eta = 0.1\n",
    "\n",
    "for i in range(K):\n",
    "  activations = model(input_saccades[i])\n",
    "  model.oja_update(activations)"
   ]
  },
  {
   "cell_type": "code",
   "execution_count": null,
   "metadata": {},
   "outputs": [],
   "source": []
  }
 ],
 "metadata": {
  "kernelspec": {
   "display_name": "diffusers",
   "language": "python",
   "name": "python3"
  },
  "language_info": {
   "codemirror_mode": {
    "name": "ipython",
    "version": 3
   },
   "file_extension": ".py",
   "mimetype": "text/x-python",
   "name": "python",
   "nbconvert_exporter": "python",
   "pygments_lexer": "ipython3",
   "version": "3.10.12"
  },
  "orig_nbformat": 4
 },
 "nbformat": 4,
 "nbformat_minor": 2
}
