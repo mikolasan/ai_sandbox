{
 "cells": [
  {
   "attachments": {},
   "cell_type": "markdown",
   "metadata": {},
   "source": [
    "For a neural network, when iterative improvements for aligning inference are finished on one image, you verify it on other images. Or most likely next training samples will be used for formulating the transformation properly. \n",
    "\n",
    "For the ARC challenge there should be a network that can recognize a space of one color surrounded by a line or other shape of another color. \n",
    "\n",
    "A network of 5 neurons should be sufficient. It would be similar to RNN, it starts from one point, follows the edge until it finds if it breaks or connect with the starting point. There should be an external network that waits an answer. But how do we make a question?"
   ]
  },
  {
   "attachments": {},
   "cell_type": "markdown",
   "metadata": {},
   "source": [
    "An external network could take the output of this shape-recognition network and integrate it into a broader reasoning process, deciding how to apply this information to solve the larger task. This external network could handle higher-level reasoning, such as deciding the next transformation or determining the overall pattern in the input grid."
   ]
  },
  {
   "attachments": {},
   "cell_type": "markdown",
   "metadata": {},
   "source": [
    "The question should appear after comparing input and output and trying to transform them pixel by pixel. Where every step or a group of steps describe a specific transformation. All steps in transformation we will call _a question_ about the current task. Then this question will find or create networks for transformation and they will be applied to the test data."
   ]
  },
  {
   "attachments": {},
   "cell_type": "markdown",
   "metadata": {},
   "source": [
    "Each transformation can be described as:\n",
    "- What needs to be identified in the grid?\n",
    "- What changes need to be applied?\n",
    "- How to confirm that the transformation is correct?"
   ]
  },
  {
   "cell_type": "code",
   "execution_count": null,
   "metadata": {},
   "outputs": [],
   "source": []
  }
 ],
 "metadata": {
  "language_info": {
   "name": "python"
  },
  "orig_nbformat": 4
 },
 "nbformat": 4,
 "nbformat_minor": 2
}
