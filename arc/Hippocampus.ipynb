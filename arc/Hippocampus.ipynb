{
 "cells": [
  {
   "cell_type": "markdown",
   "id": "2c36e016",
   "metadata": {},
   "source": [
    "Define DG block"
   ]
  },
  {
   "cell_type": "code",
   "execution_count": 1,
   "id": "6c0153ae",
   "metadata": {},
   "outputs": [],
   "source": [
    "import torch\n",
    "import torch.nn as nn\n",
    "\n",
    "class DGModel(nn.Module):\n",
    "    \"\"\"\n",
    "    Goal: separation\n",
    "    Methods: sparsity\n",
    "    \"\"\"\n",
    "    \n",
    "    def __init__(self, input_size, output_size):\n",
    "        super(DGModel, self).__init__()\n",
    "        hidden_layer_size = input_size + output_size // 2\n",
    "        self.fc1 = nn.Linear(input_size, hidden_layer_size)\n",
    "        self.fc2 = nn.Linear(hidden_layer_size, output_size)\n",
    "        \n",
    "        # Weight initialization (Xavier)\n",
    "        nn.init.xavier_uniform_(self.fc1.weight)\n",
    "        nn.init.xavier_uniform_(self.fc2.weight)\n",
    "        \n",
    "    def forward(self, x):\n",
    "        with torch.no_grad():  # Ensure no gradients are calculated for this model\n",
    "            x = self.fc1(x)\n",
    "            x = torch.tanh(x)  # Using tanh activation\n",
    "            x = self.fc2(x)\n",
    "        return x\n",
    "\n",
    "\n",
    "N = 25  # Input size\n",
    "M = 25 * 100   # Output size\n",
    "\n",
    "dg_model = DGModel(N, M)\n"
   ]
  },
  {
   "cell_type": "markdown",
   "id": "7117f047",
   "metadata": {},
   "source": [
    "We need some data to test these blocks"
   ]
  },
  {
   "cell_type": "code",
   "execution_count": 2,
   "id": "6c08061c",
   "metadata": {},
   "outputs": [],
   "source": [
    "# super simple ARC-like example\n",
    "input_1 = torch.tensor([[[[0, 0, 0, 0, 0],\n",
    "                          [0, 0, 0, 0, 0],\n",
    "                          [0, 0, 1, 0, 0],\n",
    "                          [0, 0, 0, 0, 0],\n",
    "                          [0, 0, 0, 0, 0]]]], dtype=torch.float)\n",
    "\n",
    "output_1 = torch.tensor([[[[0, 0, 1, 0, 0],\n",
    "                           [0, 0, 1, 0, 0],\n",
    "                           [1, 1, 1, 1, 1],\n",
    "                           [0, 0, 1, 0, 0],\n",
    "                           [0, 0, 1, 0, 0]]]], dtype=torch.float)\n",
    "\n",
    "input_2 = torch.tensor([[[[0, 0, 0, 0, 0],\n",
    "                          [0, 0, 0, 0, 0],\n",
    "                          [0, 0, 0, 0, 0],\n",
    "                          [0, 0, 0, 0, 0],\n",
    "                          [0, 0, 0, 0, 1]]]], dtype=torch.float)\n",
    "\n",
    "output_2 = torch.tensor([[[[0, 0, 0, 0, 1],\n",
    "                           [0, 0, 0, 0, 1],\n",
    "                           [0, 0, 0, 0, 1],\n",
    "                           [0, 0, 0, 0, 1],\n",
    "                           [1, 1, 1, 1, 1]]]], dtype=torch.float)"
   ]
  },
  {
   "cell_type": "markdown",
   "id": "7715237e",
   "metadata": {},
   "source": [
    "We are going to work with 1D arrays. \n",
    "\n",
    "DG block creates a sparse representation of the input"
   ]
  },
  {
   "cell_type": "code",
   "execution_count": 3,
   "id": "73fb1d74",
   "metadata": {},
   "outputs": [
    {
     "name": "stdout",
     "output_type": "stream",
     "text": [
      "tensor([-0.0403,  0.0010,  0.0994,  ..., -0.0101, -0.1315, -0.0216])\n"
     ]
    }
   ],
   "source": [
    "y_1 = dg_model(input_1.flatten())\n",
    "print(y_1)"
   ]
  },
  {
   "cell_type": "code",
   "execution_count": 4,
   "id": "fd5a1728",
   "metadata": {},
   "outputs": [],
   "source": [
    "class EncodingModel(nn.Module):\n",
    "    \"\"\"\n",
    "    Goal: pattern retrieval\n",
    "    Methods: compare sparse representation with the original\n",
    "    \"\"\"\n",
    "    \n",
    "    def __init__(self, input_size, output_size):\n",
    "        super(EncodingModel, self).__init__()\n",
    "        hidden_layer_size = output_size\n",
    "        self.fc1 = nn.Linear(input_size, hidden_layer_size)\n",
    "        self.fc2 = nn.Linear(hidden_layer_size, output_size)\n",
    "        \n",
    "    def forward(self, x):\n",
    "        x = self.fc1(x)\n",
    "        x = torch.relu(x)\n",
    "        x = self.fc2(x)\n",
    "        return x"
   ]
  },
  {
   "cell_type": "code",
   "execution_count": 5,
   "id": "ea184dfb",
   "metadata": {},
   "outputs": [],
   "source": [
    "\n",
    "H = N + M  # Input size\n",
    "L = M   # Output size\n",
    "\n",
    "ec_model = EncodingModel(H, L)"
   ]
  },
  {
   "cell_type": "code",
   "execution_count": 11,
   "id": "e2963ecc",
   "metadata": {},
   "outputs": [
    {
     "name": "stdout",
     "output_type": "stream",
     "text": [
      "tensor([ 0.0070,  0.0538,  0.0114,  ...,  0.0256,  0.0587, -0.0106],\n",
      "       grad_fn=<AddBackward0>)\n"
     ]
    }
   ],
   "source": [
    "y_hat = ec_model(torch.cat([y_1, input_1.flatten()]))\n",
    "print(y_hat)"
   ]
  },
  {
   "cell_type": "code",
   "execution_count": 12,
   "id": "da99cd78",
   "metadata": {},
   "outputs": [],
   "source": [
    "class HopfieldNetwork(nn.Module):\n",
    "    def __init__(self, num_neurons):\n",
    "        super(HopfieldNetwork, self).__init__()\n",
    "        self.num_neurons = num_neurons\n",
    "        \n",
    "        # Initialize the weight matrix (symmetry will be enforced)\n",
    "        self.weights = torch.zeros(num_neurons, num_neurons)\n",
    "\n",
    "    def store_pattern(self, patterns):\n",
    "        \"\"\"\n",
    "        Store patterns into the weight matrix using Hebbian learning.\n",
    "        Patterns should be a tensor of shape (num_patterns, num_neurons).\n",
    "        \"\"\"\n",
    "        num_patterns = patterns.size(0)\n",
    "        for i in range(num_patterns):\n",
    "            p = patterns[i].unsqueeze(1)  # Make it a column vector\n",
    "            self.weights += torch.mm(p, p.T)  # Hebbian learning rule\n",
    "        # Ensure weights on the diagonal are zero\n",
    "        self.weights.fill_diagonal_(0)\n",
    "        self.weights /= num_patterns  # Normalize by the number of patterns\n",
    "\n",
    "    def forward(self, input_state, steps=10):\n",
    "        \"\"\"\n",
    "        Forward pass: iteratively update the states of the network.\n",
    "        Returns early if a stable state is reached.\n",
    "        \"\"\"\n",
    "        state = input_state.clone()\n",
    "        prev_state = state.clone()\n",
    "\n",
    "        for _ in range(steps):\n",
    "            # Update all neurons at once for simplicity in backpropagation\n",
    "            net_input = torch.matmul(self.weights, state)  # Weighted sum of inputs\n",
    "            state = torch.tanh(net_input)  # Continuous activation (differentiable)\n",
    "        \n",
    "#             # For each neuron, update its state\n",
    "#             for i in range(self.num_neurons):\n",
    "#                 net_input = torch.dot(self.weights[i], state)  # Weighted sum of inputs\n",
    "#                 state[i] = 1 if net_input >= 0 else -1  # Update rule (sign function)\n",
    "\n",
    "            # Early stopping if state does not change\n",
    "            if torch.equal(state, prev_state):\n",
    "                break\n",
    "            prev_state = state.clone()\n",
    "\n",
    "        return state"
   ]
  },
  {
   "cell_type": "code",
   "execution_count": 13,
   "id": "e6b2b56c",
   "metadata": {},
   "outputs": [
    {
     "ename": "NameError",
     "evalue": "name 'patterns' is not defined",
     "output_type": "error",
     "traceback": [
      "\u001b[1;31m---------------------------------------------------------------------------\u001b[0m",
      "\u001b[1;31mNameError\u001b[0m                                 Traceback (most recent call last)",
      "Cell \u001b[1;32mIn[13], line 7\u001b[0m\n\u001b[0;32m      3\u001b[0m hopfield_model \u001b[38;5;241m=\u001b[39m HopfieldNetwork(T)\n\u001b[0;32m      6\u001b[0m \u001b[38;5;66;03m# Store patterns in the Hopfield network\u001b[39;00m\n\u001b[1;32m----> 7\u001b[0m hopfield_model\u001b[38;5;241m.\u001b[39mstore_pattern(\u001b[43mpatterns\u001b[49m)\n\u001b[0;32m      9\u001b[0m \u001b[38;5;66;03m# Random initial state (T neurons)\u001b[39;00m\n\u001b[0;32m     10\u001b[0m input_state \u001b[38;5;241m=\u001b[39m torch\u001b[38;5;241m.\u001b[39mtensor([\u001b[38;5;241m1\u001b[39m, \u001b[38;5;241m1\u001b[39m, \u001b[38;5;241m-\u001b[39m\u001b[38;5;241m1\u001b[39m, \u001b[38;5;241m1\u001b[39m, \u001b[38;5;241m-\u001b[39m\u001b[38;5;241m1\u001b[39m, \u001b[38;5;241m-\u001b[39m\u001b[38;5;241m1\u001b[39m, \u001b[38;5;241m1\u001b[39m, \u001b[38;5;241m1\u001b[39m], dtype\u001b[38;5;241m=\u001b[39mtorch\u001b[38;5;241m.\u001b[39mfloat32)\n",
      "\u001b[1;31mNameError\u001b[0m: name 'patterns' is not defined"
     ]
    }
   ],
   "source": [
    "T = M + L\n",
    "\n",
    "hopfield_model = HopfieldNetwork(T)\n",
    "\n",
    "\n",
    "# Store patterns in the Hopfield network\n",
    "ca3_input = torch.cat([y_1, y_hat])\n",
    "hopfield_model.store_pattern(patterns)\n",
    "\n",
    "# Random initial state (T neurons)\n",
    "input_state = torch.tensor([1, 1, -1, 1, -1, -1, 1, 1], dtype=torch.float32)\n",
    "\n",
    "# Forward pass through the Hopfield network (recurrent updates)\n",
    "output_state = hopfield_model(input_state, steps=10)\n",
    "print(output_state)"
   ]
  },
  {
   "cell_type": "code",
   "execution_count": 8,
   "id": "cc0c9ea9",
   "metadata": {},
   "outputs": [
    {
     "data": {
      "text/plain": [
       "torch.Size([25])"
      ]
     },
     "execution_count": 8,
     "metadata": {},
     "output_type": "execute_result"
    }
   ],
   "source": []
  },
  {
   "cell_type": "code",
   "execution_count": 9,
   "id": "6bbb93f6",
   "metadata": {},
   "outputs": [
    {
     "data": {
      "text/plain": [
       "25"
      ]
     },
     "execution_count": 9,
     "metadata": {},
     "output_type": "execute_result"
    }
   ],
   "source": []
  },
  {
   "cell_type": "code",
   "execution_count": 10,
   "id": "84756f52",
   "metadata": {},
   "outputs": [
    {
     "data": {
      "text/plain": [
       "2500"
      ]
     },
     "execution_count": 10,
     "metadata": {},
     "output_type": "execute_result"
    }
   ],
   "source": []
  },
  {
   "cell_type": "code",
   "execution_count": null,
   "id": "27ab45f6",
   "metadata": {},
   "outputs": [],
   "source": []
  }
 ],
 "metadata": {
  "kernelspec": {
   "display_name": "Python 3 (ipykernel)",
   "language": "python",
   "name": "python3"
  },
  "language_info": {
   "codemirror_mode": {
    "name": "ipython",
    "version": 3
   },
   "file_extension": ".py",
   "mimetype": "text/x-python",
   "name": "python",
   "nbconvert_exporter": "python",
   "pygments_lexer": "ipython3",
   "version": "3.10.12"
  }
 },
 "nbformat": 4,
 "nbformat_minor": 5
}
