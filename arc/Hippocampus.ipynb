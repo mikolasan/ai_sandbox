{
 "cells": [
  {
   "attachments": {},
   "cell_type": "markdown",
   "id": "2c36e016",
   "metadata": {},
   "source": [
    "# Hippocampus\n",
    "\n",
    "## Pattern separation\n",
    "\n",
    "Define DG block"
   ]
  },
  {
   "cell_type": "code",
   "execution_count": 69,
   "id": "6c0153ae",
   "metadata": {},
   "outputs": [],
   "source": [
    "import torch\n",
    "import torch.nn as nn\n",
    "import torch.optim as optim\n",
    "\n",
    "class DGModel(nn.Module):\n",
    "    \"\"\"\n",
    "    Goal: separation\n",
    "    Methods: sparsity\n",
    "    \"\"\"\n",
    "    \n",
    "    def __init__(self, input_size, output_size):\n",
    "        super(DGModel, self).__init__()\n",
    "        hidden_layer_size = input_size + output_size // 2\n",
    "        # self.fc1 = nn.Linear(input_size, hidden_layer_size)\n",
    "        # self.fc2 = nn.Linear(hidden_layer_size, output_size)\n",
    "        self.fc1 = nn.Linear(input_size, output_size)\n",
    "        \n",
    "        # Weight initialization (Xavier)\n",
    "        nn.init.xavier_uniform_(self.fc1.weight)\n",
    "        # nn.init.xavier_uniform_(self.fc2.weight)\n",
    "        self.k = 20  # Number of top activations to keep\n",
    "        \n",
    "    def forward(self, x):\n",
    "        with torch.no_grad():  # Ensure no gradients are calculated for this model\n",
    "            x = self.fc1(x)\n",
    "            x = torch.tanh(x)  # Using tanh activation\n",
    "            # x = self.fc2(x)\n",
    "            # x = torch.relu(x)\n",
    "            # Top-k sparsity: keep only top-k values, set others to zero\n",
    "            mask = torch.zeros_like(x)\n",
    "            _, topk_indices = torch.topk(x, self.k)\n",
    "            mask.scatter_(0, topk_indices, 1)\n",
    "            x = x * mask\n",
    "        return x\n"
   ]
  },
  {
   "attachments": {},
   "cell_type": "markdown",
   "id": "7117f047",
   "metadata": {},
   "source": [
    "We need some data to test these blocks"
   ]
  },
  {
   "cell_type": "code",
   "execution_count": 70,
   "id": "6c08061c",
   "metadata": {},
   "outputs": [],
   "source": [
    "import math\n",
    "\n",
    "# dg_model - Sparse encoding\n",
    "N = 25  # Input size\n",
    "M = 25 * 100   # Output size\n",
    "\n",
    "# ec_to_ca3_model - Correcting encoding\n",
    "H = N + M  # Input size\n",
    "L = M   # Output size ?? M ??\n",
    "\n",
    "# ca3_memory_model\n",
    "T = M + L # Input size\n",
    "K = T # Output size = Input size\n",
    "\n",
    "# ca1_model\n",
    "input_size = N + K # the original input pattern + memory\n",
    "hidden_size = math.floor(input_size * 0.7)  # Size of hidden layer\n",
    "output_size = N  # Same as input size for reconstruction\n",
    "\n",
    "# super simple ARC-like example\n",
    "input_1 = torch.tensor([[[[0, 0, 0, 0, 0],\n",
    "                          [0, 0, 0, 0, 0],\n",
    "                          [0, 0, 1, 0, 0],\n",
    "                          [0, 0, 0, 0, 0],\n",
    "                          [0, 0, 0, 0, 0]]]], dtype=torch.float)\n",
    "\n",
    "output_1 = torch.tensor([[[[0, 0, 1, 0, 0],\n",
    "                           [0, 0, 1, 0, 0],\n",
    "                           [1, 1, 1, 1, 1],\n",
    "                           [0, 0, 1, 0, 0],\n",
    "                           [0, 0, 1, 0, 0]]]], dtype=torch.float)\n",
    "\n",
    "input_2 = torch.tensor([[[[0, 0, 0, 0, 0],\n",
    "                          [0, 0, 0, 0, 0],\n",
    "                          [0, 0, 0, 0, 0],\n",
    "                          [0, 0, 0, 0, 0],\n",
    "                          [0, 0, 0, 0, 1]]]], dtype=torch.float)\n",
    "\n",
    "output_2 = torch.tensor([[[[0, 0, 0, 0, 1],\n",
    "                           [0, 0, 0, 0, 1],\n",
    "                           [0, 0, 0, 0, 1],\n",
    "                           [0, 0, 0, 0, 1],\n",
    "                           [1, 1, 1, 1, 1]]]], dtype=torch.float)"
   ]
  },
  {
   "attachments": {},
   "cell_type": "markdown",
   "id": "7715237e",
   "metadata": {},
   "source": [
    "We are going to work with 1D arrays. \n",
    "\n",
    "DG block creates a sparse representation of the input"
   ]
  },
  {
   "cell_type": "code",
   "execution_count": 71,
   "id": "73fb1d74",
   "metadata": {},
   "outputs": [],
   "source": [
    "dg_model = DGModel(N, M)\n",
    "\n",
    "def forward_dg_model(dg_model, x):\n",
    "    return dg_model(x.flatten())\n"
   ]
  },
  {
   "cell_type": "code",
   "execution_count": 72,
   "id": "0d213b30",
   "metadata": {},
   "outputs": [
    {
     "name": "stdout",
     "output_type": "stream",
     "text": [
      "tensor([0., 0., 0.,  ..., -0., 0., 0.])\n",
      "torch.Size([2500])\n"
     ]
    }
   ],
   "source": [
    "x = input_1.flatten()\n",
    "a = output_1.flatten()\n",
    "\n",
    "y = forward_dg_model(dg_model, x)\n",
    "print(y)\n",
    "print(y.shape)"
   ]
  },
  {
   "attachments": {},
   "cell_type": "markdown",
   "id": "68c081a7",
   "metadata": {},
   "source": [
    "Before the sparse representation hits the memory\n",
    "we need to add one independent network between the same input and the memory in parallel.\n",
    "This will be used later as part of retrieval.\n",
    "Its gould would be to help balance between sparse representation and real input and select important regions \n",
    "(that would help with ignoring noise (or with detecting invariants))\n",
    "\n",
    "We add an Encoding model"
   ]
  },
  {
   "cell_type": "code",
   "execution_count": 73,
   "id": "fd5a1728",
   "metadata": {},
   "outputs": [],
   "source": [
    "class EncodingModel(nn.Module):\n",
    "    \"\"\"\n",
    "    Goal: pattern retrieval\n",
    "    Methods: compare sparse representation with the original\n",
    "    \"\"\"\n",
    "    \n",
    "    def __init__(self, input_size, output_size):\n",
    "        super(EncodingModel, self).__init__()\n",
    "        hidden_layer_size = output_size\n",
    "        self.fc1 = nn.Linear(input_size, hidden_layer_size)\n",
    "        self.fc2 = nn.Linear(hidden_layer_size, output_size)\n",
    "        \n",
    "    def forward(self, x):\n",
    "        x = self.fc1(x)\n",
    "        x = torch.relu(x)\n",
    "        x = self.fc2(x)\n",
    "        return x"
   ]
  },
  {
   "cell_type": "code",
   "execution_count": 74,
   "id": "ea184dfb",
   "metadata": {},
   "outputs": [],
   "source": [
    "ec_model = EncodingModel(H, L)\n",
    "ec_optimizer = optim.Adam(ec_model.parameters(), lr=0.001)\n",
    "ec_criterion = nn.MSELoss() # good for comparing pixel values\n",
    "\n",
    "def forward_ec_to_ca3_model(ec_model, x, y):\n",
    "    yy = torch.cat([y, x])\n",
    "    return ec_model(yy)\n",
    "\n",
    "def train_ec_to_ca3_model(ec_model, x, y):\n",
    "    # Zero the parameter gradients\n",
    "    ec_optimizer.zero_grad()\n",
    "\n",
    "    # Compare reconstruction with the original input\n",
    "    \n",
    "    z = forward_ec_to_ca3_model(ec_model, x, y)\n",
    "    loss = ec_criterion(z, y)\n",
    "\n",
    "    # Backward pass: compute gradients\n",
    "    loss.backward()\n",
    "\n",
    "    # Optimization step: update weights\n",
    "    ec_optimizer.step()\n",
    "\n",
    "    print(\"Loss:\", loss.item())\n",
    "    print(\"EC -> CA3 output:\", z)\n",
    "    \n",
    "    return z\n"
   ]
  },
  {
   "cell_type": "code",
   "execution_count": 75,
   "id": "e2963ecc",
   "metadata": {},
   "outputs": [
    {
     "name": "stdout",
     "output_type": "stream",
     "text": [
      "Loss: 0.0006211262079887092\n",
      "EC -> CA3 output: tensor([ 0.0082, -0.0169, -0.0025,  ...,  0.0238, -0.0246,  0.0037],\n",
      "       grad_fn=<AddBackward0>)\n",
      "tensor([ 0.0082, -0.0169, -0.0025,  ...,  0.0238, -0.0246,  0.0037],\n",
      "       grad_fn=<AddBackward0>)\n",
      "torch.Size([2500])\n"
     ]
    }
   ],
   "source": [
    "z = train_ec_to_ca3_model(ec_model, x, y)\n",
    "print(z)\n",
    "print(z.shape)"
   ]
  },
  {
   "cell_type": "code",
   "execution_count": null,
   "id": "ad555220",
   "metadata": {},
   "outputs": [],
   "source": []
  },
  {
   "attachments": {},
   "cell_type": "markdown",
   "id": "76272cbc",
   "metadata": {},
   "source": [
    "## Memory\n",
    "\n",
    "This is where patterns are stored. Associative memory is implemented by classic Hopfield networks (there are also Modern Hopfield Networks that pose as a generalization of Transformers, that is not what is used here :( )"
   ]
  },
  {
   "cell_type": "code",
   "execution_count": 76,
   "id": "da99cd78",
   "metadata": {},
   "outputs": [],
   "source": [
    "import matplotlib.pyplot as plt\n",
    "import matplotlib.cm as cm\n",
    "\n",
    "class HopfieldNetworkTorch(nn.Module):\n",
    "    def __init__(self, num_neurons):\n",
    "        super(HopfieldNetworkTorch, self).__init__()\n",
    "        self.num_neurons = num_neurons\n",
    "        self.weights = torch.zeros(num_neurons, num_neurons)\n",
    "\n",
    "    def store_patterns(self, patterns):\n",
    "        \"\"\"\n",
    "        Store patterns into the weight matrix using Hebbian learning.\n",
    "        Patterns should be a tensor of shape (num_patterns, num_neurons).\n",
    "        \"\"\"\n",
    "        num_patterns = patterns.size(0)\n",
    "        for i in range(num_patterns):\n",
    "            p = patterns[i].unsqueeze(1)  # Make it a column vector\n",
    "            self.weights += torch.mm(p, p.T)  # Hebbian learning rule\n",
    "        # Ensure weights on the diagonal are zero\n",
    "        self.weights.fill_diagonal_(0)\n",
    "        self.weights /= num_patterns  # Normalize by the number of patterns\n",
    "    \n",
    "    def store_pattern(self, pattern):\n",
    "        p = pattern.unsqueeze(1) * 10.0  # Make it a column vector\n",
    "        self.weights += torch.mm(p, p.T) # Hebbian learning rule\n",
    "        # Ensure weights on the diagonal are zero\n",
    "        self.weights.fill_diagonal_(0)\n",
    "\n",
    "    def forward(self, input_state, max_steps=100):\n",
    "        \"\"\"\n",
    "        Forward pass: iteratively update the states of the network.\n",
    "        Returns early if a stable state is reached.\n",
    "        \"\"\"\n",
    "        with torch.no_grad():  # Ensure no gradients are calculated for this model\n",
    "            state = input_state.clone()\n",
    "            prev_state = state.clone()\n",
    "\n",
    "            for _ in range(max_steps):\n",
    "                # Update all neurons at once for simplicity\n",
    "                net_input = torch.matmul(self.weights, state)  # Weighted sum of inputs\n",
    "                state = torch.tanh(net_input)  # Continuous activation (differentiable)\n",
    "            \n",
    "                # For each neuron, update its state\n",
    "                # for i in range(self.num_neurons):\n",
    "                #     net_input = torch.dot(self.weights[i], state)  # Weighted sum of inputs\n",
    "                #     state[i] = 1 if net_input >= 0 else -1  # Update rule (sign function)\n",
    "\n",
    "                # Early stopping if state does not change\n",
    "                if torch.equal(state, prev_state):\n",
    "                    break\n",
    "                prev_state = state.clone()\n",
    "\n",
    "            return state\n",
    "      \n",
    "    def plot_weights(self):\n",
    "        plt.figure(figsize=(6, 5))\n",
    "        w_mat = plt.imshow(self.weights.detach().numpy(), cmap=cm.coolwarm)\n",
    "        plt.colorbar(w_mat)\n",
    "        plt.title(\"Network Weights\")\n",
    "        plt.tight_layout()\n",
    "        plt.show()"
   ]
  },
  {
   "cell_type": "code",
   "execution_count": 77,
   "id": "e6b2b56c",
   "metadata": {},
   "outputs": [],
   "source": [
    "\n",
    "hopfield_model = HopfieldNetworkTorch(T)\n",
    "\n",
    "def forward_ca3_memory_model(hopfield_model, y, z):\n",
    "    ca3_input = torch.cat([y, z]) # y -> M, z -> L\n",
    "    input_state = torch.tensor(ca3_input, dtype=torch.float32)\n",
    "    u = hopfield_model(input_state)\n",
    "    return u\n",
    "\n",
    "def train_ca3_memory_model(hopfield_model, y, z):\n",
    "    ca3_input = torch.cat([y, z])\n",
    "    hopfield_model.store_pattern(ca3_input)\n",
    "    u = forward_ca3_memory_model(hopfield_model, y, z)\n",
    "    return u\n"
   ]
  },
  {
   "cell_type": "code",
   "execution_count": 78,
   "id": "4d4f88bf",
   "metadata": {},
   "outputs": [
    {
     "name": "stderr",
     "output_type": "stream",
     "text": [
      "C:\\Users\\neupo\\AppData\\Local\\Temp\\ipykernel_12332\\506196239.py:5: UserWarning: To copy construct from a tensor, it is recommended to use sourceTensor.clone().detach() or sourceTensor.clone().detach().requires_grad_(True), rather than torch.tensor(sourceTensor).\n",
      "  input_state = torch.tensor(ca3_input, dtype=torch.float32)\n"
     ]
    }
   ],
   "source": [
    "u = train_ca3_memory_model(hopfield_model, y, z)"
   ]
  },
  {
   "cell_type": "code",
   "execution_count": 79,
   "id": "cc0c9ea9",
   "metadata": {},
   "outputs": [
    {
     "data": {
      "image/png": "[encoded data removed]",
      "text/plain": [
       "<Figure size 600x500 with 2 Axes>"
      ]
     },
     "metadata": {},
     "output_type": "display_data"
    }
   ],
   "source": [
    "hopfield_model.plot_weights()"
   ]
  },
  {
   "cell_type": "code",
   "execution_count": 80,
   "id": "2e9fb852",
   "metadata": {},
   "outputs": [],
   "source": [
    "import torch.nn.functional as F\n",
    "\n",
    "class Attention(nn.Module):\n",
    "    def __init__(self, h, d_model, d_context, d_output):\n",
    "        super(Attention, self).__init__()\n",
    "        self.h = h\n",
    "        self.d_k = d_model // h\n",
    "        self.d_v = d_context\n",
    "        self.q_linear = nn.Linear(d_model, d_model)\n",
    "        self.k_linear = nn.Linear(d_model, d_model)\n",
    "        self.v_linear = nn.Linear(d_model, d_model)\n",
    "        self.out_linear = nn.Linear(d_model, d_output)\n",
    "\n",
    "    def forward(self, z):\n",
    "        if len(z.shape) == 1:\n",
    "            batch_size = 1\n",
    "        else:\n",
    "            batch_size = z.shape[0]\n",
    "        \n",
    "        zz = z.view(batch_size, self.d_k)\n",
    "        q = zz[:, :]\n",
    "        k = zz[:, :]\n",
    "        v = zz[:, :]\n",
    "        \n",
    "        query = self.q_linear(q)\n",
    "        key = self.k_linear(k)\n",
    "        value = self.v_linear(v)\n",
    "        \n",
    "        key_t = key.transpose(-2, -1)\n",
    "        scores = torch.matmul(query, key_t) / math.sqrt(self.d_k)\n",
    "        for x in range(self.d_v):\n",
    "            for y in range(self.d_v):\n",
    "                if y < x:\n",
    "                    scores[:, x, y] = torch.zeros((batch_size))\n",
    "                    \n",
    "        p_attn = F.softmax(scores, dim=-1)\n",
    "\n",
    "        x = torch.matmul(p_attn, value)\n",
    "\n",
    "        x = self.out_linear(x)\n",
    "        x = torch.sum(x, 1)\n",
    "        return x"
   ]
  },
  {
   "attachments": {},
   "cell_type": "markdown",
   "id": "40979f53",
   "metadata": {},
   "source": [
    "### Visualization\n",
    "\n",
    "This is what is really stored in memory. Trying to grasp what kind of transformation happens in these three networks."
   ]
  },
  {
   "cell_type": "code",
   "execution_count": 81,
   "id": "dbd2f83c",
   "metadata": {},
   "outputs": [
    {
     "data": {
      "image/png": "[encoded data removed]",
      "text/plain": [
       "<Figure size 1200x400 with 4 Axes>"
      ]
     },
     "metadata": {},
     "output_type": "display_data"
    }
   ],
   "source": [
    "cmap = plt.cm.gray\n",
    "norm = plt.Normalize(vmin=-1, vmax=1)\n",
    "\n",
    "fig, axs = plt.subplots(1, 4, figsize=(12, 4))\n",
    "axs[0].imshow(x.view(5,5), cmap=plt.cm.gray_r, norm=norm)\n",
    "axs[1].imshow(y.view(50, 50), cmap=plt.cm.gray_r, norm=norm)\n",
    "axs[2].imshow(z.detach().view(50, 50), cmap=plt.cm.gray_r, norm=norm)\n",
    "axs[3].imshow(u.view(100, 50), cmap=plt.cm.gray_r, norm=norm)\n",
    "\n",
    "\n",
    "# Plot the figure\n",
    "#plt.figure(figsize=(6, 4))\n",
    "#plt.imshow(x, cmap=plt.cm.gray_r, norm=norm)\n",
    "plt.xticks([])  # No ticks on x axis\n",
    "plt.yticks([])  # No ticks on y axis\n",
    "plt.tight_layout()\n",
    "plt.grid(False)\n",
    "plt.show()"
   ]
  },
  {
   "attachments": {},
   "cell_type": "markdown",
   "id": "a1c7e2e6",
   "metadata": {},
   "source": [
    "## Mapping and reconstruction\n",
    "\n",
    "This is the last block that is mainly used for retrieval.  "
   ]
  },
  {
   "cell_type": "code",
   "execution_count": 82,
   "metadata": {},
   "outputs": [],
   "source": [
    "class MappingModel(nn.Module):\n",
    "    \"\"\"\n",
    "    Goal: pattern mapping\n",
    "    Methods: compare what stored in memory with the original\n",
    "    \"\"\"\n",
    "    \n",
    "    def __init__(self, input_size, hidden_size, output_size):\n",
    "        super(MappingModel, self).__init__()\n",
    "        \n",
    "        # Layers for mapping and reconstruction\n",
    "        self.fc_map = nn.Linear(input_size, hidden_size)  # Map Hopfield output to hidden representation\n",
    "        self.fc_reconstruct = nn.Linear(hidden_size, output_size)  # Reconstruct to original size\n",
    "\n",
    "    def forward(self, x):\n",
    "        \"\"\"\n",
    "        Forward pass compares stored Hopfield output with the original input\n",
    "        \"\"\"\n",
    "        # Map the Hopfield output to a hidden representation\n",
    "        mapping = self.fc_map(x)\n",
    "        hidden_repr = torch.relu(mapping)\n",
    "        reconstructed_input = self.fc_reconstruct(hidden_repr)\n",
    "        return reconstructed_input"
   ]
  },
  {
   "cell_type": "code",
   "execution_count": 83,
   "id": "b54454f6",
   "metadata": {},
   "outputs": [],
   "source": [
    "\n",
    "# Instantiate the model\n",
    "ca1_model = MappingModel(input_size, hidden_size, output_size)\n",
    "\n",
    "# Define optimizer (e.g., Adam)\n",
    "ca1_optimizer = optim.Adam(ca1_model.parameters(), lr=0.0001)\n",
    "\n",
    "ca1_criterion = nn.MSELoss() # good for comparing pixel values\n",
    "\n",
    "def forward_ca1_model(ca1_model, u, x):\n",
    "    ca1_input = torch.cat([u, x]) # u -> K, x -> N\n",
    "    # Compare reconstruction with the original input\n",
    "    v = ca1_model(ca1_input)\n",
    "    return v\n",
    "    \n",
    "def train_ca1_model(ca1_model, u, x, a):\n",
    "    # Zero the parameter gradients\n",
    "    ca1_optimizer.zero_grad()\n",
    "\n",
    "    v = forward_ca1_model(ca1_model, u, x)\n",
    "    loss = ca1_criterion(v, a)\n",
    "\n",
    "    # Backward pass: compute gradients\n",
    "    loss.backward()\n",
    "\n",
    "    # Optimization step: update weights\n",
    "    ca1_optimizer.step()\n",
    "\n",
    "    print(\"Loss:\", loss.item())\n",
    "    print(\"Reconstructed Input:\", v)\n",
    "    \n",
    "    return v"
   ]
  },
  {
   "cell_type": "code",
   "execution_count": 84,
   "id": "573fe6c3",
   "metadata": {},
   "outputs": [
    {
     "name": "stdout",
     "output_type": "stream",
     "text": [
      "Loss: 0.2707344889640808\n",
      "Reconstructed Input: tensor([-0.2383,  0.1909,  0.1025,  0.1660, -0.1097, -0.0726,  0.1836,  0.0971,\n",
      "        -0.1561,  0.0087,  0.1287,  0.1508,  0.4054,  0.1189,  0.0207,  0.0772,\n",
      "        -0.1099,  0.3489,  0.1440,  0.0867,  0.0114, -0.0404,  0.0728,  0.0097,\n",
      "         0.2246], grad_fn=<AddBackward0>)\n"
     ]
    },
    {
     "data": {
      "image/png": "[encoded data removed]",
      "text/plain": [
       "<Figure size 600x400 with 1 Axes>"
      ]
     },
     "metadata": {},
     "output_type": "display_data"
    }
   ],
   "source": [
    "v = train_ca1_model(ca1_model, u, x, a)\n",
    "\n",
    "# Plot the figure\n",
    "plt.figure(figsize=(6, 4))\n",
    "plt.imshow(v.view(5,5).detach(), cmap=plt.cm.gray_r, norm=norm)\n",
    "plt.xticks([])  # No ticks on x axis\n",
    "plt.yticks([])  # No ticks on y axis\n",
    "plt.tight_layout()\n",
    "plt.grid(False)\n",
    "plt.show()"
   ]
  },
  {
   "cell_type": "code",
   "execution_count": 85,
   "id": "d11f9446",
   "metadata": {},
   "outputs": [
    {
     "name": "stdout",
     "output_type": "stream",
     "text": [
      "Loss: 0.020682642236351967\n",
      "Reconstructed Input: tensor([-0.1201, -0.0902,  1.2224,  0.0290,  0.1044,  0.0471, -0.0123,  1.2854,\n",
      "        -0.0293, -0.0150,  1.0077,  1.2770,  1.0287,  1.1446,  1.2391,  0.0470,\n",
      "         0.0736,  1.1066, -0.0707,  0.0660, -0.0506,  0.0314,  1.3896, -0.0258,\n",
      "        -0.0917], grad_fn=<AddBackward0>)\n"
     ]
    },
    {
     "data": {
      "image/png": "[encoded data removed]",
      "text/plain": [
       "<Figure size 600x400 with 1 Axes>"
      ]
     },
     "metadata": {},
     "output_type": "display_data"
    }
   ],
   "source": [
    "# Another step\n",
    "v = train_ca1_model(ca1_model, u, x, a)\n",
    "\n",
    "plt.figure(figsize=(6, 4))\n",
    "plt.imshow(v.view(5,5).detach(), cmap=plt.cm.gray_r, norm=norm)\n",
    "plt.xticks([])  # No ticks on x axis\n",
    "plt.yticks([])  # No ticks on y axis\n",
    "plt.tight_layout()\n",
    "plt.grid(False)\n",
    "plt.show()"
   ]
  },
  {
   "cell_type": "code",
   "execution_count": 86,
   "id": "de438d54",
   "metadata": {},
   "outputs": [
    {
     "name": "stdout",
     "output_type": "stream",
     "text": [
      "Loss: 0.002899324521422386\n",
      "EC -> CA3 output: tensor([-0.0564,  0.0533,  0.0453,  ..., -0.0521,  0.0450, -0.0471],\n",
      "       grad_fn=<AddBackward0>)\n",
      "Loss: 0.5027092695236206\n",
      "Reconstructed Input: tensor([-0.0015, -0.0290, -0.5318,  0.3455, -0.1010, -0.3115, -0.0784, -0.3115,\n",
      "         0.2311,  0.0586, -0.3552, -0.3319, -0.0847,  0.1983, -0.5948, -0.0863,\n",
      "         0.1181, -0.2625,  0.1293,  0.1521, -0.1481,  0.2291, -0.4686,  0.0050,\n",
      "        -0.0494], grad_fn=<AddBackward0>)\n"
     ]
    },
    {
     "name": "stderr",
     "output_type": "stream",
     "text": [
      "C:\\Users\\neupo\\AppData\\Local\\Temp\\ipykernel_12332\\506196239.py:5: UserWarning: To copy construct from a tensor, it is recommended to use sourceTensor.clone().detach() or sourceTensor.clone().detach().requires_grad_(True), rather than torch.tensor(sourceTensor).\n",
      "  input_state = torch.tensor(ca3_input, dtype=torch.float32)\n"
     ]
    }
   ],
   "source": [
    "\n",
    "x = input_2.flatten()\n",
    "a = output_2.flatten()\n",
    "\n",
    "y = forward_dg_model(dg_model, x)\n",
    "z = train_ec_to_ca3_model(ec_model, x, y)\n",
    "u = train_ca3_memory_model(hopfield_model, y, z)\n",
    "v = train_ca1_model(ca1_model, u, x, a)\n"
   ]
  },
  {
   "cell_type": "code",
   "execution_count": 87,
   "id": "2b7fa147",
   "metadata": {},
   "outputs": [
    {
     "data": {
      "image/png": "[encoded data removed]",
      "text/plain": [
       "<Figure size 1200x400 with 5 Axes>"
      ]
     },
     "metadata": {},
     "output_type": "display_data"
    }
   ],
   "source": [
    "fig, axs = plt.subplots(1, 5, figsize=(12, 4))\n",
    "axs[0].imshow(x.view(5,5), cmap=plt.cm.gray_r, norm=norm)\n",
    "axs[1].imshow(y.view(50, 50), cmap=plt.cm.gray_r, norm=norm)\n",
    "axs[2].imshow(z.detach().view(50, 50), cmap=plt.cm.gray_r, norm=norm)\n",
    "axs[3].imshow(u.view(100, 50), cmap=plt.cm.gray_r, norm=norm)\n",
    "axs[4].imshow(v.view(5, 5).detach(), cmap=plt.cm.gray_r, norm=norm)\n",
    "\n",
    "plt.xticks([])  # No ticks on x axis\n",
    "plt.yticks([])  # No ticks on y axis\n",
    "plt.tight_layout()\n",
    "plt.grid(False)\n",
    "plt.show()"
   ]
  },
  {
   "cell_type": "code",
   "execution_count": 88,
   "id": "b47a543c",
   "metadata": {},
   "outputs": [
    {
     "name": "stdout",
     "output_type": "stream",
     "text": [
      "Loss: 0.04400596022605896\n",
      "Reconstructed Input: tensor([-0.0353,  0.0288, -0.2453,  0.1649,  0.8296, -0.0965,  0.0076, -0.1226,\n",
      "        -0.0992,  0.6567, -0.2159, -0.0971, -0.1764, -0.1578,  0.4786,  0.0364,\n",
      "         0.0684, -0.1597,  0.0480,  0.7700,  0.8626,  0.8835,  0.5358,  0.7423,\n",
      "         0.7886], grad_fn=<AddBackward0>)\n"
     ]
    },
    {
     "data": {
      "image/png": "[encoded data removed]",
      "text/plain": [
       "<Figure size 600x400 with 1 Axes>"
      ]
     },
     "metadata": {},
     "output_type": "display_data"
    }
   ],
   "source": [
    "# Another step\n",
    "v = train_ca1_model(ca1_model, u, x, a)\n",
    "\n",
    "plt.figure(figsize=(6, 4))\n",
    "plt.imshow(v.view(5,5).detach(), cmap=plt.cm.gray_r, norm=norm)\n",
    "plt.xticks([])  # No ticks on x axis\n",
    "plt.yticks([])  # No ticks on y axis\n",
    "plt.tight_layout()\n",
    "plt.grid(False)\n",
    "plt.show()"
   ]
  },
  {
   "cell_type": "code",
   "execution_count": 89,
   "id": "35ca4ef7",
   "metadata": {},
   "outputs": [
    {
     "name": "stderr",
     "output_type": "stream",
     "text": [
      "C:\\Users\\neupo\\AppData\\Local\\Temp\\ipykernel_12332\\506196239.py:5: UserWarning: To copy construct from a tensor, it is recommended to use sourceTensor.clone().detach() or sourceTensor.clone().detach().requires_grad_(True), rather than torch.tensor(sourceTensor).\n",
      "  input_state = torch.tensor(ca3_input, dtype=torch.float32)\n"
     ]
    },
    {
     "data": {
      "image/png": "[encoded data removed]",
      "text/plain": [
       "<Figure size 1200x400 with 5 Axes>"
      ]
     },
     "metadata": {},
     "output_type": "display_data"
    }
   ],
   "source": [
    "\n",
    "x = input_1.flatten()\n",
    "a = output_1.flatten()\n",
    "\n",
    "with torch.no_grad():\n",
    "    y = forward_dg_model(dg_model, x)\n",
    "    z = forward_ec_to_ca3_model(ec_model, x, y)\n",
    "    u = forward_ca3_memory_model(hopfield_model, y, z)\n",
    "    v = forward_ca1_model(ca1_model, u, x)\n",
    "\n",
    "    fig, axs = plt.subplots(1, 5, figsize=(12, 4))\n",
    "    axs[0].imshow(x.view(5,5), cmap=plt.cm.gray_r, norm=norm)\n",
    "    axs[1].imshow(y.view(50, 50), cmap=plt.cm.gray_r, norm=norm)\n",
    "    axs[2].imshow(z.detach().view(50, 50), cmap=plt.cm.gray_r, norm=norm)\n",
    "    axs[3].imshow(u.view(100, 50), cmap=plt.cm.gray_r, norm=norm)\n",
    "    axs[4].imshow(v.view(5, 5).detach(), cmap=plt.cm.gray_r, norm=norm)\n",
    "\n",
    "plt.xticks([])  # No ticks on x axis\n",
    "plt.yticks([])  # No ticks on y axis\n",
    "plt.tight_layout()\n",
    "plt.grid(False)\n",
    "plt.show()"
   ]
  },
  {
   "cell_type": "code",
   "execution_count": 90,
   "id": "67685043",
   "metadata": {},
   "outputs": [
    {
     "name": "stderr",
     "output_type": "stream",
     "text": [
      "C:\\Users\\neupo\\AppData\\Local\\Temp\\ipykernel_12332\\506196239.py:5: UserWarning: To copy construct from a tensor, it is recommended to use sourceTensor.clone().detach() or sourceTensor.clone().detach().requires_grad_(True), rather than torch.tensor(sourceTensor).\n",
      "  input_state = torch.tensor(ca3_input, dtype=torch.float32)\n"
     ]
    },
    {
     "data": {
      "image/png": "[encoded data removed]",
      "text/plain": [
       "<Figure size 400x400 with 2 Axes>"
      ]
     },
     "metadata": {},
     "output_type": "display_data"
    }
   ],
   "source": [
    "\n",
    "with torch.no_grad():\n",
    "    x1 = input_1.flatten()\n",
    "    a1 = output_1.flatten()\n",
    "\n",
    "    y1 = forward_dg_model(dg_model, x1)\n",
    "    z1 = forward_ec_to_ca3_model(ec_model, x1, y1)\n",
    "    u1 = forward_ca3_memory_model(hopfield_model, y1, z1)\n",
    "\n",
    "    x2 = input_2.flatten()\n",
    "    a2 = output_2.flatten()\n",
    "\n",
    "    y2 = forward_dg_model(dg_model, x2)\n",
    "    z2 = forward_ec_to_ca3_model(ec_model, x2, y2)\n",
    "    u2 = forward_ca3_memory_model(hopfield_model, y2, z2)\n",
    "\n",
    "\n",
    "    fig, axs = plt.subplots(1, 2, figsize=(4, 4))\n",
    "    axs[0].imshow(u1.view(100, 50), cmap=plt.cm.gray_r, norm=norm)\n",
    "    axs[1].imshow(u2.view(100, 50), cmap=plt.cm.gray_r, norm=norm)\n",
    "\n",
    "\n",
    "plt.xticks([])  # No ticks on x axis\n",
    "plt.yticks([])  # No ticks on y axis\n",
    "plt.tight_layout()\n",
    "plt.grid(False)\n",
    "plt.show()"
   ]
  },
  {
   "cell_type": "code",
   "execution_count": null,
   "id": "71bd9c4c",
   "metadata": {},
   "outputs": [],
   "source": []
  }
 ],
 "metadata": {
  "kernelspec": {
   "display_name": "Python 3 (ipykernel)",
   "language": "python",
   "name": "python3"
  },
  "language_info": {
   "codemirror_mode": {
    "name": "ipython",
    "version": 3
   },
   "file_extension": ".py",
   "mimetype": "text/x-python",
   "name": "python",
   "nbconvert_exporter": "python",
   "pygments_lexer": "ipython3",
   "version": "3.10.12"
  }
 },
 "nbformat": 4,
 "nbformat_minor": 5
}
