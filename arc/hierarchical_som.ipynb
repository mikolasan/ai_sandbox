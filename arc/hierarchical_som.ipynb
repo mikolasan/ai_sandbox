{
 "cells": [
  {
   "attachments": {},
   "cell_type": "markdown",
   "metadata": {},
   "source": [
    "# Self organizing maps"
   ]
  },
  {
   "attachments": {},
   "cell_type": "markdown",
   "metadata": {},
   "source": [
    "This is SOM but not SOM"
   ]
  },
  {
   "attachments": {},
   "cell_type": "markdown",
   "metadata": {},
   "source": [
    "## Sub-area connections\n",
    "\n",
    "We will start with a network that has 3 layers. The first layer is sensors. And the network will have a difference with standard artificial neural networks. \n",
    "\n",
    "The difference is that every neuron $i$ in the presynaptic layer has a matrix $W_i$ instead of having only one matrix $W$ for the whole layer. These matrices, $W_i$ connect the neuron $i$ with a subset of neurons in the next layer. This subset is a group of neurons located just above the neuron $i$ within a radius $r$."
   ]
  },
  {
   "cell_type": "code",
   "execution_count": 1,
   "metadata": {},
   "outputs": [],
   "source": [
    "import random\n",
    "\n",
    "import torch\n",
    "import torch.nn as nn\n",
    "import torch.optim as optim"
   ]
  },
  {
   "cell_type": "code",
   "execution_count": 2,
   "metadata": {},
   "outputs": [
    {
     "name": "stdout",
     "output_type": "stream",
     "text": [
      "0 0.0 0\n",
      "1 0.3333333333333333 0\n",
      "2 0.6666666666666666 0\n",
      "3 1.0 1\n",
      "4 1.3333333333333333 1\n",
      "5 1.6666666666666665 1\n",
      "6 2.0 2\n",
      "7 2.333333333333333 2\n",
      "8 2.6666666666666665 2\n",
      "9 3.0 3\n",
      "10 3.333333333333333 3\n",
      "11 3.6666666666666665 3\n",
      "12 4.0 4\n",
      "13 4.333333333333333 4\n",
      "14 4.666666666666666 4\n"
     ]
    }
   ],
   "source": [
    "import math\n",
    "\n",
    "input_x = 15\n",
    "output_x = 9\n",
    "radius = 4\n",
    "for i in range(input_x):\n",
    "    k = ((output_x - radius) / input_x) * i\n",
    "    print(i, k, math.floor(k))"
   ]
  },
  {
   "cell_type": "code",
   "execution_count": 3,
   "metadata": {},
   "outputs": [],
   "source": [
    "class ColumnLayer:\n",
    "    def __init__(self, input_shape, output_shape, radius, init_std=0.01):\n",
    "        \"\"\"\n",
    "        Initialize the network.\n",
    "        \n",
    "        Args:\n",
    "            input_shape (tuple): Shape of the input layer (height, width).\n",
    "            output_shape (tuple): Shape of the output layer (height, width).\n",
    "            radius (int): Radius for the connection neighborhood.\n",
    "            init_std (float): Standard deviation for weight initialization.\n",
    "        \"\"\"\n",
    "        self.input_shape = input_shape\n",
    "        self.output_shape = output_shape\n",
    "        self.radius = radius\n",
    "        \n",
    "        # Initialize weights for each neuron in the input grid\n",
    "        self.weights = []\n",
    "        for i in range(input_shape[0]):\n",
    "            row_weights = []\n",
    "            for j in range(input_shape[1]):\n",
    "                w_shape = (self.radius, self.radius)\n",
    "                row_weights.append(torch.randn(w_shape) * init_std)\n",
    "            self.weights.append(row_weights)\n",
    "\n",
    "    def area_position(self, x, y):\n",
    "        row_start = math.floor(((self.output_shape[0] - self.radius) / self.input_shape[0]) * x)\n",
    "        row_end = row_start + self.radius\n",
    "        col_start = math.floor(((self.output_shape[1] - self.radius) / self.input_shape[1]) * y)\n",
    "        col_end = col_start + self.radius\n",
    "        \n",
    "        return (slice(row_start, row_end), slice(col_start, col_end))\n",
    "    \n",
    "    def forward(self, input_grid):\n",
    "        \"\"\"\n",
    "        Perform a forward pass of the network.\n",
    "        \n",
    "        Args:\n",
    "            input_grid (torch.Tensor): Input tensor of shape (H_in, W_in).\n",
    "        \n",
    "        Returns:\n",
    "            torch.Tensor: Output tensor of shape (H_out, W_out).\n",
    "        \"\"\"\n",
    "        output_grid = torch.zeros(self.output_shape)\n",
    "        \n",
    "        for i in range(self.input_shape[0]):\n",
    "            for j in range(self.input_shape[1]):\n",
    "                weight = self.weights[i][j]\n",
    "                (x_s, y_s) = self.area_position(i, j)\n",
    "                output_slice = output_grid[x_s, y_s]\n",
    "                \n",
    "                # Update the output slice based on the weight and input\n",
    "                output_slice += input_grid[i, j] * weight\n",
    "                \n",
    "        return output_grid\n",
    "\n",
    "    def update_weights(self, x, y_t, learning_rate=0.05):\n",
    "        \"\"\"\n",
    "        Manually update weights based on provided gradients.\n",
    "        \n",
    "        Args:\n",
    "            gradients (list of lists of torch.Tensor): Gradient for each weight matrix.\n",
    "            learning_rate (float): Learning rate for weight updates.\n",
    "        \"\"\"\n",
    "        for i in range(self.input_shape[0]):\n",
    "            for j in range(self.input_shape[1]):\n",
    "                \n",
    "                w = self.weights[i][j]\n",
    "                (x_s, y_s) = self.area_position(i, j)\n",
    "                oja = y_t * (x - y_t * w)\n",
    "                self.weights[i][j] += learning_rate * oja\n",
    "\n"
   ]
  },
  {
   "attachments": {},
   "cell_type": "markdown",
   "metadata": {},
   "source": [
    "We have inputs to an Artificial Neural Network like these:"
   ]
  },
  {
   "cell_type": "code",
   "execution_count": 4,
   "metadata": {},
   "outputs": [],
   "source": [
    "input = torch.tensor([\n",
    "  [0, 0, 0, 0, 0],\n",
    "  [0, 0, 0, 0, 0],\n",
    "  [0, 0, 0, 0, 0],\n",
    "  [0, 0, 0, 0, 0],\n",
    "  [1, 1, 1, 1, 1]\n",
    "], dtype=torch.float)"
   ]
  },
  {
   "attachments": {},
   "cell_type": "markdown",
   "metadata": {},
   "source": [
    "They represent some geometric objects. In this case it's a line.\n",
    "\n",
    "The receptive field in our ANN will be bigger than this input. Every input is randomly moved.\n",
    "\n",
    "So next, we take the input and create K=5 displacements (moving the original tensor in receptive field by (x,y) offset)."
   ]
  },
  {
   "cell_type": "code",
   "execution_count": 5,
   "metadata": {},
   "outputs": [],
   "source": [
    "K = 5\n",
    "N = 15"
   ]
  },
  {
   "cell_type": "code",
   "execution_count": 6,
   "metadata": {},
   "outputs": [],
   "source": [
    "def create_displaced_tensors(tensor, K, receptive_field_size=(15, 15)):\n",
    "    \"\"\"\n",
    "    Creates K displacements of the input tensor by moving it within a larger receptive field.\n",
    "    \n",
    "    Parameters:\n",
    "        tensor (torch.Tensor): The original input tensor of shape (5, 5).\n",
    "        K (int): The number of displacements to create.\n",
    "        receptive_field_size (tuple): The dimensions of the receptive field (height, width).\n",
    "        \n",
    "    Returns:\n",
    "        batch of tensors: A tensor of K tensors with the original tensor displaced within the receptive field.\n",
    "    \"\"\"\n",
    "    \n",
    "    # Create a larger tensor filled with zeros (the receptive field)\n",
    "    receptive_field_h, receptive_field_w = receptive_field_size\n",
    "    displaced_tensors = torch.zeros(K, receptive_field_h, receptive_field_w, dtype=tensor.dtype)\n",
    "    \n",
    "    # Calculate padding size based on the receptive field dimensions\n",
    "    input_h, input_w = tensor.shape\n",
    "    padding_h = receptive_field_h - input_h\n",
    "    padding_w = receptive_field_w - input_w\n",
    "    \n",
    "    for i in range(K):\n",
    "        # Randomly choose top-left corner for placing the input tensor within the receptive field\n",
    "        max_x_offset = padding_h\n",
    "        max_y_offset = padding_w\n",
    "        x_offset = random.randint(0, max_x_offset)\n",
    "        y_offset = random.randint(0, max_y_offset)\n",
    "        \n",
    "        # Place the input tensor within the receptive field at the chosen offset\n",
    "        displaced_tensors[i, x_offset:x_offset + input_h, y_offset:y_offset + input_w] = tensor\n",
    "\n",
    "    return displaced_tensors\n",
    "\n",
    "input_saccades = create_displaced_tensors(input,\n",
    "                                          K=K,\n",
    "                                          receptive_field_size=(N, N))"
   ]
  },
  {
   "cell_type": "code",
   "execution_count": 7,
   "metadata": {},
   "outputs": [],
   "source": [
    "import matplotlib.pyplot as plt\n",
    "import matplotlib.cm as cm"
   ]
  },
  {
   "cell_type": "code",
   "execution_count": 8,
   "metadata": {},
   "outputs": [
    {
     "data": {
      "image/png": "[encoded data removed]",
      "text/plain": [
       "<Figure size 1200x400 with 5 Axes>"
      ]
     },
     "metadata": {},
     "output_type": "display_data"
    }
   ],
   "source": [
    "fig, axs = plt.subplots(1, K, figsize=(12, 4))\n",
    "for i in range(K):\n",
    "    axs[i].imshow(input_saccades[i].detach().numpy(), cmap=cm.Purples)\n",
    "\n",
    "plt.tight_layout()\n",
    "plt.show()\n"
   ]
  },
  {
   "cell_type": "code",
   "execution_count": 9,
   "metadata": {},
   "outputs": [],
   "source": [
    "new_input = torch.tensor([\n",
    "  [1, 1, 1, 1, 1],\n",
    "  [1, 0, 0, 0, 1],\n",
    "  [1, 0, 0, 0, 1],\n",
    "  [1, 0, 0, 0, 1],\n",
    "  [1, 1, 1, 1, 1]\n",
    "], dtype=torch.float)\n",
    "test_set = create_displaced_tensors(new_input,\n",
    "                                    K=K,\n",
    "                                    receptive_field_size=(N, N))"
   ]
  },
  {
   "cell_type": "code",
   "execution_count": 10,
   "metadata": {},
   "outputs": [],
   "source": [
    "input_shape = (N, N)\n",
    "output_shape = (8, 8)\n",
    "radius = 4\n",
    "\n",
    "layer = ColumnLayer(input_shape, output_shape, radius, init_std=0.01)"
   ]
  },
  {
   "cell_type": "code",
   "execution_count": 11,
   "metadata": {},
   "outputs": [
    {
     "data": {
      "image/png": "[encoded data removed]",
      "text/plain": [
       "<Figure size 1200x400 with 5 Axes>"
      ]
     },
     "metadata": {},
     "output_type": "display_data"
    }
   ],
   "source": [
    "fig, axs = plt.subplots(1, K, figsize=(12, 4))\n",
    "for i in range(K):\n",
    "    x = input_saccades[i] # what is activated from sensors\n",
    "    y = layer.forward(x)\n",
    "    # y_t = y.unsqueeze(0).T\n",
    "    # layer.update_weights(x, y_t)\n",
    "    axs[i].imshow(y.detach().numpy(), cmap=cm.Purples)\n",
    "\n",
    "plt.tight_layout()\n",
    "plt.show()"
   ]
  },
  {
   "attachments": {},
   "cell_type": "markdown",
   "metadata": {},
   "source": [
    "## Columns\n",
    "\n",
    "In order to prepare the network to have connections in more sparse but also tangled way, we need more intricate structures that represent these connections.\n",
    "\n",
    "First of all, there is no need to connect a neuron from one corner to absolutely opposite area on the next layer. Neurons are generally organized in columns. So higher amount of connected layers prevails over simultaneous connections to all the neurons on the next level. Which means that instead of a big matrix $W$ that covers the whole layer, we will be using smaller matrices $W_r$ that work only within a radius $r$. Although that radius covers several layers above the neuron.\n",
    "\n",
    "And there are two approaches here. One is when the matrix is assigned to the initiating neuron. It is absolutely straight forward for the forward pass because it follows the activation potential.\n",
    "\n",
    "One the other side, it mixes synapses from different neurons and doesn't represent the full picture of the full dendrite network of one neuron. So this is the opposite matrix that has all synapses for all dendrites.\n",
    "\n",
    "When you know all activations from sensors then in the first case matrices will define what next neurons are activated. In the second case, matrices from all neurons should be applied because sensors don't have information about post synaptic connections.\n",
    "\n",
    "The diff for the learning update is simpler for the second case because it applies to every matrix separately. While in the first case the update is a sum of several matrices (the number is not known). But the update must happen along the activation path and doesn't need to affect the whole neuron. Which means the first method is preferable."
   ]
  },
  {
   "cell_type": "code",
   "execution_count": 78,
   "metadata": {},
   "outputs": [],
   "source": [
    "class Neuron:\n",
    "    def __init__(self, pos, \n",
    "                 field_height,\n",
    "                 field_width,\n",
    "                 column_height, \n",
    "                 column_width, \n",
    "                 n_dendrites, \n",
    "                 n_synapses):\n",
    "        self.pos = pos\n",
    "        self.max_pos_y = field_height\n",
    "        self.max_pos_x = field_width\n",
    "        self.column_height = column_height\n",
    "        self.column_width = column_width\n",
    "        self.n_dendrites = n_dendrites\n",
    "        self.n_synapses = n_synapses\n",
    "        \n",
    "        n_post_neurons = column_height * (column_width * column_width)\n",
    "        # n = n_post_neurons * n_dendrites * n_synapses\n",
    "        \n",
    "        self.weight = torch.randn((1, n_post_neurons))\n",
    "        \n",
    "        self.learning_rate = 0.05\n",
    "\n",
    "    def i_to_neuron_pos(self, i):\n",
    "        if self.column_width % 2 == 0:\n",
    "            # no neuron on the same position above the current one\n",
    "            start_pos = - (self.column_width // 2) + 1\n",
    "        else:\n",
    "            start_pos = - (self.column_width // 2)\n",
    "        \n",
    "        fix_x = 0\n",
    "        fix_y = 0\n",
    "        \n",
    "        # if start_pos + self.pos[0] < 0:\n",
    "        #     # start_pos + self.pos[0] + fix_x = 0\n",
    "        #     fix_x = -(start_pos + self.pos[0])\n",
    "        # elif start_pos + self.pos[0] + self.column_width >= self.max_pos_x:\n",
    "        #     # start_pos + self.pos[0] + fix_x = self.max_pos_x - 1 - self.column_width\n",
    "        #     fix_x = -(start_pos + self.pos[0]) + self.max_pos_x - 1 - self.column_width\n",
    "            \n",
    "        # if start_pos + self.pos[1] < 0:\n",
    "        #     fix_y = -(start_pos + self.pos[1])\n",
    "        # elif start_pos + self.pos[1] + self.column_width >= self.max_pos_y:\n",
    "        #     fix_y = -(start_pos + self.pos[1]) + self.max_pos_y - 1 - self.column_width\n",
    "        \n",
    "        #print(\"fix\", fix_x, fix_y)\n",
    "        level = i // (self.column_width * self.column_width)\n",
    "        level_i = i % (self.column_width * self.column_width)\n",
    "        \n",
    "        return (start_pos + self.pos[0] + fix_x + level_i % self.column_width,\n",
    "                start_pos + self.pos[1] + fix_y + level_i // self.column_width,\n",
    "                level)\n",
    "        # if level < 1:\n",
    "        #     # first level\n",
    "        #     return (start_pos + self.pos[0] + i % self.column_width,\n",
    "        #             start_pos + self.pos[1] + i // self.column_width,\n",
    "        #             0)\n",
    "        # else:\n",
    "        #     # not the first level\n",
    "        #     # print(i, level, \"not the first level\")\n",
    "        #     level_i = i % (self.column_width * self.column_width)\n",
    "        #     return (start_pos + self.pos[0] + level_i % self.column_width,\n",
    "        #             start_pos + self.pos[1] + level_i // self.column_width,\n",
    "        #             level)\n",
    "    \n",
    "    def forward(self, x):\n",
    "        \"\"\"\n",
    "        x is a scalar.\n",
    "        It basically indicates if this column is activated or not.\n",
    "        and if it is then it works as a multiplier \n",
    "        (maybe important during summation and threshold within an activation function)\n",
    "        \n",
    "        The output is an array of neurons across this column\n",
    "        \"\"\"\n",
    "        return x * self.weight\n",
    "\n",
    "    def update_weights(self, x, y):\n",
    "        oja_diff = y * (x - y * self.weight)\n",
    "        self.weight += self.learning_rate * oja_diff\n"
   ]
  },
  {
   "cell_type": "code",
   "execution_count": 13,
   "metadata": {},
   "outputs": [],
   "source": [
    "field_width = 15\n",
    "field_height = 15\n",
    "\n",
    "column_height = 3\n",
    "column_width = 2\n",
    "\n",
    "n_dendrites = 12 # some of them are in the column width but some can lie outside\n",
    "n_synapses = 4 # possible duplicate connections between pre-synaptic axon and post-synaptic dendrites\n"
   ]
  },
  {
   "cell_type": "code",
   "execution_count": 79,
   "metadata": {},
   "outputs": [],
   "source": [
    "neuron = Neuron(\n",
    "    (1, 14),\n",
    "    field_height=field_height,\n",
    "    field_width=field_width,\n",
    "    column_height=column_height,\n",
    "    column_width=column_width,\n",
    "    n_dendrites=n_dendrites,\n",
    "    n_synapses=n_synapses\n",
    ")"
   ]
  },
  {
   "cell_type": "code",
   "execution_count": 26,
   "metadata": {},
   "outputs": [
    {
     "data": {
      "text/plain": [
       "6"
      ]
     },
     "execution_count": 26,
     "metadata": {},
     "output_type": "execute_result"
    }
   ],
   "source": [
    "neuron.forward(42.0).shape[1]"
   ]
  },
  {
   "cell_type": "code",
   "execution_count": 80,
   "metadata": {},
   "outputs": [
    {
     "name": "stdout",
     "output_type": "stream",
     "text": [
      "0 (1, 14, 0)\n",
      "1 (2, 14, 0)\n",
      "2 (1, 15, 0)\n",
      "3 (2, 15, 0)\n",
      "4 (1, 14, 1)\n",
      "5 (2, 14, 1)\n",
      "6 (1, 15, 1)\n",
      "7 (2, 15, 1)\n",
      "8 (1, 14, 2)\n",
      "9 (2, 14, 2)\n",
      "10 (1, 15, 2)\n",
      "11 (2, 15, 2)\n"
     ]
    }
   ],
   "source": [
    "for i in range(column_width * column_width * column_height):\n",
    "    pos = neuron.i_to_neuron_pos(i)\n",
    "    print(i, pos)"
   ]
  },
  {
   "cell_type": "code",
   "execution_count": 81,
   "metadata": {},
   "outputs": [],
   "source": [
    "\n",
    "neurons = []\n",
    "\n",
    "for x in range(field_width):\n",
    "    for y in range(field_height):\n",
    "        neuron = Neuron(\n",
    "            (x, y),\n",
    "            field_height=field_height,\n",
    "            field_width=field_width,\n",
    "            column_height=column_height,\n",
    "            column_width=column_width,\n",
    "            n_dendrites=n_dendrites,\n",
    "            n_synapses=n_synapses\n",
    "        )\n",
    "        neurons.append(neuron)\n"
   ]
  },
  {
   "cell_type": "code",
   "execution_count": 54,
   "metadata": {},
   "outputs": [
    {
     "data": {
      "text/plain": [
       "tensor([[0., 0., 0., 0., 0., 0., 0., 0., 0., 0., 0., 0., 0., 0., 0.],\n",
       "        [0., 0., 0., 0., 0., 0., 0., 0., 0., 0., 0., 0., 0., 0., 0.],\n",
       "        [0., 0., 0., 0., 0., 0., 0., 0., 0., 0., 0., 0., 0., 0., 0.],\n",
       "        [0., 0., 0., 0., 0., 0., 0., 0., 0., 0., 0., 0., 0., 0., 0.],\n",
       "        [0., 0., 0., 0., 0., 0., 0., 0., 0., 0., 0., 0., 0., 0., 0.],\n",
       "        [0., 0., 0., 0., 0., 0., 0., 0., 0., 0., 0., 0., 0., 0., 0.],\n",
       "        [0., 0., 0., 0., 0., 0., 0., 0., 0., 0., 0., 0., 0., 0., 0.],\n",
       "        [0., 0., 0., 0., 0., 0., 0., 0., 0., 0., 0., 0., 0., 0., 0.],\n",
       "        [0., 0., 0., 0., 0., 0., 0., 0., 0., 0., 0., 0., 0., 0., 0.],\n",
       "        [0., 0., 1., 1., 1., 1., 1., 0., 0., 0., 0., 0., 0., 0., 0.],\n",
       "        [0., 0., 0., 0., 0., 0., 0., 0., 0., 0., 0., 0., 0., 0., 0.],\n",
       "        [0., 0., 0., 0., 0., 0., 0., 0., 0., 0., 0., 0., 0., 0., 0.],\n",
       "        [0., 0., 0., 0., 0., 0., 0., 0., 0., 0., 0., 0., 0., 0., 0.],\n",
       "        [0., 0., 0., 0., 0., 0., 0., 0., 0., 0., 0., 0., 0., 0., 0.],\n",
       "        [0., 0., 0., 0., 0., 0., 0., 0., 0., 0., 0., 0., 0., 0., 0.]])"
      ]
     },
     "execution_count": 54,
     "metadata": {},
     "output_type": "execute_result"
    }
   ],
   "source": [
    "x = input_saccades[0]\n",
    "x"
   ]
  },
  {
   "cell_type": "code",
   "execution_count": 82,
   "metadata": {},
   "outputs": [
    {
     "data": {
      "text/plain": [
       "tensor([[[ 0.0000,  0.0000,  0.0000,  0.0000,  0.0000,  0.0000,  0.0000,\n",
       "           0.0000,  0.0000,  0.0000,  0.0000,  0.0000,  0.0000,  0.0000,\n",
       "           0.0000],\n",
       "         [ 0.0000,  0.0000,  0.0000,  0.0000,  0.0000,  0.0000,  0.0000,\n",
       "           0.0000,  0.0000,  0.0000,  0.0000,  0.0000,  0.0000,  0.0000,\n",
       "           0.0000],\n",
       "         [ 0.0000,  0.0000,  0.0000,  0.0000,  0.0000,  0.0000,  0.0000,\n",
       "           0.0000,  0.0000,  0.0000,  0.0000,  0.0000,  0.0000,  0.0000,\n",
       "           0.0000],\n",
       "         [ 0.0000,  0.0000,  0.0000,  0.0000,  0.0000,  0.0000,  0.0000,\n",
       "           0.0000,  0.0000,  0.0000,  0.0000,  0.0000,  0.0000,  0.0000,\n",
       "           0.0000],\n",
       "         [ 0.0000,  0.0000,  0.0000,  0.0000,  0.0000,  0.0000,  0.0000,\n",
       "           0.0000,  0.0000,  0.0000,  0.0000,  0.0000,  0.0000,  0.0000,\n",
       "           0.0000],\n",
       "         [ 0.0000,  0.0000,  0.0000,  0.0000,  0.0000,  0.0000,  0.0000,\n",
       "           0.0000,  0.0000,  0.0000,  0.0000,  0.0000,  0.0000,  0.0000,\n",
       "           0.0000],\n",
       "         [ 0.0000,  0.0000,  0.0000,  0.0000,  0.0000,  0.0000,  0.0000,\n",
       "           0.0000,  0.0000,  0.0000,  0.0000,  0.0000,  0.0000,  0.0000,\n",
       "           0.0000],\n",
       "         [ 0.0000,  0.0000,  0.0000,  0.0000,  0.0000,  0.0000,  0.0000,\n",
       "           0.0000,  0.0000,  0.0000,  0.0000,  0.0000,  0.0000,  0.0000,\n",
       "           0.0000],\n",
       "         [ 0.0000,  0.0000,  0.0000,  0.0000,  0.0000,  0.0000,  0.0000,\n",
       "           0.0000,  0.0000,  0.0000,  0.0000,  0.0000,  0.0000,  0.0000,\n",
       "           0.0000],\n",
       "         [ 0.0000,  0.0000, -0.6266, -0.5154,  1.2791,  0.4085,  1.9872,\n",
       "          -0.8460,  0.0000,  0.0000,  0.0000,  0.0000,  0.0000,  0.0000,\n",
       "           0.0000],\n",
       "         [ 0.0000,  0.0000,  0.2144, -0.2453,  1.7426,  1.6789, -0.9232,\n",
       "           0.0938,  0.0000,  0.0000,  0.0000,  0.0000,  0.0000,  0.0000,\n",
       "           0.0000],\n",
       "         [ 0.0000,  0.0000,  0.0000,  0.0000,  0.0000,  0.0000,  0.0000,\n",
       "           0.0000,  0.0000,  0.0000,  0.0000,  0.0000,  0.0000,  0.0000,\n",
       "           0.0000],\n",
       "         [ 0.0000,  0.0000,  0.0000,  0.0000,  0.0000,  0.0000,  0.0000,\n",
       "           0.0000,  0.0000,  0.0000,  0.0000,  0.0000,  0.0000,  0.0000,\n",
       "           0.0000],\n",
       "         [ 0.0000,  0.0000,  0.0000,  0.0000,  0.0000,  0.0000,  0.0000,\n",
       "           0.0000,  0.0000,  0.0000,  0.0000,  0.0000,  0.0000,  0.0000,\n",
       "           0.0000],\n",
       "         [ 0.0000,  0.0000,  0.0000,  0.0000,  0.0000,  0.0000,  0.0000,\n",
       "           0.0000,  0.0000,  0.0000,  0.0000,  0.0000,  0.0000,  0.0000,\n",
       "           0.0000]],\n",
       "\n",
       "        [[ 0.0000,  0.0000,  0.0000,  0.0000,  0.0000,  0.0000,  0.0000,\n",
       "           0.0000,  0.0000,  0.0000,  0.0000,  0.0000,  0.0000,  0.0000,\n",
       "           0.0000],\n",
       "         [ 0.0000,  0.0000,  0.0000,  0.0000,  0.0000,  0.0000,  0.0000,\n",
       "           0.0000,  0.0000,  0.0000,  0.0000,  0.0000,  0.0000,  0.0000,\n",
       "           0.0000],\n",
       "         [ 0.0000,  0.0000,  0.0000,  0.0000,  0.0000,  0.0000,  0.0000,\n",
       "           0.0000,  0.0000,  0.0000,  0.0000,  0.0000,  0.0000,  0.0000,\n",
       "           0.0000],\n",
       "         [ 0.0000,  0.0000,  0.0000,  0.0000,  0.0000,  0.0000,  0.0000,\n",
       "           0.0000,  0.0000,  0.0000,  0.0000,  0.0000,  0.0000,  0.0000,\n",
       "           0.0000],\n",
       "         [ 0.0000,  0.0000,  0.0000,  0.0000,  0.0000,  0.0000,  0.0000,\n",
       "           0.0000,  0.0000,  0.0000,  0.0000,  0.0000,  0.0000,  0.0000,\n",
       "           0.0000],\n",
       "         [ 0.0000,  0.0000,  0.0000,  0.0000,  0.0000,  0.0000,  0.0000,\n",
       "           0.0000,  0.0000,  0.0000,  0.0000,  0.0000,  0.0000,  0.0000,\n",
       "           0.0000],\n",
       "         [ 0.0000,  0.0000,  0.0000,  0.0000,  0.0000,  0.0000,  0.0000,\n",
       "           0.0000,  0.0000,  0.0000,  0.0000,  0.0000,  0.0000,  0.0000,\n",
       "           0.0000],\n",
       "         [ 0.0000,  0.0000,  0.0000,  0.0000,  0.0000,  0.0000,  0.0000,\n",
       "           0.0000,  0.0000,  0.0000,  0.0000,  0.0000,  0.0000,  0.0000,\n",
       "           0.0000],\n",
       "         [ 0.0000,  0.0000,  0.0000,  0.0000,  0.0000,  0.0000,  0.0000,\n",
       "           0.0000,  0.0000,  0.0000,  0.0000,  0.0000,  0.0000,  0.0000,\n",
       "           0.0000],\n",
       "         [ 0.0000,  0.0000, -0.7824, -0.8836, -0.3551, -2.4821,  0.3498,\n",
       "          -0.2720,  0.0000,  0.0000,  0.0000,  0.0000,  0.0000,  0.0000,\n",
       "           0.0000],\n",
       "         [ 0.0000,  0.0000, -0.0315, -0.2821, -0.5010,  1.2586, -3.3314,\n",
       "           0.2034,  0.0000,  0.0000,  0.0000,  0.0000,  0.0000,  0.0000,\n",
       "           0.0000],\n",
       "         [ 0.0000,  0.0000,  0.0000,  0.0000,  0.0000,  0.0000,  0.0000,\n",
       "           0.0000,  0.0000,  0.0000,  0.0000,  0.0000,  0.0000,  0.0000,\n",
       "           0.0000],\n",
       "         [ 0.0000,  0.0000,  0.0000,  0.0000,  0.0000,  0.0000,  0.0000,\n",
       "           0.0000,  0.0000,  0.0000,  0.0000,  0.0000,  0.0000,  0.0000,\n",
       "           0.0000],\n",
       "         [ 0.0000,  0.0000,  0.0000,  0.0000,  0.0000,  0.0000,  0.0000,\n",
       "           0.0000,  0.0000,  0.0000,  0.0000,  0.0000,  0.0000,  0.0000,\n",
       "           0.0000],\n",
       "         [ 0.0000,  0.0000,  0.0000,  0.0000,  0.0000,  0.0000,  0.0000,\n",
       "           0.0000,  0.0000,  0.0000,  0.0000,  0.0000,  0.0000,  0.0000,\n",
       "           0.0000]],\n",
       "\n",
       "        [[ 0.0000,  0.0000,  0.0000,  0.0000,  0.0000,  0.0000,  0.0000,\n",
       "           0.0000,  0.0000,  0.0000,  0.0000,  0.0000,  0.0000,  0.0000,\n",
       "           0.0000],\n",
       "         [ 0.0000,  0.0000,  0.0000,  0.0000,  0.0000,  0.0000,  0.0000,\n",
       "           0.0000,  0.0000,  0.0000,  0.0000,  0.0000,  0.0000,  0.0000,\n",
       "           0.0000],\n",
       "         [ 0.0000,  0.0000,  0.0000,  0.0000,  0.0000,  0.0000,  0.0000,\n",
       "           0.0000,  0.0000,  0.0000,  0.0000,  0.0000,  0.0000,  0.0000,\n",
       "           0.0000],\n",
       "         [ 0.0000,  0.0000,  0.0000,  0.0000,  0.0000,  0.0000,  0.0000,\n",
       "           0.0000,  0.0000,  0.0000,  0.0000,  0.0000,  0.0000,  0.0000,\n",
       "           0.0000],\n",
       "         [ 0.0000,  0.0000,  0.0000,  0.0000,  0.0000,  0.0000,  0.0000,\n",
       "           0.0000,  0.0000,  0.0000,  0.0000,  0.0000,  0.0000,  0.0000,\n",
       "           0.0000],\n",
       "         [ 0.0000,  0.0000,  0.0000,  0.0000,  0.0000,  0.0000,  0.0000,\n",
       "           0.0000,  0.0000,  0.0000,  0.0000,  0.0000,  0.0000,  0.0000,\n",
       "           0.0000],\n",
       "         [ 0.0000,  0.0000,  0.0000,  0.0000,  0.0000,  0.0000,  0.0000,\n",
       "           0.0000,  0.0000,  0.0000,  0.0000,  0.0000,  0.0000,  0.0000,\n",
       "           0.0000],\n",
       "         [ 0.0000,  0.0000,  0.0000,  0.0000,  0.0000,  0.0000,  0.0000,\n",
       "           0.0000,  0.0000,  0.0000,  0.0000,  0.0000,  0.0000,  0.0000,\n",
       "           0.0000],\n",
       "         [ 0.0000,  0.0000,  0.0000,  0.0000,  0.0000,  0.0000,  0.0000,\n",
       "           0.0000,  0.0000,  0.0000,  0.0000,  0.0000,  0.0000,  0.0000,\n",
       "           0.0000],\n",
       "         [ 0.0000,  0.0000,  0.0990,  3.0174, -0.5105,  0.4303,  1.3292,\n",
       "           0.8875,  0.0000,  0.0000,  0.0000,  0.0000,  0.0000,  0.0000,\n",
       "           0.0000],\n",
       "         [ 0.0000,  0.0000, -1.1757,  0.4901, -0.5373,  0.7465,  1.7127,\n",
       "           0.4596,  0.0000,  0.0000,  0.0000,  0.0000,  0.0000,  0.0000,\n",
       "           0.0000],\n",
       "         [ 0.0000,  0.0000,  0.0000,  0.0000,  0.0000,  0.0000,  0.0000,\n",
       "           0.0000,  0.0000,  0.0000,  0.0000,  0.0000,  0.0000,  0.0000,\n",
       "           0.0000],\n",
       "         [ 0.0000,  0.0000,  0.0000,  0.0000,  0.0000,  0.0000,  0.0000,\n",
       "           0.0000,  0.0000,  0.0000,  0.0000,  0.0000,  0.0000,  0.0000,\n",
       "           0.0000],\n",
       "         [ 0.0000,  0.0000,  0.0000,  0.0000,  0.0000,  0.0000,  0.0000,\n",
       "           0.0000,  0.0000,  0.0000,  0.0000,  0.0000,  0.0000,  0.0000,\n",
       "           0.0000],\n",
       "         [ 0.0000,  0.0000,  0.0000,  0.0000,  0.0000,  0.0000,  0.0000,\n",
       "           0.0000,  0.0000,  0.0000,  0.0000,  0.0000,  0.0000,  0.0000,\n",
       "           0.0000]]])"
      ]
     },
     "execution_count": 82,
     "metadata": {},
     "output_type": "execute_result"
    }
   ],
   "source": [
    "# yy = []\n",
    "# for x in range(field_width):\n",
    "#     row = []\n",
    "#     for y in range(field_height):\n",
    "#         row.append(torch.zeros(5))\n",
    "#     yy.append(row)\n",
    "\n",
    "y_total = torch.zeros(column_height, field_width, field_height)\n",
    "\n",
    "for n in neurons:\n",
    "    xx = input_saccades[0][n.pos[0], n.pos[1]]\n",
    "    y = n.forward(xx)\n",
    "    for i in range(y.shape[1]):\n",
    "        p = n.i_to_neuron_pos(i)\n",
    "        #print(i, n.pos[0], n.pos[1], p)\n",
    "        if p[0] < 0 or p[0] >= field_width or p[1] < 0 or p[1] >= field_height:\n",
    "            continue\n",
    "        y_total[p[2], p[0], p[1]] += y[0,i]\n",
    "\n",
    "\n",
    "# yy\n",
    "y_total\n",
    "        "
   ]
  },
  {
   "cell_type": "code",
   "execution_count": 83,
   "metadata": {},
   "outputs": [
    {
     "data": {
      "image/png": "[encoded data removed]",
      "text/plain": [
       "<Figure size 400x400 with 2 Axes>"
      ]
     },
     "metadata": {},
     "output_type": "display_data"
    }
   ],
   "source": [
    "plt.figure(figsize=(4, 4))\n",
    "x_mat = plt.imshow(torch.mean(y_total, dim=0), cmap=cm.coolwarm)\n",
    "# x_mat = plt.imshow(y_total[2,:,:], cmap=cm.coolwarm)\n",
    "plt.colorbar(x_mat)\n",
    "plt.title(\"Activation on layer 3\")\n",
    "plt.tight_layout()\n",
    "plt.show()"
   ]
  },
  {
   "cell_type": "code",
   "execution_count": 84,
   "metadata": {},
   "outputs": [],
   "source": [
    "\n",
    "n_column_neurons = column_width * column_width * column_height\n",
    "\n",
    "for n in neurons:\n",
    "    xx = input_saccades[0][n.pos[0], n.pos[1]]\n",
    "    yy = torch.zeros(1, n_column_neurons)\n",
    "    for i in range(n_column_neurons):\n",
    "        p = n.i_to_neuron_pos(i)\n",
    "        if p[0] < 0 or p[0] >= field_width or p[1] < 0 or p[1] >= field_height:\n",
    "            continue\n",
    "        \n",
    "        yy[0, i] = y_total[p[2], p[0], p[1]]\n",
    "\n",
    "    n.update_weights(xx, yy)"
   ]
  },
  {
   "cell_type": "code",
   "execution_count": 85,
   "metadata": {},
   "outputs": [
    {
     "data": {
      "image/png": "[encoded data removed]",
      "text/plain": [
       "<Figure size 400x400 with 2 Axes>"
      ]
     },
     "metadata": {},
     "output_type": "display_data"
    }
   ],
   "source": [
    "y_total = torch.zeros(column_height, field_width, field_height)\n",
    "\n",
    "for n in neurons:\n",
    "    xx = input_saccades[0][n.pos[0], n.pos[1]]\n",
    "    y = n.forward(xx)\n",
    "    for i in range(y.shape[1]):\n",
    "        p = n.i_to_neuron_pos(i)\n",
    "        if p[0] < 0 or p[0] >= field_width or p[1] < 0 or p[1] >= field_height:\n",
    "            continue\n",
    "        y_total[p[2], p[0], p[1]] += y[0,i]\n",
    "\n",
    "plt.figure(figsize=(4, 4))\n",
    "x_mat = plt.imshow(torch.mean(y_total, dim=0), cmap=cm.coolwarm)\n",
    "# x_mat = plt.imshow(y_total[2,:,:], cmap=cm.coolwarm)\n",
    "plt.colorbar(x_mat)\n",
    "plt.title(\"Activation on layer 3\")\n",
    "plt.tight_layout()\n",
    "plt.show()"
   ]
  },
  {
   "cell_type": "code",
   "execution_count": 90,
   "metadata": {},
   "outputs": [
    {
     "data": {
      "image/png": "[encoded data removed]",
      "text/plain": [
       "<Figure size 400x400 with 2 Axes>"
      ]
     },
     "metadata": {},
     "output_type": "display_data"
    }
   ],
   "source": [
    "# create / reset the network\n",
    "neurons = []\n",
    "\n",
    "for h in range(column_height):\n",
    "    neurons.append([])\n",
    "    for x in range(field_width):\n",
    "        for y in range(field_height):\n",
    "            neuron = Neuron(\n",
    "                (x, y, h),\n",
    "                field_height=field_height,\n",
    "                field_width=field_width,\n",
    "                column_height=column_height,\n",
    "                column_width=column_width,\n",
    "                n_dendrites=n_dendrites,\n",
    "                n_synapses=n_synapses\n",
    "            )\n",
    "            neurons[h].append(neuron)\n",
    "\n",
    "# train\n",
    "for k in range(K):\n",
    "    input_data = [ input_saccades[k] ]\n",
    "    \n",
    "    for h in range(column_height):\n",
    "        # forward\n",
    "        y_total = torch.zeros(column_height, field_width, field_height)\n",
    "\n",
    "        for n in neurons[h]:\n",
    "            xx = input_data[h][n.pos[0], n.pos[1]]\n",
    "            y = n.forward(xx)\n",
    "            for i in range(y.shape[1]):\n",
    "                p = n.i_to_neuron_pos(i)\n",
    "                if p[0] < 0 or p[0] >= field_width or p[1] < 0 or p[1] >= field_height:\n",
    "                    continue\n",
    "                y_total[p[2], p[0], p[1]] += y[0,i]\n",
    "        \n",
    "        input_data.append(y_total[h])\n",
    "        \n",
    "        # update\n",
    "        for n in neurons[h]:\n",
    "            xx = input_data[h][n.pos[0], n.pos[1]]\n",
    "            yy = torch.zeros(1, n_column_neurons)\n",
    "            for i in range(n_column_neurons):\n",
    "                p = n.i_to_neuron_pos(i)\n",
    "                if p[0] < 0 or p[0] >= field_width or p[1] < 0 or p[1] >= field_height:\n",
    "                    continue\n",
    "                yy[0, i] = y_total[p[2], p[0], p[1]]\n",
    "\n",
    "            n.update_weights(xx, yy)\n",
    "\n",
    "# test\n",
    "y_total = torch.zeros(column_height, field_width, field_height)\n",
    "\n",
    "for n in neurons[0]:\n",
    "    xx = input_data[0][n.pos[0], n.pos[1]]\n",
    "    y = n.forward(xx)\n",
    "    for i in range(y.shape[1]):\n",
    "        p = n.i_to_neuron_pos(i)\n",
    "        if p[0] < 0 or p[0] >= field_width or p[1] < 0 or p[1] >= field_height:\n",
    "            continue\n",
    "        y_total[p[2], p[0], p[1]] += y[0,i]\n",
    "\n",
    "plt.figure(figsize=(4, 4))\n",
    "x_mat = plt.imshow(torch.mean(y_total, dim=0), cmap=cm.coolwarm)\n",
    "# x_mat = plt.imshow(y_total[2,:,:], cmap=cm.coolwarm)\n",
    "plt.colorbar(x_mat)\n",
    "plt.title(\"Activation on layer 3\")\n",
    "plt.tight_layout()\n",
    "plt.show()\n"
   ]
  },
  {
   "cell_type": "code",
   "execution_count": 95,
   "metadata": {},
   "outputs": [
    {
     "data": {
      "image/png": "[encoded data removed]",
      "text/plain": [
       "<Figure size 1200x400 with 9 Axes>"
      ]
     },
     "metadata": {},
     "output_type": "display_data"
    }
   ],
   "source": [
    "# test\n",
    "# y_total = torch.zeros(column_height, field_width, field_height)\n",
    "input_data = [ input_saccades[0] ]\n",
    "states = []\n",
    "\n",
    "for h in range(column_height):\n",
    "    y_total = torch.zeros(column_height, field_width, field_height)\n",
    "    for n in neurons[h]:\n",
    "        xx = input_data[0][n.pos[0], n.pos[1]]\n",
    "        y = n.forward(xx)\n",
    "        for i in range(y.shape[1]):\n",
    "            p = n.i_to_neuron_pos(i)\n",
    "            if p[0] < 0 or p[0] >= field_width or p[1] < 0 or p[1] >= field_height:\n",
    "                continue\n",
    "            y_total[p[2], p[0], p[1]] += y[0,i]\n",
    "    input_data.append(y_total[h])\n",
    "    states.append(y_total)\n",
    "\n",
    "# plt.figure(figsize=(4, 4))\n",
    "# x_mat = plt.imshow(torch.mean(y_total, dim=0), cmap=cm.coolwarm)\n",
    "# # x_mat = plt.imshow(y_total[2,:,:], cmap=cm.coolwarm)\n",
    "# plt.colorbar(x_mat)\n",
    "# plt.title(\"Activation on layer 3\")\n",
    "# plt.tight_layout()\n",
    "# plt.show()\n",
    "\n",
    "fig, axs = plt.subplots(column_height, column_height, figsize=(12, 4))\n",
    "for i in range(column_height):\n",
    "    for j in range(column_height):\n",
    "        axs[i,j].imshow(states[i][j], cmap=cm.Purples)\n",
    "\n",
    "plt.tight_layout()\n",
    "plt.show()"
   ]
  },
  {
   "attachments": {},
   "cell_type": "markdown",
   "metadata": {},
   "source": [
    "## Real SOM"
   ]
  },
  {
   "cell_type": "code",
   "execution_count": 20,
   "metadata": {},
   "outputs": [],
   "source": [
    "class SOM(nn.Module):\n",
    "    \"\"\"\n",
    "    2-D Self-Organizing Map with Gaussian Neighbourhood function\n",
    "    and linearly decreasing learning rate.\n",
    "    \"\"\"\n",
    "    def __init__(self, m, n, dim, alpha=None, sigma=None):\n",
    "        super(SOM, self).__init__()\n",
    "        self.m = m\n",
    "        self.n = n\n",
    "        self.dim = dim\n",
    "        self.n_neurons = self.m * self.n\n",
    "        # gain coefficient\n",
    "        self.alpha = 0.3\n",
    "        # correction\n",
    "        self.sigma = max(m, n) / 2.0\n",
    "        \n",
    "        if alpha is not None:\n",
    "            self.alpha = float(alpha)\n",
    "        if sigma is not None:\n",
    "            self.sigma = float(sigma)\n",
    "\n",
    "        self.weights = torch.randn(self.n_neurons, dim)\n",
    "        self.locations = torch.tensor(np.array(list(self.make_grid_locations_iter(m, n))), dtype=torch.int32)\n",
    "        self.pdist = nn.PairwiseDistance(p=2)\n",
    "\n",
    "    def get_weights(self):\n",
    "        return self.weights\n",
    "\n",
    "    def get_locations(self):\n",
    "        return self.locations\n",
    "\n",
    "    def make_grid_locations_iter(self, m, n):\n",
    "        for i in range(m):\n",
    "            for j in range(n):\n",
    "                yield np.array([i, j])\n",
    "\n",
    "    def map_vects(self, input_vects):\n",
    "        to_return = []\n",
    "        for vect in input_vects:\n",
    "            min_index = min([i for i in range(self.n_neurons)],\n",
    "                            key=lambda x: np.linalg.norm(vect-self.weights[x]))\n",
    "            to_return.append(self.locations[min_index])\n",
    "\n",
    "        return to_return\n",
    "\n",
    "    def forward(self, x, learning_rate_op):\n",
    "        dists = self.pdist(x, self.weights) # compare X with every column in W. columns is a batch dimension\n",
    "        bmu_index = dists.min(0).indices # find the minimum distance\n",
    "        bmu_loc = self.locations[bmu_index,:]\n",
    "        \n",
    "        alpha_op = self.alpha * learning_rate_op\n",
    "        sigma_op = self.sigma * learning_rate_op\n",
    "\n",
    "        diff = self.locations - bmu_loc # .unsqueeze(0).repeat(self.n_neurons, 1) - don't need to copy because broadcasting will do it (ref: https://numpy.org/doc/stable/user/basics.broadcasting.html)\n",
    "        bmu_distance_squares = torch.sum(torch.pow(diff.float(), 2), 1) # array where for every neuron i: x_i ^2 + y_i ^2 -> d_i\n",
    "        neighbourhood_func = torch.exp(torch.neg(torch.div(bmu_distance_squares, sigma_op**2))) # e^{ -(d_i / sigma^2) }\n",
    "        gain_coefficient = alpha_op * neighbourhood_func\n",
    "        learning_rate_multiplier = gain_coefficient.repeat(self.dim, 1).T # copy to every dimension\n",
    "        delta = torch.mul(learning_rate_multiplier, x - self.weights) # (x - self.weights) - uses broadcasting too\n",
    "\n",
    "        self.weights += delta\n",
    "    \n",
    "    def forward_no_training(self, x):\n",
    "        # find a location where the distance between x and m_i is the minimum \n",
    "        min_index = torch.linalg.vector_norm(x - self.weights, ord=2, dim=1).min(0).indices\n",
    "        return self.locations[min_index]"
   ]
  },
  {
   "cell_type": "code",
   "execution_count": 21,
   "metadata": {},
   "outputs": [
    {
     "ename": "NameError",
     "evalue": "name 'np' is not defined",
     "output_type": "error",
     "traceback": [
      "\u001b[1;31m---------------------------------------------------------------------------\u001b[0m",
      "\u001b[1;31mNameError\u001b[0m                                 Traceback (most recent call last)",
      "Cell \u001b[1;32mIn[21], line 4\u001b[0m\n\u001b[0;32m      2\u001b[0m n_iter \u001b[39m=\u001b[39m \u001b[39m5\u001b[39m\n\u001b[0;32m      3\u001b[0m som_dim \u001b[39m=\u001b[39m N \u001b[39m*\u001b[39m N\n\u001b[1;32m----> 4\u001b[0m som \u001b[39m=\u001b[39m SOM(N, N, som_dim)\n\u001b[0;32m      6\u001b[0m \u001b[39mfor\u001b[39;00m iter_no \u001b[39min\u001b[39;00m \u001b[39mrange\u001b[39m(n_iter):\n\u001b[0;32m      7\u001b[0m     data \u001b[39m=\u001b[39m create_displaced_tensors(\u001b[39minput\u001b[39m, K\u001b[39m=\u001b[39mbatch_size, receptive_field_size\u001b[39m=\u001b[39m(N, N))\n",
      "Cell \u001b[1;32mIn[20], line 23\u001b[0m, in \u001b[0;36mSOM.__init__\u001b[1;34m(self, m, n, dim, alpha, sigma)\u001b[0m\n\u001b[0;32m     20\u001b[0m     \u001b[39mself\u001b[39m\u001b[39m.\u001b[39msigma \u001b[39m=\u001b[39m \u001b[39mfloat\u001b[39m(sigma)\n\u001b[0;32m     22\u001b[0m \u001b[39mself\u001b[39m\u001b[39m.\u001b[39mweights \u001b[39m=\u001b[39m torch\u001b[39m.\u001b[39mrandn(\u001b[39mself\u001b[39m\u001b[39m.\u001b[39mn_neurons, dim)\n\u001b[1;32m---> 23\u001b[0m \u001b[39mself\u001b[39m\u001b[39m.\u001b[39mlocations \u001b[39m=\u001b[39m torch\u001b[39m.\u001b[39mtensor(np\u001b[39m.\u001b[39marray(\u001b[39mlist\u001b[39m(\u001b[39mself\u001b[39m\u001b[39m.\u001b[39mmake_grid_locations_iter(m, n))), dtype\u001b[39m=\u001b[39mtorch\u001b[39m.\u001b[39mint32)\n\u001b[0;32m     24\u001b[0m \u001b[39mself\u001b[39m\u001b[39m.\u001b[39mpdist \u001b[39m=\u001b[39m nn\u001b[39m.\u001b[39mPairwiseDistance(p\u001b[39m=\u001b[39m\u001b[39m2\u001b[39m)\n",
      "\u001b[1;31mNameError\u001b[0m: name 'np' is not defined"
     ]
    }
   ],
   "source": [
    "batch_size = 100\n",
    "n_iter = 5\n",
    "som_dim = N * N\n",
    "som = SOM(N, N, som_dim)\n",
    "\n",
    "for iter_no in range(n_iter):\n",
    "    data = create_displaced_tensors(input, K=batch_size, receptive_field_size=(N, N))\n",
    "    # data dimension is 225 (15x15)\n",
    "    for i in range(len(data)):\n",
    "        learning_rate_op = 1.0 - iter_no/(1.0*n_iter)\n",
    "        som(data[i], learning_rate_op)"
   ]
  }
 ],
 "metadata": {
  "kernelspec": {
   "display_name": "diffusers",
   "language": "python",
   "name": "python3"
  },
  "language_info": {
   "codemirror_mode": {
    "name": "ipython",
    "version": 3
   },
   "file_extension": ".py",
   "mimetype": "text/x-python",
   "name": "python",
   "nbconvert_exporter": "python",
   "pygments_lexer": "ipython3",
   "version": "3.10.12"
  },
  "orig_nbformat": 4
 },
 "nbformat": 4,
 "nbformat_minor": 2
}
