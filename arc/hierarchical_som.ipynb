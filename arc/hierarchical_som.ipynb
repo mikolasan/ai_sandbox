{
 "cells": [
  {
   "attachments": {},
   "cell_type": "markdown",
   "metadata": {},
   "source": [
    "# Self organizing maps"
   ]
  },
  {
   "attachments": {},
   "cell_type": "markdown",
   "metadata": {},
   "source": [
    "This is SOM but not SOM"
   ]
  },
  {
   "attachments": {},
   "cell_type": "markdown",
   "metadata": {},
   "source": [
    "## Sub-area connections\n",
    "\n",
    "We will start with a network that has 3 layers. The first layer is sensors. And the network will have a difference with standard artificial neural networks. \n",
    "\n",
    "The difference is that every neuron $i$ in the presynaptic layer has a matrix $W_i$ instead of having only one matrix $W$ for the whole layer. These matrices, $W_i$ connect the neuron $i$ with a subset of neurons in the next layer. This subset is a group of neurons located just above the neuron $i$ within a radius $r$."
   ]
  },
  {
   "cell_type": "code",
   "execution_count": 2,
   "metadata": {},
   "outputs": [],
   "source": [
    "import random\n",
    "\n",
    "import torch\n",
    "import torch.nn as nn\n",
    "import torch.optim as optim"
   ]
  },
  {
   "cell_type": "code",
   "execution_count": 3,
   "metadata": {},
   "outputs": [
    {
     "name": "stdout",
     "output_type": "stream",
     "text": [
      "0 0.0 0\n",
      "1 0.3333333333333333 0\n",
      "2 0.6666666666666666 0\n",
      "3 1.0 1\n",
      "4 1.3333333333333333 1\n",
      "5 1.6666666666666665 1\n",
      "6 2.0 2\n",
      "7 2.333333333333333 2\n",
      "8 2.6666666666666665 2\n",
      "9 3.0 3\n",
      "10 3.333333333333333 3\n",
      "11 3.6666666666666665 3\n",
      "12 4.0 4\n",
      "13 4.333333333333333 4\n",
      "14 4.666666666666666 4\n"
     ]
    }
   ],
   "source": [
    "import math\n",
    "\n",
    "input_x = 15\n",
    "output_x = 9\n",
    "radius = 4\n",
    "for i in range(input_x):\n",
    "    k = ((output_x - radius) / input_x) * i\n",
    "    print(i, k, math.floor(k))"
   ]
  },
  {
   "cell_type": "code",
   "execution_count": 4,
   "metadata": {},
   "outputs": [],
   "source": [
    "class ColumnLayer:\n",
    "    def __init__(self, input_shape, output_shape, radius, init_std=0.01):\n",
    "        \"\"\"\n",
    "        Initialize the network.\n",
    "        \n",
    "        Args:\n",
    "            input_shape (tuple): Shape of the input layer (height, width).\n",
    "            output_shape (tuple): Shape of the output layer (height, width).\n",
    "            radius (int): Radius for the connection neighborhood.\n",
    "            init_std (float): Standard deviation for weight initialization.\n",
    "        \"\"\"\n",
    "        self.input_shape = input_shape\n",
    "        self.output_shape = output_shape\n",
    "        self.radius = radius\n",
    "        \n",
    "        # Initialize weights for each neuron in the input grid\n",
    "        self.weights = []\n",
    "        for i in range(input_shape[0]):\n",
    "            row_weights = []\n",
    "            for j in range(input_shape[1]):\n",
    "                w_shape = (self.radius, self.radius)\n",
    "                row_weights.append(torch.randn(w_shape) * init_std)\n",
    "            self.weights.append(row_weights)\n",
    "\n",
    "    def area_position(self, x, y):\n",
    "        row_start = math.floor(((self.output_shape[0] - self.radius) / self.input_shape[0]) * x)\n",
    "        row_end = row_start + self.radius\n",
    "        col_start = math.floor(((self.output_shape[1] - self.radius) / self.input_shape[1]) * y)\n",
    "        col_end = col_start + self.radius\n",
    "        \n",
    "        return (slice(row_start, row_end), slice(col_start, col_end))\n",
    "    \n",
    "    def forward(self, input_grid):\n",
    "        \"\"\"\n",
    "        Perform a forward pass of the network.\n",
    "        \n",
    "        Args:\n",
    "            input_grid (torch.Tensor): Input tensor of shape (H_in, W_in).\n",
    "        \n",
    "        Returns:\n",
    "            torch.Tensor: Output tensor of shape (H_out, W_out).\n",
    "        \"\"\"\n",
    "        output_grid = torch.zeros(self.output_shape)\n",
    "        \n",
    "        for i in range(self.input_shape[0]):\n",
    "            for j in range(self.input_shape[1]):\n",
    "                weight = self.weights[i][j]\n",
    "                (x_s, y_s) = self.area_position(i, j)\n",
    "                output_slice = output_grid[x_s, y_s]\n",
    "                \n",
    "                # Update the output slice based on the weight and input\n",
    "                output_slice += input_grid[i, j] * weight\n",
    "                \n",
    "        return output_grid\n",
    "\n",
    "    def update_weights(self, x, y_t, learning_rate=0.05):\n",
    "        \"\"\"\n",
    "        Manually update weights based on provided gradients.\n",
    "        \n",
    "        Args:\n",
    "            gradients (list of lists of torch.Tensor): Gradient for each weight matrix.\n",
    "            learning_rate (float): Learning rate for weight updates.\n",
    "        \"\"\"\n",
    "        for i in range(self.input_shape[0]):\n",
    "            for j in range(self.input_shape[1]):\n",
    "                \n",
    "                w = self.weights[i][j]\n",
    "                (x_s, y_s) = self.area_position(i, j)\n",
    "                oja = y_t * (x - y_t * w)\n",
    "                self.weights[i][j] += learning_rate * oja\n",
    "\n"
   ]
  },
  {
   "attachments": {},
   "cell_type": "markdown",
   "metadata": {},
   "source": [
    "We have inputs to an Artificial Neural Network like these:"
   ]
  },
  {
   "cell_type": "code",
   "execution_count": 5,
   "metadata": {},
   "outputs": [],
   "source": [
    "input = torch.tensor([\n",
    "  [0, 0, 0, 0, 0],\n",
    "  [0, 0, 0, 0, 0],\n",
    "  [0, 0, 0, 0, 0],\n",
    "  [0, 0, 0, 0, 0],\n",
    "  [1, 1, 1, 1, 1]\n",
    "], dtype=torch.float)"
   ]
  },
  {
   "attachments": {},
   "cell_type": "markdown",
   "metadata": {},
   "source": [
    "They represent some geometric objects. In this case it's a line.\n",
    "\n",
    "The receptive field in our ANN will be bigger than this input. Every input is randomly moved.\n",
    "\n",
    "So next, we take the input and create K=5 displacements (moving the original tensor in receptive field by (x,y) offset)."
   ]
  },
  {
   "cell_type": "code",
   "execution_count": 6,
   "metadata": {},
   "outputs": [],
   "source": [
    "K = 5\n",
    "N = 15"
   ]
  },
  {
   "cell_type": "code",
   "execution_count": 7,
   "metadata": {},
   "outputs": [],
   "source": [
    "def create_displaced_tensors(tensor, K, receptive_field_size=(15, 15)):\n",
    "    \"\"\"\n",
    "    Creates K displacements of the input tensor by moving it within a larger receptive field.\n",
    "    \n",
    "    Parameters:\n",
    "        tensor (torch.Tensor): The original input tensor of shape (5, 5).\n",
    "        K (int): The number of displacements to create.\n",
    "        receptive_field_size (tuple): The dimensions of the receptive field (height, width).\n",
    "        \n",
    "    Returns:\n",
    "        batch of tensors: A tensor of K tensors with the original tensor displaced within the receptive field.\n",
    "    \"\"\"\n",
    "    \n",
    "    # Create a larger tensor filled with zeros (the receptive field)\n",
    "    receptive_field_h, receptive_field_w = receptive_field_size\n",
    "    displaced_tensors = torch.zeros(K, receptive_field_h, receptive_field_w, dtype=tensor.dtype)\n",
    "    \n",
    "    # Calculate padding size based on the receptive field dimensions\n",
    "    input_h, input_w = tensor.shape\n",
    "    padding_h = receptive_field_h - input_h\n",
    "    padding_w = receptive_field_w - input_w\n",
    "    \n",
    "    for i in range(K):\n",
    "        # Randomly choose top-left corner for placing the input tensor within the receptive field\n",
    "        max_x_offset = padding_h\n",
    "        max_y_offset = padding_w\n",
    "        x_offset = random.randint(0, max_x_offset)\n",
    "        y_offset = random.randint(0, max_y_offset)\n",
    "        \n",
    "        # Place the input tensor within the receptive field at the chosen offset\n",
    "        displaced_tensors[i, x_offset:x_offset + input_h, y_offset:y_offset + input_w] = tensor\n",
    "\n",
    "    return displaced_tensors\n",
    "\n",
    "input_saccades = create_displaced_tensors(input,\n",
    "                                          K=K,\n",
    "                                          receptive_field_size=(N, N))"
   ]
  },
  {
   "cell_type": "code",
   "execution_count": 8,
   "metadata": {},
   "outputs": [],
   "source": [
    "import matplotlib.pyplot as plt\n",
    "import matplotlib.cm as cm"
   ]
  },
  {
   "cell_type": "code",
   "execution_count": 9,
   "metadata": {},
   "outputs": [
    {
     "data": {
      "image/png": "[encoded data removed]",
      "text/plain": [
       "<Figure size 1200x400 with 5 Axes>"
      ]
     },
     "metadata": {},
     "output_type": "display_data"
    }
   ],
   "source": [
    "fig, axs = plt.subplots(1, K, figsize=(12, 4))\n",
    "for i in range(K):\n",
    "    axs[i].imshow(input_saccades[i].detach().numpy(), cmap=cm.Purples)\n",
    "\n",
    "plt.tight_layout()\n",
    "plt.show()\n"
   ]
  },
  {
   "cell_type": "code",
   "execution_count": 10,
   "metadata": {},
   "outputs": [],
   "source": [
    "new_input = torch.tensor([\n",
    "  [1, 1, 1, 1, 1],\n",
    "  [1, 0, 0, 0, 1],\n",
    "  [1, 0, 0, 0, 1],\n",
    "  [1, 0, 0, 0, 1],\n",
    "  [1, 1, 1, 1, 1]\n",
    "], dtype=torch.float)\n",
    "test_set = create_displaced_tensors(new_input,\n",
    "                                    K=K,\n",
    "                                    receptive_field_size=(N, N))"
   ]
  },
  {
   "cell_type": "code",
   "execution_count": 11,
   "metadata": {},
   "outputs": [],
   "source": [
    "input_shape = (N, N)\n",
    "output_shape = (8, 8)\n",
    "radius = 4\n",
    "\n",
    "layer = ColumnLayer(input_shape, output_shape, radius, init_std=0.01)"
   ]
  },
  {
   "cell_type": "code",
   "execution_count": 12,
   "metadata": {},
   "outputs": [
    {
     "data": {
      "image/png": "[encoded data removed]",
      "text/plain": [
       "<Figure size 1200x400 with 5 Axes>"
      ]
     },
     "metadata": {},
     "output_type": "display_data"
    }
   ],
   "source": [
    "fig, axs = plt.subplots(1, K, figsize=(12, 4))\n",
    "for i in range(K):\n",
    "    x = input_saccades[i] # what is activated from sensors\n",
    "    y = layer.forward(x)\n",
    "    # y_t = y.unsqueeze(0).T\n",
    "    # layer.update_weights(x, y_t)\n",
    "    axs[i].imshow(y.detach().numpy(), cmap=cm.Purples)\n",
    "\n",
    "plt.tight_layout()\n",
    "plt.show()"
   ]
  },
  {
   "attachments": {},
   "cell_type": "markdown",
   "metadata": {},
   "source": [
    "## Columns\n",
    "\n",
    "In order to prepare the network to have connections in more sparse but also tangled way, we need more intricate structures that represent these connections.\n",
    "\n",
    "First of all, there is no need to connect a neuron from one corner to absolutely opposite area on the next layer. Neurons are generally organized in columns. So higher amount of connected layers prevails over simultaneous connections to all the neurons on the next level. Which means that instead of a big matrix $W$ that covers the whole layer, we will be using smaller matrices $W_r$ that work only within a radius $r$. Although that radius covers several layers above the neuron.\n",
    "\n",
    "And there are two approaches here. One is when the matrix is assigned to the initiating neuron. It is absolutely straight forward for the forward pass because it follows the activation potential.\n",
    "\n",
    "One the other side, it mixes synapses from different neurons and doesn't represent the full picture of the full dendrite network of one neuron. So this is the opposite matrix that has all synapses for all dendrites.\n",
    "\n",
    "When you know all activations from sensors then in the first case matrices will define what next neurons are activated. In the second case, matrices from all neurons should be applied because sensors don't have information about post synaptic connections.\n",
    "\n",
    "The diff for the learning update is simpler for the second case because it applies to every matrix separately. While in the first case the update is a sum of several matrices (the number is not known). But the update must happen along the activation path and doesn't need to affect the whole neuron. Which means the first method is preferable."
   ]
  },
  {
   "attachments": {},
   "cell_type": "markdown",
   "metadata": {},
   "source": [
    "## Positive weights\n",
    "\n",
    "Set a little value in the beginning. During training values can be increased or decreased by a negative feedback."
   ]
  },
  {
   "cell_type": "code",
   "execution_count": 13,
   "metadata": {},
   "outputs": [],
   "source": [
    "class Neuron:\n",
    "    def __init__(self, pos, \n",
    "                 field_height,\n",
    "                 field_width,\n",
    "                 column_height, \n",
    "                 column_width, \n",
    "                 n_dendrites, \n",
    "                 n_synapses):\n",
    "        self.pos = pos\n",
    "        self.max_pos_y = field_height\n",
    "        self.max_pos_x = field_width\n",
    "        self.column_height = column_height\n",
    "        self.column_width = column_width\n",
    "        self.n_dendrites = n_dendrites\n",
    "        self.n_synapses = n_synapses\n",
    "        \n",
    "        n_post_neurons = column_height * (column_width * column_width)\n",
    "        # n = n_post_neurons * n_dendrites * n_synapses\n",
    "        \n",
    "        # self.weight = torch.randn((1, n_post_neurons))\n",
    "        self.weight = torch.full((1, n_post_neurons), 0.1)\n",
    "        \n",
    "        self.learning_rate = 0.05\n",
    "\n",
    "    def i_to_neuron_pos(self, i):\n",
    "        if self.column_width % 2 == 0:\n",
    "            # no neuron on the same position above the current one\n",
    "            start_pos = - (self.column_width // 2) + 1\n",
    "        else:\n",
    "            start_pos = - (self.column_width // 2)\n",
    "        \n",
    "        fix_x = 0\n",
    "        fix_y = 0\n",
    "        \n",
    "        # if start_pos + self.pos[0] < 0:\n",
    "        #     # start_pos + self.pos[0] + fix_x = 0\n",
    "        #     fix_x = -(start_pos + self.pos[0])\n",
    "        # elif start_pos + self.pos[0] + self.column_width >= self.max_pos_x:\n",
    "        #     # start_pos + self.pos[0] + fix_x = self.max_pos_x - 1 - self.column_width\n",
    "        #     fix_x = -(start_pos + self.pos[0]) + self.max_pos_x - 1 - self.column_width\n",
    "            \n",
    "        # if start_pos + self.pos[1] < 0:\n",
    "        #     fix_y = -(start_pos + self.pos[1])\n",
    "        # elif start_pos + self.pos[1] + self.column_width >= self.max_pos_y:\n",
    "        #     fix_y = -(start_pos + self.pos[1]) + self.max_pos_y - 1 - self.column_width\n",
    "        \n",
    "        #print(\"fix\", fix_x, fix_y)\n",
    "        level = i // (self.column_width * self.column_width)\n",
    "        level_i = i % (self.column_width * self.column_width)\n",
    "        \n",
    "        return (start_pos + self.pos[0] + fix_x + level_i % self.column_width,\n",
    "                start_pos + self.pos[1] + fix_y + level_i // self.column_width,\n",
    "                level)\n",
    "        # if level < 1:\n",
    "        #     # first level\n",
    "        #     return (start_pos + self.pos[0] + i % self.column_width,\n",
    "        #             start_pos + self.pos[1] + i // self.column_width,\n",
    "        #             0)\n",
    "        # else:\n",
    "        #     # not the first level\n",
    "        #     # print(i, level, \"not the first level\")\n",
    "        #     level_i = i % (self.column_width * self.column_width)\n",
    "        #     return (start_pos + self.pos[0] + level_i % self.column_width,\n",
    "        #             start_pos + self.pos[1] + level_i // self.column_width,\n",
    "        #             level)\n",
    "    \n",
    "    def forward(self, x):\n",
    "        \"\"\"\n",
    "        x is a scalar.\n",
    "        It basically indicates if this column is activated or not.\n",
    "        and if it is then it works as a multiplier \n",
    "        (maybe important during summation and threshold within an activation function)\n",
    "        \n",
    "        The output is an array of neurons across this column\n",
    "        \"\"\"\n",
    "        return x * self.weight\n",
    "\n",
    "    def update_weights(self, x, y):\n",
    "        oja_diff = y * (x - y * self.weight)\n",
    "        self.weight += self.learning_rate * oja_diff\n"
   ]
  },
  {
   "cell_type": "code",
   "execution_count": 14,
   "metadata": {},
   "outputs": [],
   "source": [
    "field_width = 15\n",
    "field_height = 15\n",
    "\n",
    "column_height = 3\n",
    "column_width = 2\n",
    "\n",
    "n_dendrites = 12 # some of them are in the column width but some can lie outside\n",
    "n_synapses = 4 # possible duplicate connections between pre-synaptic axon and post-synaptic dendrites\n"
   ]
  },
  {
   "cell_type": "code",
   "execution_count": 15,
   "metadata": {},
   "outputs": [],
   "source": [
    "neuron = Neuron(\n",
    "    (1, 14),\n",
    "    field_height=field_height,\n",
    "    field_width=field_width,\n",
    "    column_height=column_height,\n",
    "    column_width=column_width,\n",
    "    n_dendrites=n_dendrites,\n",
    "    n_synapses=n_synapses\n",
    ")"
   ]
  },
  {
   "cell_type": "code",
   "execution_count": 16,
   "metadata": {},
   "outputs": [
    {
     "data": {
      "text/plain": [
       "12"
      ]
     },
     "execution_count": 16,
     "metadata": {},
     "output_type": "execute_result"
    }
   ],
   "source": [
    "neuron.forward(42.0).shape[1]"
   ]
  },
  {
   "cell_type": "code",
   "execution_count": 17,
   "metadata": {},
   "outputs": [
    {
     "name": "stdout",
     "output_type": "stream",
     "text": [
      "0 (1, 14, 0)\n",
      "1 (2, 14, 0)\n",
      "2 (1, 15, 0)\n",
      "3 (2, 15, 0)\n",
      "4 (1, 14, 1)\n",
      "5 (2, 14, 1)\n",
      "6 (1, 15, 1)\n",
      "7 (2, 15, 1)\n",
      "8 (1, 14, 2)\n",
      "9 (2, 14, 2)\n",
      "10 (1, 15, 2)\n",
      "11 (2, 15, 2)\n"
     ]
    }
   ],
   "source": [
    "for i in range(column_width * column_width * column_height):\n",
    "    pos = neuron.i_to_neuron_pos(i)\n",
    "    print(i, pos)"
   ]
  },
  {
   "cell_type": "code",
   "execution_count": 18,
   "metadata": {},
   "outputs": [],
   "source": [
    "\n",
    "neurons = []\n",
    "\n",
    "for x in range(field_width):\n",
    "    for y in range(field_height):\n",
    "        neuron = Neuron(\n",
    "            (x, y),\n",
    "            field_height=field_height,\n",
    "            field_width=field_width,\n",
    "            column_height=column_height,\n",
    "            column_width=column_width,\n",
    "            n_dendrites=n_dendrites,\n",
    "            n_synapses=n_synapses\n",
    "        )\n",
    "        neurons.append(neuron)\n"
   ]
  },
  {
   "cell_type": "code",
   "execution_count": 19,
   "metadata": {},
   "outputs": [
    {
     "data": {
      "text/plain": [
       "tensor([[0., 0., 0., 0., 0., 0., 0., 0., 0., 0., 0., 0., 0., 0., 0.],\n",
       "        [0., 0., 0., 0., 0., 0., 0., 0., 0., 0., 0., 0., 0., 0., 0.],\n",
       "        [0., 0., 0., 0., 0., 0., 0., 0., 0., 0., 0., 0., 0., 0., 0.],\n",
       "        [0., 0., 0., 0., 0., 0., 0., 0., 0., 0., 0., 0., 0., 0., 0.],\n",
       "        [0., 0., 0., 0., 0., 0., 0., 0., 0., 0., 0., 0., 0., 0., 0.],\n",
       "        [0., 0., 0., 0., 0., 0., 0., 0., 0., 0., 0., 0., 0., 0., 0.],\n",
       "        [0., 0., 0., 0., 0., 0., 0., 0., 0., 0., 0., 0., 0., 0., 0.],\n",
       "        [0., 0., 0., 0., 0., 0., 0., 0., 0., 0., 0., 0., 0., 0., 0.],\n",
       "        [0., 0., 0., 0., 0., 0., 0., 0., 0., 0., 0., 0., 0., 0., 0.],\n",
       "        [0., 0., 0., 0., 0., 0., 0., 0., 0., 0., 0., 0., 0., 0., 0.],\n",
       "        [0., 0., 0., 0., 0., 0., 0., 0., 0., 0., 0., 0., 0., 0., 0.],\n",
       "        [0., 0., 0., 0., 0., 0., 0., 0., 0., 0., 0., 0., 0., 0., 0.],\n",
       "        [0., 0., 0., 0., 0., 0., 0., 0., 0., 0., 0., 0., 0., 0., 0.],\n",
       "        [0., 0., 0., 0., 0., 0., 0., 0., 0., 1., 1., 1., 1., 1., 0.],\n",
       "        [0., 0., 0., 0., 0., 0., 0., 0., 0., 0., 0., 0., 0., 0., 0.]])"
      ]
     },
     "execution_count": 19,
     "metadata": {},
     "output_type": "execute_result"
    }
   ],
   "source": [
    "x = input_saccades[0]\n",
    "x"
   ]
  },
  {
   "cell_type": "code",
   "execution_count": 20,
   "metadata": {},
   "outputs": [
    {
     "data": {
      "text/plain": [
       "tensor([[[0.0000, 0.0000, 0.0000, 0.0000, 0.0000, 0.0000, 0.0000, 0.0000,\n",
       "          0.0000, 0.0000, 0.0000, 0.0000, 0.0000, 0.0000, 0.0000],\n",
       "         [0.0000, 0.0000, 0.0000, 0.0000, 0.0000, 0.0000, 0.0000, 0.0000,\n",
       "          0.0000, 0.0000, 0.0000, 0.0000, 0.0000, 0.0000, 0.0000],\n",
       "         [0.0000, 0.0000, 0.0000, 0.0000, 0.0000, 0.0000, 0.0000, 0.0000,\n",
       "          0.0000, 0.0000, 0.0000, 0.0000, 0.0000, 0.0000, 0.0000],\n",
       "         [0.0000, 0.0000, 0.0000, 0.0000, 0.0000, 0.0000, 0.0000, 0.0000,\n",
       "          0.0000, 0.0000, 0.0000, 0.0000, 0.0000, 0.0000, 0.0000],\n",
       "         [0.0000, 0.0000, 0.0000, 0.0000, 0.0000, 0.0000, 0.0000, 0.0000,\n",
       "          0.0000, 0.0000, 0.0000, 0.0000, 0.0000, 0.0000, 0.0000],\n",
       "         [0.0000, 0.0000, 0.0000, 0.0000, 0.0000, 0.0000, 0.0000, 0.0000,\n",
       "          0.0000, 0.0000, 0.0000, 0.0000, 0.0000, 0.0000, 0.0000],\n",
       "         [0.0000, 0.0000, 0.0000, 0.0000, 0.0000, 0.0000, 0.0000, 0.0000,\n",
       "          0.0000, 0.0000, 0.0000, 0.0000, 0.0000, 0.0000, 0.0000],\n",
       "         [0.0000, 0.0000, 0.0000, 0.0000, 0.0000, 0.0000, 0.0000, 0.0000,\n",
       "          0.0000, 0.0000, 0.0000, 0.0000, 0.0000, 0.0000, 0.0000],\n",
       "         [0.0000, 0.0000, 0.0000, 0.0000, 0.0000, 0.0000, 0.0000, 0.0000,\n",
       "          0.0000, 0.0000, 0.0000, 0.0000, 0.0000, 0.0000, 0.0000],\n",
       "         [0.0000, 0.0000, 0.0000, 0.0000, 0.0000, 0.0000, 0.0000, 0.0000,\n",
       "          0.0000, 0.0000, 0.0000, 0.0000, 0.0000, 0.0000, 0.0000],\n",
       "         [0.0000, 0.0000, 0.0000, 0.0000, 0.0000, 0.0000, 0.0000, 0.0000,\n",
       "          0.0000, 0.0000, 0.0000, 0.0000, 0.0000, 0.0000, 0.0000],\n",
       "         [0.0000, 0.0000, 0.0000, 0.0000, 0.0000, 0.0000, 0.0000, 0.0000,\n",
       "          0.0000, 0.0000, 0.0000, 0.0000, 0.0000, 0.0000, 0.0000],\n",
       "         [0.0000, 0.0000, 0.0000, 0.0000, 0.0000, 0.0000, 0.0000, 0.0000,\n",
       "          0.0000, 0.0000, 0.0000, 0.0000, 0.0000, 0.0000, 0.0000],\n",
       "         [0.0000, 0.0000, 0.0000, 0.0000, 0.0000, 0.0000, 0.0000, 0.0000,\n",
       "          0.0000, 0.1000, 0.2000, 0.2000, 0.2000, 0.2000, 0.1000],\n",
       "         [0.0000, 0.0000, 0.0000, 0.0000, 0.0000, 0.0000, 0.0000, 0.0000,\n",
       "          0.0000, 0.1000, 0.2000, 0.2000, 0.2000, 0.2000, 0.1000]],\n",
       "\n",
       "        [[0.0000, 0.0000, 0.0000, 0.0000, 0.0000, 0.0000, 0.0000, 0.0000,\n",
       "          0.0000, 0.0000, 0.0000, 0.0000, 0.0000, 0.0000, 0.0000],\n",
       "         [0.0000, 0.0000, 0.0000, 0.0000, 0.0000, 0.0000, 0.0000, 0.0000,\n",
       "          0.0000, 0.0000, 0.0000, 0.0000, 0.0000, 0.0000, 0.0000],\n",
       "         [0.0000, 0.0000, 0.0000, 0.0000, 0.0000, 0.0000, 0.0000, 0.0000,\n",
       "          0.0000, 0.0000, 0.0000, 0.0000, 0.0000, 0.0000, 0.0000],\n",
       "         [0.0000, 0.0000, 0.0000, 0.0000, 0.0000, 0.0000, 0.0000, 0.0000,\n",
       "          0.0000, 0.0000, 0.0000, 0.0000, 0.0000, 0.0000, 0.0000],\n",
       "         [0.0000, 0.0000, 0.0000, 0.0000, 0.0000, 0.0000, 0.0000, 0.0000,\n",
       "          0.0000, 0.0000, 0.0000, 0.0000, 0.0000, 0.0000, 0.0000],\n",
       "         [0.0000, 0.0000, 0.0000, 0.0000, 0.0000, 0.0000, 0.0000, 0.0000,\n",
       "          0.0000, 0.0000, 0.0000, 0.0000, 0.0000, 0.0000, 0.0000],\n",
       "         [0.0000, 0.0000, 0.0000, 0.0000, 0.0000, 0.0000, 0.0000, 0.0000,\n",
       "          0.0000, 0.0000, 0.0000, 0.0000, 0.0000, 0.0000, 0.0000],\n",
       "         [0.0000, 0.0000, 0.0000, 0.0000, 0.0000, 0.0000, 0.0000, 0.0000,\n",
       "          0.0000, 0.0000, 0.0000, 0.0000, 0.0000, 0.0000, 0.0000],\n",
       "         [0.0000, 0.0000, 0.0000, 0.0000, 0.0000, 0.0000, 0.0000, 0.0000,\n",
       "          0.0000, 0.0000, 0.0000, 0.0000, 0.0000, 0.0000, 0.0000],\n",
       "         [0.0000, 0.0000, 0.0000, 0.0000, 0.0000, 0.0000, 0.0000, 0.0000,\n",
       "          0.0000, 0.0000, 0.0000, 0.0000, 0.0000, 0.0000, 0.0000],\n",
       "         [0.0000, 0.0000, 0.0000, 0.0000, 0.0000, 0.0000, 0.0000, 0.0000,\n",
       "          0.0000, 0.0000, 0.0000, 0.0000, 0.0000, 0.0000, 0.0000],\n",
       "         [0.0000, 0.0000, 0.0000, 0.0000, 0.0000, 0.0000, 0.0000, 0.0000,\n",
       "          0.0000, 0.0000, 0.0000, 0.0000, 0.0000, 0.0000, 0.0000],\n",
       "         [0.0000, 0.0000, 0.0000, 0.0000, 0.0000, 0.0000, 0.0000, 0.0000,\n",
       "          0.0000, 0.0000, 0.0000, 0.0000, 0.0000, 0.0000, 0.0000],\n",
       "         [0.0000, 0.0000, 0.0000, 0.0000, 0.0000, 0.0000, 0.0000, 0.0000,\n",
       "          0.0000, 0.1000, 0.2000, 0.2000, 0.2000, 0.2000, 0.1000],\n",
       "         [0.0000, 0.0000, 0.0000, 0.0000, 0.0000, 0.0000, 0.0000, 0.0000,\n",
       "          0.0000, 0.1000, 0.2000, 0.2000, 0.2000, 0.2000, 0.1000]],\n",
       "\n",
       "        [[0.0000, 0.0000, 0.0000, 0.0000, 0.0000, 0.0000, 0.0000, 0.0000,\n",
       "          0.0000, 0.0000, 0.0000, 0.0000, 0.0000, 0.0000, 0.0000],\n",
       "         [0.0000, 0.0000, 0.0000, 0.0000, 0.0000, 0.0000, 0.0000, 0.0000,\n",
       "          0.0000, 0.0000, 0.0000, 0.0000, 0.0000, 0.0000, 0.0000],\n",
       "         [0.0000, 0.0000, 0.0000, 0.0000, 0.0000, 0.0000, 0.0000, 0.0000,\n",
       "          0.0000, 0.0000, 0.0000, 0.0000, 0.0000, 0.0000, 0.0000],\n",
       "         [0.0000, 0.0000, 0.0000, 0.0000, 0.0000, 0.0000, 0.0000, 0.0000,\n",
       "          0.0000, 0.0000, 0.0000, 0.0000, 0.0000, 0.0000, 0.0000],\n",
       "         [0.0000, 0.0000, 0.0000, 0.0000, 0.0000, 0.0000, 0.0000, 0.0000,\n",
       "          0.0000, 0.0000, 0.0000, 0.0000, 0.0000, 0.0000, 0.0000],\n",
       "         [0.0000, 0.0000, 0.0000, 0.0000, 0.0000, 0.0000, 0.0000, 0.0000,\n",
       "          0.0000, 0.0000, 0.0000, 0.0000, 0.0000, 0.0000, 0.0000],\n",
       "         [0.0000, 0.0000, 0.0000, 0.0000, 0.0000, 0.0000, 0.0000, 0.0000,\n",
       "          0.0000, 0.0000, 0.0000, 0.0000, 0.0000, 0.0000, 0.0000],\n",
       "         [0.0000, 0.0000, 0.0000, 0.0000, 0.0000, 0.0000, 0.0000, 0.0000,\n",
       "          0.0000, 0.0000, 0.0000, 0.0000, 0.0000, 0.0000, 0.0000],\n",
       "         [0.0000, 0.0000, 0.0000, 0.0000, 0.0000, 0.0000, 0.0000, 0.0000,\n",
       "          0.0000, 0.0000, 0.0000, 0.0000, 0.0000, 0.0000, 0.0000],\n",
       "         [0.0000, 0.0000, 0.0000, 0.0000, 0.0000, 0.0000, 0.0000, 0.0000,\n",
       "          0.0000, 0.0000, 0.0000, 0.0000, 0.0000, 0.0000, 0.0000],\n",
       "         [0.0000, 0.0000, 0.0000, 0.0000, 0.0000, 0.0000, 0.0000, 0.0000,\n",
       "          0.0000, 0.0000, 0.0000, 0.0000, 0.0000, 0.0000, 0.0000],\n",
       "         [0.0000, 0.0000, 0.0000, 0.0000, 0.0000, 0.0000, 0.0000, 0.0000,\n",
       "          0.0000, 0.0000, 0.0000, 0.0000, 0.0000, 0.0000, 0.0000],\n",
       "         [0.0000, 0.0000, 0.0000, 0.0000, 0.0000, 0.0000, 0.0000, 0.0000,\n",
       "          0.0000, 0.0000, 0.0000, 0.0000, 0.0000, 0.0000, 0.0000],\n",
       "         [0.0000, 0.0000, 0.0000, 0.0000, 0.0000, 0.0000, 0.0000, 0.0000,\n",
       "          0.0000, 0.1000, 0.2000, 0.2000, 0.2000, 0.2000, 0.1000],\n",
       "         [0.0000, 0.0000, 0.0000, 0.0000, 0.0000, 0.0000, 0.0000, 0.0000,\n",
       "          0.0000, 0.1000, 0.2000, 0.2000, 0.2000, 0.2000, 0.1000]]])"
      ]
     },
     "execution_count": 20,
     "metadata": {},
     "output_type": "execute_result"
    }
   ],
   "source": [
    "# yy = []\n",
    "# for x in range(field_width):\n",
    "#     row = []\n",
    "#     for y in range(field_height):\n",
    "#         row.append(torch.zeros(5))\n",
    "#     yy.append(row)\n",
    "\n",
    "y_total = torch.zeros(column_height, field_width, field_height)\n",
    "\n",
    "for n in neurons:\n",
    "    xx = input_saccades[0][n.pos[0], n.pos[1]]\n",
    "    y = n.forward(xx)\n",
    "    for i in range(y.shape[1]):\n",
    "        p = n.i_to_neuron_pos(i)\n",
    "        #print(i, n.pos[0], n.pos[1], p)\n",
    "        if p[0] < 0 or p[0] >= field_width or p[1] < 0 or p[1] >= field_height:\n",
    "            continue\n",
    "        y_total[p[2], p[0], p[1]] += y[0,i]\n",
    "\n",
    "\n",
    "# yy\n",
    "y_total\n",
    "        "
   ]
  },
  {
   "cell_type": "code",
   "execution_count": 21,
   "metadata": {},
   "outputs": [
    {
     "data": {
      "image/png": "[encoded data removed]",
      "text/plain": [
       "<Figure size 400x400 with 2 Axes>"
      ]
     },
     "metadata": {},
     "output_type": "display_data"
    }
   ],
   "source": [
    "plt.figure(figsize=(4, 4))\n",
    "x_mat = plt.imshow(torch.mean(y_total, dim=0), cmap=cm.coolwarm)\n",
    "# x_mat = plt.imshow(y_total[2,:,:], cmap=cm.coolwarm)\n",
    "plt.colorbar(x_mat)\n",
    "plt.title(\"Activation on layer 3\")\n",
    "plt.tight_layout()\n",
    "plt.show()"
   ]
  },
  {
   "cell_type": "code",
   "execution_count": 22,
   "metadata": {},
   "outputs": [],
   "source": [
    "\n",
    "n_column_neurons = column_width * column_width * column_height\n",
    "\n",
    "for n in neurons:\n",
    "    xx = input_saccades[0][n.pos[0], n.pos[1]]\n",
    "    yy = torch.zeros(1, n_column_neurons)\n",
    "    for i in range(n_column_neurons):\n",
    "        p = n.i_to_neuron_pos(i)\n",
    "        if p[0] < 0 or p[0] >= field_width or p[1] < 0 or p[1] >= field_height:\n",
    "            continue\n",
    "        \n",
    "        yy[0, i] = y_total[p[2], p[0], p[1]]\n",
    "\n",
    "    n.update_weights(xx, yy)"
   ]
  },
  {
   "cell_type": "code",
   "execution_count": 23,
   "metadata": {},
   "outputs": [
    {
     "data": {
      "image/png": "[encoded data removed]",
      "text/plain": [
       "<Figure size 400x400 with 2 Axes>"
      ]
     },
     "metadata": {},
     "output_type": "display_data"
    }
   ],
   "source": [
    "y_total = torch.zeros(column_height, field_width, field_height)\n",
    "\n",
    "for n in neurons:\n",
    "    xx = input_saccades[0][n.pos[0], n.pos[1]]\n",
    "    y = n.forward(xx)\n",
    "    for i in range(y.shape[1]):\n",
    "        p = n.i_to_neuron_pos(i)\n",
    "        if p[0] < 0 or p[0] >= field_width or p[1] < 0 or p[1] >= field_height:\n",
    "            continue\n",
    "        y_total[p[2], p[0], p[1]] += y[0,i]\n",
    "\n",
    "plt.figure(figsize=(4, 4))\n",
    "x_mat = plt.imshow(torch.mean(y_total, dim=0), cmap=cm.coolwarm)\n",
    "# x_mat = plt.imshow(y_total[2,:,:], cmap=cm.coolwarm)\n",
    "plt.colorbar(x_mat)\n",
    "plt.title(\"Activation on layer 3\")\n",
    "plt.tight_layout()\n",
    "plt.show()"
   ]
  },
  {
   "cell_type": "code",
   "execution_count": 24,
   "metadata": {},
   "outputs": [
    {
     "data": {
      "image/png": "[encoded data removed]",
      "text/plain": [
       "<Figure size 400x400 with 2 Axes>"
      ]
     },
     "metadata": {},
     "output_type": "display_data"
    }
   ],
   "source": [
    "# create / reset the network\n",
    "neurons = []\n",
    "\n",
    "for h in range(column_height):\n",
    "    neurons.append([])\n",
    "    for x in range(field_width):\n",
    "        for y in range(field_height):\n",
    "            neuron = Neuron(\n",
    "                (x, y, h),\n",
    "                field_height=field_height,\n",
    "                field_width=field_width,\n",
    "                column_height=column_height,\n",
    "                column_width=column_width,\n",
    "                n_dendrites=n_dendrites,\n",
    "                n_synapses=n_synapses\n",
    "            )\n",
    "            neurons[h].append(neuron)\n",
    "\n",
    "# train\n",
    "for k in range(K):\n",
    "    input_data = [ input_saccades[k] ]\n",
    "    \n",
    "    for h in range(column_height):\n",
    "        # forward\n",
    "        y_total = torch.zeros(column_height, field_width, field_height)\n",
    "\n",
    "        for n in neurons[h]:\n",
    "            xx = input_data[h][n.pos[0], n.pos[1]]\n",
    "            y = n.forward(xx)\n",
    "            for i in range(y.shape[1]):\n",
    "                p = n.i_to_neuron_pos(i)\n",
    "                if p[0] < 0 or p[0] >= field_width or p[1] < 0 or p[1] >= field_height:\n",
    "                    continue\n",
    "                y_total[p[2], p[0], p[1]] += y[0,i]\n",
    "        \n",
    "        input_data.append(y_total[h])\n",
    "        \n",
    "        # update\n",
    "        for n in neurons[h]:\n",
    "            xx = input_data[h][n.pos[0], n.pos[1]]\n",
    "            yy = torch.zeros(1, n_column_neurons)\n",
    "            for i in range(n_column_neurons):\n",
    "                p = n.i_to_neuron_pos(i)\n",
    "                if p[0] < 0 or p[0] >= field_width or p[1] < 0 or p[1] >= field_height:\n",
    "                    continue\n",
    "                yy[0, i] = y_total[p[2], p[0], p[1]]\n",
    "\n",
    "            n.update_weights(xx, yy)\n",
    "\n",
    "# test\n",
    "y_total = torch.zeros(column_height, field_width, field_height)\n",
    "\n",
    "for n in neurons[0]:\n",
    "    xx = input_data[0][n.pos[0], n.pos[1]]\n",
    "    y = n.forward(xx)\n",
    "    for i in range(y.shape[1]):\n",
    "        p = n.i_to_neuron_pos(i)\n",
    "        if p[0] < 0 or p[0] >= field_width or p[1] < 0 or p[1] >= field_height:\n",
    "            continue\n",
    "        y_total[p[2], p[0], p[1]] += y[0,i]\n",
    "\n",
    "plt.figure(figsize=(4, 4))\n",
    "x_mat = plt.imshow(torch.mean(y_total, dim=0), cmap=cm.coolwarm)\n",
    "# x_mat = plt.imshow(y_total[2,:,:], cmap=cm.coolwarm)\n",
    "plt.colorbar(x_mat)\n",
    "plt.title(\"Activation on layer 3\")\n",
    "plt.tight_layout()\n",
    "plt.show()\n"
   ]
  },
  {
   "cell_type": "code",
   "execution_count": 25,
   "metadata": {},
   "outputs": [
    {
     "data": {
      "image/png": "[encoded data removed]",
      "text/plain": [
       "<Figure size 400x600 with 15 Axes>"
      ]
     },
     "metadata": {},
     "output_type": "display_data"
    }
   ],
   "source": [
    "# test\n",
    "# y_total = torch.zeros(column_height, field_width, field_height)\n",
    "input_data = [ input_saccades[0] ]\n",
    "states = []\n",
    "\n",
    "y_total = torch.zeros(column_height, field_width, field_height)\n",
    "levels = [0,1,2,1,0]\n",
    "\n",
    "for l in range(len(levels)):\n",
    "    y_total = torch.zeros(column_height, field_width, field_height)\n",
    "    active_level = levels[l]\n",
    "    for n in neurons[active_level]:\n",
    "        xx = input_data[-1][n.pos[0], n.pos[1]]\n",
    "        y = n.forward(xx)\n",
    "        for i in range(y.shape[1]):\n",
    "            p = n.i_to_neuron_pos(i)\n",
    "            if p[0] < 0 or p[0] >= field_width or p[1] < 0 or p[1] >= field_height:\n",
    "                continue\n",
    "            y_total[p[2], p[0], p[1]] += y[0,i]\n",
    "    next_level = levels[l+1] if l < len(levels) - 1 else levels[-1]\n",
    "    input_data.append(y_total[next_level])\n",
    "    states.append(y_total)\n",
    "\n",
    "# plt.figure(figsize=(4, 4))\n",
    "# x_mat = plt.imshow(torch.mean(y_total, dim=0), cmap=cm.coolwarm)\n",
    "# # x_mat = plt.imshow(y_total[2,:,:], cmap=cm.coolwarm)\n",
    "# plt.colorbar(x_mat)\n",
    "# plt.title(\"Activation on layer 3\")\n",
    "# plt.tight_layout()\n",
    "# plt.show()\n",
    "\n",
    "fig, axs = plt.subplots(5, column_height, figsize=(4, 6))\n",
    "for i in range(5):\n",
    "    for j in range(column_height):\n",
    "        axs[i,j].imshow(states[i][j], cmap=cm.Purples)\n",
    "\n",
    "plt.tight_layout()\n",
    "plt.show()"
   ]
  },
  {
   "attachments": {},
   "cell_type": "markdown",
   "metadata": {},
   "source": [
    "## Threshold\n",
    "\n",
    "I want to research how one thing can be implemented with matrix and vector multiplication. It resembles artificial neural networks but I plan to use another features in the network about propagating the signal. It might be similar to logic gates but I don't think they lie in a matrix realm.\n",
    "So the first feature is a threshold. We take vector, multiply it by a matrix and if values are lower than the threshold then the output is all zeros. This check should be another multiplication or something. Something efficient.\n",
    "And in case values are accumulated enough then the result will have some non zero values where values are greater than a threshold."
   ]
  },
  {
   "attachments": {},
   "cell_type": "markdown",
   "metadata": {},
   "source": [
    "It looks like a regular ANN. We multiply the input vector $\\mathbf{x}$ by a matrix $\\mathbf{M}$:\n",
    "\n",
    "$\n",
    "\\mathbf{y} = \\mathbf{M} \\cdot \\mathbf{x}\n",
    "$\n",
    "\n",
    "This gives us a resulting vector $\\mathbf{y}$.\n",
    "\n",
    "Then we use a threshold value $\\tau$ to make a comparator-like operation using ReLU-like functions:\n",
    "\n",
    "$\n",
    "\\mathbf{m} = \\text{ReLU}(\\mathbf{y} - \\tau)\n",
    "$\n",
    "\n",
    "It outputs 1 for values $\\geq 0$ and 0 for values < 0. \n",
    "\n",
    "We can use $\\mathbf{m}$ as a binary mask to retain only activted values:\n",
    "\n",
    "$\n",
    "\\mathbf{z} = \\mathbf{y}\\prime \\odot \\mathbf{m}\n",
    "$\n",
    "\n",
    "where $\\odot$ is the element-wise multiplication."
   ]
  },
  {
   "attachments": {},
   "cell_type": "markdown",
   "metadata": {},
   "source": [
    "During training the threshold can be lowered."
   ]
  },
  {
   "cell_type": "code",
   "execution_count": 42,
   "metadata": {},
   "outputs": [],
   "source": [
    "class NeuronWithThreshold:\n",
    "    def __init__(self, pos, \n",
    "                 field_height,\n",
    "                 field_width,\n",
    "                 column_height, \n",
    "                 column_width, \n",
    "                 n_dendrites, \n",
    "                 n_synapses,\n",
    "                 threshold=4.0):\n",
    "        self.pos = pos\n",
    "        self.max_pos_y = field_height\n",
    "        self.max_pos_x = field_width\n",
    "        self.column_height = column_height\n",
    "        self.column_width = column_width\n",
    "        self.n_dendrites = n_dendrites\n",
    "        self.n_synapses = n_synapses\n",
    "        self.threshold = threshold\n",
    "        \n",
    "        n_post_neurons = column_height * (column_width * column_width)\n",
    "        # n = n_post_neurons * n_dendrites * n_synapses\n",
    "        \n",
    "        # self.weight = torch.randn((1, n_post_neurons))\n",
    "        self.weight = torch.full((1, n_post_neurons), 0.1)\n",
    "        self.accum_y = torch.zeros_like(self.weight)\n",
    "        \n",
    "        self.learning_rate = 0.05\n",
    "\n",
    "    def i_to_neuron_pos(self, i):\n",
    "        if self.column_width % 2 == 0:\n",
    "            # no neuron on the same position above the current one\n",
    "            start_pos = - (self.column_width // 2) + 1\n",
    "        else:\n",
    "            start_pos = - (self.column_width // 2)\n",
    "        \n",
    "        fix_x = 0\n",
    "        fix_y = 0\n",
    "        \n",
    "        # if start_pos + self.pos[0] < 0:\n",
    "        #     # start_pos + self.pos[0] + fix_x = 0\n",
    "        #     fix_x = -(start_pos + self.pos[0])\n",
    "        # elif start_pos + self.pos[0] + self.column_width >= self.max_pos_x:\n",
    "        #     # start_pos + self.pos[0] + fix_x = self.max_pos_x - 1 - self.column_width\n",
    "        #     fix_x = -(start_pos + self.pos[0]) + self.max_pos_x - 1 - self.column_width\n",
    "            \n",
    "        # if start_pos + self.pos[1] < 0:\n",
    "        #     fix_y = -(start_pos + self.pos[1])\n",
    "        # elif start_pos + self.pos[1] + self.column_width >= self.max_pos_y:\n",
    "        #     fix_y = -(start_pos + self.pos[1]) + self.max_pos_y - 1 - self.column_width\n",
    "        \n",
    "        #print(\"fix\", fix_x, fix_y)\n",
    "        level = i // (self.column_width * self.column_width)\n",
    "        level_i = i % (self.column_width * self.column_width)\n",
    "        \n",
    "        return (start_pos + self.pos[0] + fix_x + level_i % self.column_width,\n",
    "                start_pos + self.pos[1] + fix_y + level_i // self.column_width,\n",
    "                level)\n",
    "        # if level < 1:\n",
    "        #     # first level\n",
    "        #     return (start_pos + self.pos[0] + i % self.column_width,\n",
    "        #             start_pos + self.pos[1] + i // self.column_width,\n",
    "        #             0)\n",
    "        # else:\n",
    "        #     # not the first level\n",
    "        #     # print(i, level, \"not the first level\")\n",
    "        #     level_i = i % (self.column_width * self.column_width)\n",
    "        #     return (start_pos + self.pos[0] + level_i % self.column_width,\n",
    "        #             start_pos + self.pos[1] + level_i // self.column_width,\n",
    "        #             level)\n",
    "    \n",
    "    def forward(self, x):\n",
    "        \"\"\"\n",
    "        x is a scalar.\n",
    "        It basically indicates if this column is activated or not.\n",
    "        and if it is then it works as a multiplier \n",
    "        (maybe important during summation and threshold within an activation function)\n",
    "        \n",
    "        The output is an array of neurons across this column\n",
    "        \"\"\"\n",
    "        y = x * self.weight + self.accum_y\n",
    "        self.accum_y = y\n",
    "        return torch.relu(y - self.threshold)\n",
    "\n",
    "    def reset(self):\n",
    "        self.accum_y = torch.zeros_like(self.weight)\n",
    "\n",
    "    def update_weights(self, x, y):\n",
    "        \"\"\"\n",
    "        propagate negative diff to weights\n",
    "        reduce threshold\n",
    "        \"\"\"\n",
    "        oja_diff = y * (x - y * self.weight)\n",
    "        self.weight += self.learning_rate * oja_diff\n"
   ]
  },
  {
   "cell_type": "code",
   "execution_count": 27,
   "metadata": {},
   "outputs": [
    {
     "data": {
      "image/png": "[encoded data removed]",
      "text/plain": [
       "<Figure size 1200x600 with 10 Axes>"
      ]
     },
     "metadata": {},
     "output_type": "display_data"
    }
   ],
   "source": [
    "# create / reset the network\n",
    "neurons = []\n",
    "\n",
    "for h in range(column_height):\n",
    "    neurons.append([])\n",
    "    for x in range(field_width):\n",
    "        for y in range(field_height):\n",
    "            neuron = NeuronWithThreshold(\n",
    "                (x, y, h),\n",
    "                field_height=field_height,\n",
    "                field_width=field_width,\n",
    "                column_height=column_height,\n",
    "                column_width=column_width,\n",
    "                n_dendrites=n_dendrites,\n",
    "                n_synapses=n_synapses,\n",
    "                threshold=0.2\n",
    "            )\n",
    "            neurons[h].append(neuron)\n",
    "\n",
    "# train\n",
    "# for k in range(K):\n",
    "#     input_data = [ input_saccades[k] ]\n",
    "    \n",
    "#     for h in range(column_height):\n",
    "#         # forward\n",
    "#         y_total = torch.zeros(column_height, field_width, field_height)\n",
    "\n",
    "#         for n in neurons[h]:\n",
    "#             xx = input_data[h][n.pos[0], n.pos[1]]\n",
    "#             y = n.forward(xx)\n",
    "#             for i in range(y.shape[1]):\n",
    "#                 p = n.i_to_neuron_pos(i)\n",
    "#                 if p[0] < 0 or p[0] >= field_width or p[1] < 0 or p[1] >= field_height:\n",
    "#                     continue\n",
    "#                 y_total[p[2], p[0], p[1]] += y[0,i]\n",
    "        \n",
    "#         input_data.append(y_total[h])\n",
    "        \n",
    "#         # update\n",
    "#         for n in neurons[h]:\n",
    "#             xx = input_data[h][n.pos[0], n.pos[1]]\n",
    "#             yy = torch.zeros(1, n_column_neurons)\n",
    "#             for i in range(n_column_neurons):\n",
    "#                 p = n.i_to_neuron_pos(i)\n",
    "#                 if p[0] < 0 or p[0] >= field_width or p[1] < 0 or p[1] >= field_height:\n",
    "#                     continue\n",
    "#                 yy[0, i] = y_total[p[2], p[0], p[1]]\n",
    "\n",
    "#             n.update_weights(xx, yy)\n",
    "\n",
    "# test\n",
    "test_data = input_saccades[0]\n",
    "\n",
    "y_total = torch.zeros(column_height, field_width, field_height)\n",
    "y_copies = []\n",
    "n_spike_train = 10\n",
    "\n",
    "for t in range(n_spike_train):\n",
    "    for n in neurons[0]:\n",
    "        xx = test_data[n.pos[0], n.pos[1]]\n",
    "        y = n.forward(xx)\n",
    "        for i in range(y.shape[1]):\n",
    "            p = n.i_to_neuron_pos(i)\n",
    "            if p[0] < 0 or p[0] >= field_width or p[1] < 0 or p[1] >= field_height:\n",
    "                continue\n",
    "            y_total[p[2], p[0], p[1]] += y[0,i]\n",
    "    y_copies.append(y_total.clone().detach())\n",
    "    if y_total.sum() > 0.0:\n",
    "        # reset values\n",
    "        y_total = torch.zeros(column_height, field_width, field_height)\n",
    "        for n in neurons[0]:\n",
    "            n.reset()\n",
    "\n",
    "# plt.figure(figsize=(4, 4))\n",
    "# x_mat = plt.imshow(torch.mean(y_total, dim=0), cmap=cm.coolwarm)\n",
    "# # x_mat = plt.imshow(y_total[2,:,:], cmap=cm.coolwarm)\n",
    "# plt.colorbar(x_mat)\n",
    "# plt.title(\"Activation on layer 3\")\n",
    "# plt.tight_layout()\n",
    "# plt.show()\n",
    "\n",
    "\n",
    "fig, axs = plt.subplots(1, n_spike_train, figsize=(12, 6))\n",
    "for i in range(1):\n",
    "    for j in range(n_spike_train):\n",
    "        axs[j].imshow(torch.mean(y_copies[j], dim=0), cmap=cm.Purples)\n",
    "        # axs[j].imshow(y_copies[j][0], cmap=cm.Purples)\n",
    "\n",
    "# plt.tight_layout()\n",
    "plt.show()"
   ]
  },
  {
   "attachments": {},
   "cell_type": "markdown",
   "metadata": {},
   "source": [
    "## Active inference - update weights\n",
    "\n",
    "This will be unlike any regular training where initial random weights can be negative and positive.\n",
    "\n",
    "We will utilize small initial values and every neuron will have a big threshold."
   ]
  },
  {
   "cell_type": "code",
   "execution_count": 53,
   "metadata": {},
   "outputs": [],
   "source": [
    "# create / reset the network\n",
    "neurons = []\n",
    "\n",
    "for h in range(column_height):\n",
    "    neurons.append([])\n",
    "    for x in range(field_width):\n",
    "        for y in range(field_height):\n",
    "            neuron = NeuronWithThreshold(\n",
    "                (x, y, h),\n",
    "                field_height=field_height,\n",
    "                field_width=field_width,\n",
    "                column_height=column_height,\n",
    "                column_width=column_width,\n",
    "                n_dendrites=n_dendrites,\n",
    "                n_synapses=n_synapses,\n",
    "                threshold=0.2\n",
    "            )\n",
    "            neurons[h].append(neuron)\n"
   ]
  },
  {
   "cell_type": "code",
   "execution_count": 54,
   "metadata": {},
   "outputs": [
    {
     "data": {
      "image/png": "[encoded data removed]",
      "text/plain": [
       "<Figure size 1200x600 with 10 Axes>"
      ]
     },
     "metadata": {},
     "output_type": "display_data"
    }
   ],
   "source": [
    "test_data = input_saccades[0]\n",
    "\n",
    "y_total = torch.zeros(column_height, field_width, field_height)\n",
    "y_copies = []\n",
    "n_spike_train = 10\n",
    "\n",
    "for t in range(n_spike_train):\n",
    "    for n in neurons[0]:\n",
    "        xx = test_data[n.pos[0], n.pos[1]]\n",
    "        y = n.forward(xx)\n",
    "        for i in range(y.shape[1]):\n",
    "            p = n.i_to_neuron_pos(i)\n",
    "            if p[0] < 0 or p[0] >= field_width or p[1] < 0 or p[1] >= field_height:\n",
    "                continue\n",
    "            y_total[p[2], p[0], p[1]] += y[0,i]\n",
    "    y_copies.append(y_total.clone().detach())\n",
    "    if y_total.sum() > 0.0:\n",
    "        # reset values\n",
    "        y_total = torch.zeros(column_height, field_width, field_height)\n",
    "        for n in neurons[0]:\n",
    "            n.reset()\n",
    "\n",
    "# plt.figure(figsize=(4, 4))\n",
    "# x_mat = plt.imshow(torch.mean(y_total, dim=0), cmap=cm.coolwarm)\n",
    "# # x_mat = plt.imshow(y_total[2,:,:], cmap=cm.coolwarm)\n",
    "# plt.colorbar(x_mat)\n",
    "# plt.title(\"Activation on layer 3\")\n",
    "# plt.tight_layout()\n",
    "# plt.show()\n",
    "\n",
    "\n",
    "fig, axs = plt.subplots(1, n_spike_train, figsize=(12, 6))\n",
    "for i in range(1):\n",
    "    for j in range(n_spike_train):\n",
    "        axs[j].imshow(torch.mean(y_copies[j], dim=0), cmap=cm.Purples)\n",
    "        # axs[j].imshow(y_copies[j][0], cmap=cm.Purples)\n",
    "\n",
    "# plt.tight_layout()\n",
    "plt.show()"
   ]
  },
  {
   "cell_type": "code",
   "execution_count": 70,
   "metadata": {},
   "outputs": [
    {
     "data": {
      "image/png": "[encoded data removed]",
      "text/plain": [
       "<Figure size 1200x600 with 2 Axes>"
      ]
     },
     "metadata": {},
     "output_type": "display_data"
    }
   ],
   "source": [
    "input_data = [ input_saccades[0] ]\n",
    "\n",
    "y_copies = []    \n",
    "y_total = torch.zeros(column_height, field_width, field_height)\n",
    "h = 0\n",
    "\n",
    "# forward\n",
    "for n in neurons[h]:\n",
    "    xx = input_data[h][n.pos[0], n.pos[1]]\n",
    "    y = n.forward(xx)\n",
    "    for i in range(y.shape[1]):\n",
    "        p = n.i_to_neuron_pos(i)\n",
    "        if p[0] < 0 or p[0] >= field_width or p[1] < 0 or p[1] >= field_height:\n",
    "            continue\n",
    "        y_total[p[2], p[0], p[1]] += y[0,i]\n",
    "\n",
    "# Combine small tensors into a larger tensor grid\n",
    "weights = torch.cat([n.weight for n in neurons[h]], dim=0)\n",
    "plot_tensor = weights.view(-1, field_height * column_height)\n",
    "y_copies.append(plot_tensor.clone().detach())\n",
    "\n",
    "if y_total.sum() > 0.0:\n",
    "\n",
    "    # update\n",
    "    print(\"--update--\")\n",
    "    for n in neurons[h]:\n",
    "        xx = input_data[h][n.pos[0], n.pos[1]]\n",
    "        yy = torch.zeros(1, n_column_neurons)\n",
    "        for i in range(n_column_neurons):\n",
    "            p = n.i_to_neuron_pos(i)\n",
    "            if p[0] < 0 or p[0] >= field_width or p[1] < 0 or p[1] >= field_height:\n",
    "                continue\n",
    "            yy[0, i] = y_total[p[2], p[0], p[1]]\n",
    "\n",
    "        n.update_weights(xx, yy)\n",
    "\n",
    "\n",
    "    # reset values\n",
    "    y_total = torch.zeros(column_height, field_width, field_height)\n",
    "    for n in neurons[0]:\n",
    "        n.reset()\n",
    "\n",
    "weights = torch.cat([n.weight for n in neurons[h]], dim=0)\n",
    "plot_tensor = weights.view(-1, field_height * column_height)\n",
    "y_copies.append(plot_tensor.clone().detach())\n",
    "# y_copies.append(y_total.clone().detach())\n",
    "\n",
    "# plot\n",
    "fig, axs = plt.subplots(1, 2, figsize=(12, 6))\n",
    "for i in range(1):\n",
    "    for j in range(2):\n",
    "        axs[j].imshow(y_copies[j], cmap=cm.Purples)\n",
    "\n",
    "# plt.tight_layout()\n",
    "plt.show()"
   ]
  },
  {
   "cell_type": "code",
   "execution_count": 73,
   "metadata": {},
   "outputs": [
    {
     "data": {
      "text/plain": [
       "tensor([[0.1000, 0.1000, 0.1000, 0.1000, 0.1000, 0.1000, 0.1000, 0.1000, 0.1000,\n",
       "         0.1000, 0.1000, 0.1000]])"
      ]
     },
     "execution_count": 73,
     "metadata": {},
     "output_type": "execute_result"
    }
   ],
   "source": [
    "neurons[0][0].weight"
   ]
  },
  {
   "cell_type": "code",
   "execution_count": 83,
   "metadata": {},
   "outputs": [
    {
     "data": {
      "text/plain": [
       "tensor([[0.0997, 0.1000, 0.0997, 0.1000, 0.0997, 0.1000, 0.0997, 0.1000, 0.0997,\n",
       "         0.1000, 0.0997, 0.1000]])"
      ]
     },
     "execution_count": 83,
     "metadata": {},
     "output_type": "execute_result"
    }
   ],
   "source": [
    "neurons[0][15*15-4].weight"
   ]
  },
  {
   "cell_type": "code",
   "execution_count": 68,
   "metadata": {},
   "outputs": [
    {
     "data": {
      "image/png": "[encoded data removed]",
      "text/plain": [
       "<Figure size 1200x600 with 10 Axes>"
      ]
     },
     "metadata": {},
     "output_type": "display_data"
    }
   ],
   "source": [
    "test_data = input_saccades[0]\n",
    "\n",
    "y_total = torch.zeros(column_height, field_width, field_height)\n",
    "y_copies = []\n",
    "n_spike_train = 10\n",
    "\n",
    "for t in range(n_spike_train):\n",
    "    for n in neurons[0]:\n",
    "        xx = test_data[n.pos[0], n.pos[1]]\n",
    "        y = n.forward(xx)\n",
    "        for i in range(y.shape[1]):\n",
    "            p = n.i_to_neuron_pos(i)\n",
    "            if p[0] < 0 or p[0] >= field_width or p[1] < 0 or p[1] >= field_height:\n",
    "                continue\n",
    "            y_total[p[2], p[0], p[1]] += y[0,i]\n",
    "    y_copies.append(y_total.clone().detach())\n",
    "    if y_total.sum() > 0.0:\n",
    "        # reset values\n",
    "        y_total = torch.zeros(column_height, field_width, field_height)\n",
    "        for n in neurons[0]:\n",
    "            n.reset()\n",
    "\n",
    "# plt.figure(figsize=(4, 4))\n",
    "# x_mat = plt.imshow(torch.mean(y_total, dim=0), cmap=cm.coolwarm)\n",
    "# # x_mat = plt.imshow(y_total[2,:,:], cmap=cm.coolwarm)\n",
    "# plt.colorbar(x_mat)\n",
    "# plt.title(\"Activation on layer 3\")\n",
    "# plt.tight_layout()\n",
    "# plt.show()\n",
    "\n",
    "\n",
    "fig, axs = plt.subplots(1, n_spike_train, figsize=(12, 6))\n",
    "for i in range(1):\n",
    "    for j in range(n_spike_train):\n",
    "        axs[j].imshow(torch.mean(y_copies[j], dim=0), cmap=cm.Purples)\n",
    "        # axs[j].imshow(y_copies[j][0], cmap=cm.Purples)\n",
    "\n",
    "# plt.tight_layout()\n",
    "plt.show()"
   ]
  },
  {
   "cell_type": "code",
   "execution_count": 69,
   "metadata": {},
   "outputs": [
    {
     "data": {
      "text/plain": [
       "tensor([[0.0000, 0.0000, 0.0000, 0.0000, 0.0000, 0.0000, 0.0000, 0.0000, 0.0000,\n",
       "         0.0000, 0.0000, 0.0000, 0.0000, 0.0000, 0.0000],\n",
       "        [0.0000, 0.0000, 0.0000, 0.0000, 0.0000, 0.0000, 0.0000, 0.0000, 0.0000,\n",
       "         0.0000, 0.0000, 0.0000, 0.0000, 0.0000, 0.0000],\n",
       "        [0.0000, 0.0000, 0.0000, 0.0000, 0.0000, 0.0000, 0.0000, 0.0000, 0.0000,\n",
       "         0.0000, 0.0000, 0.0000, 0.0000, 0.0000, 0.0000],\n",
       "        [0.0000, 0.0000, 0.0000, 0.0000, 0.0000, 0.0000, 0.0000, 0.0000, 0.0000,\n",
       "         0.0000, 0.0000, 0.0000, 0.0000, 0.0000, 0.0000],\n",
       "        [0.0000, 0.0000, 0.0000, 0.0000, 0.0000, 0.0000, 0.0000, 0.0000, 0.0000,\n",
       "         0.0000, 0.0000, 0.0000, 0.0000, 0.0000, 0.0000],\n",
       "        [0.0000, 0.0000, 0.0000, 0.0000, 0.0000, 0.0000, 0.0000, 0.0000, 0.0000,\n",
       "         0.0000, 0.0000, 0.0000, 0.0000, 0.0000, 0.0000],\n",
       "        [0.0000, 0.0000, 0.0000, 0.0000, 0.0000, 0.0000, 0.0000, 0.0000, 0.0000,\n",
       "         0.0000, 0.0000, 0.0000, 0.0000, 0.0000, 0.0000],\n",
       "        [0.0000, 0.0000, 0.0000, 0.0000, 0.0000, 0.0000, 0.0000, 0.0000, 0.0000,\n",
       "         0.0000, 0.0000, 0.0000, 0.0000, 0.0000, 0.0000],\n",
       "        [0.0000, 0.0000, 0.0000, 0.0000, 0.0000, 0.0000, 0.0000, 0.0000, 0.0000,\n",
       "         0.0000, 0.0000, 0.0000, 0.0000, 0.0000, 0.0000],\n",
       "        [0.0000, 0.0000, 0.0000, 0.0000, 0.0000, 0.0000, 0.0000, 0.0000, 0.0000,\n",
       "         0.0000, 0.0000, 0.0000, 0.0000, 0.0000, 0.0000],\n",
       "        [0.0000, 0.0000, 0.0000, 0.0000, 0.0000, 0.0000, 0.0000, 0.0000, 0.0000,\n",
       "         0.0000, 0.0000, 0.0000, 0.0000, 0.0000, 0.0000],\n",
       "        [0.0000, 0.0000, 0.0000, 0.0000, 0.0000, 0.0000, 0.0000, 0.0000, 0.0000,\n",
       "         0.0000, 0.0000, 0.0000, 0.0000, 0.0000, 0.0000],\n",
       "        [0.0000, 0.0000, 0.0000, 0.0000, 0.0000, 0.0000, 0.0000, 0.0000, 0.0000,\n",
       "         0.0000, 0.0000, 0.0000, 0.0000, 0.0000, 0.0000],\n",
       "        [0.0000, 0.0000, 0.0000, 0.0000, 0.0000, 0.0000, 0.0000, 0.0000, 0.0000,\n",
       "         0.0145, 0.0810, 0.0810, 0.0810, 0.0810, 0.0145],\n",
       "        [0.0000, 0.0000, 0.0000, 0.0000, 0.0000, 0.0000, 0.0000, 0.0000, 0.0000,\n",
       "         0.0145, 0.0810, 0.0810, 0.0810, 0.0810, 0.0145]])"
      ]
     },
     "execution_count": 69,
     "metadata": {},
     "output_type": "execute_result"
    }
   ],
   "source": [
    "y_copies[1][0]"
   ]
  },
  {
   "attachments": {},
   "cell_type": "markdown",
   "metadata": {},
   "source": [
    "## Real SOM"
   ]
  },
  {
   "cell_type": "code",
   "execution_count": null,
   "metadata": {},
   "outputs": [],
   "source": [
    "class SOM(nn.Module):\n",
    "    \"\"\"\n",
    "    2-D Self-Organizing Map with Gaussian Neighbourhood function\n",
    "    and linearly decreasing learning rate.\n",
    "    \"\"\"\n",
    "    def __init__(self, m, n, dim, alpha=None, sigma=None):\n",
    "        super(SOM, self).__init__()\n",
    "        self.m = m\n",
    "        self.n = n\n",
    "        self.dim = dim\n",
    "        self.n_neurons = self.m * self.n\n",
    "        # gain coefficient\n",
    "        self.alpha = 0.3\n",
    "        # correction\n",
    "        self.sigma = max(m, n) / 2.0\n",
    "        \n",
    "        if alpha is not None:\n",
    "            self.alpha = float(alpha)\n",
    "        if sigma is not None:\n",
    "            self.sigma = float(sigma)\n",
    "\n",
    "        self.weights = torch.randn(self.n_neurons, dim)\n",
    "        self.locations = torch.tensor(np.array(list(self.make_grid_locations_iter(m, n))), dtype=torch.int32)\n",
    "        self.pdist = nn.PairwiseDistance(p=2)\n",
    "\n",
    "    def get_weights(self):\n",
    "        return self.weights\n",
    "\n",
    "    def get_locations(self):\n",
    "        return self.locations\n",
    "\n",
    "    def make_grid_locations_iter(self, m, n):\n",
    "        for i in range(m):\n",
    "            for j in range(n):\n",
    "                yield np.array([i, j])\n",
    "\n",
    "    def map_vects(self, input_vects):\n",
    "        to_return = []\n",
    "        for vect in input_vects:\n",
    "            min_index = min([i for i in range(self.n_neurons)],\n",
    "                            key=lambda x: np.linalg.norm(vect-self.weights[x]))\n",
    "            to_return.append(self.locations[min_index])\n",
    "\n",
    "        return to_return\n",
    "\n",
    "    def forward(self, x, learning_rate_op):\n",
    "        dists = self.pdist(x, self.weights) # compare X with every column in W. columns is a batch dimension\n",
    "        bmu_index = dists.min(0).indices # find the minimum distance\n",
    "        bmu_loc = self.locations[bmu_index,:]\n",
    "        \n",
    "        alpha_op = self.alpha * learning_rate_op\n",
    "        sigma_op = self.sigma * learning_rate_op\n",
    "\n",
    "        diff = self.locations - bmu_loc # .unsqueeze(0).repeat(self.n_neurons, 1) - don't need to copy because broadcasting will do it (ref: https://numpy.org/doc/stable/user/basics.broadcasting.html)\n",
    "        bmu_distance_squares = torch.sum(torch.pow(diff.float(), 2), 1) # array where for every neuron i: x_i ^2 + y_i ^2 -> d_i\n",
    "        neighbourhood_func = torch.exp(torch.neg(torch.div(bmu_distance_squares, sigma_op**2))) # e^{ -(d_i / sigma^2) }\n",
    "        gain_coefficient = alpha_op * neighbourhood_func\n",
    "        learning_rate_multiplier = gain_coefficient.repeat(self.dim, 1).T # copy to every dimension\n",
    "        delta = torch.mul(learning_rate_multiplier, x - self.weights) # (x - self.weights) - uses broadcasting too\n",
    "\n",
    "        self.weights += delta\n",
    "    \n",
    "    def forward_no_training(self, x):\n",
    "        # find a location where the distance between x and m_i is the minimum \n",
    "        min_index = torch.linalg.vector_norm(x - self.weights, ord=2, dim=1).min(0).indices\n",
    "        return self.locations[min_index]"
   ]
  },
  {
   "cell_type": "code",
   "execution_count": null,
   "metadata": {},
   "outputs": [],
   "source": [
    "batch_size = 100\n",
    "n_iter = 5\n",
    "som_dim = N * N\n",
    "som = SOM(N, N, som_dim)\n",
    "\n",
    "for iter_no in range(n_iter):\n",
    "    data = create_displaced_tensors(input, K=batch_size, receptive_field_size=(N, N))\n",
    "    # data dimension is 225 (15x15)\n",
    "    for i in range(len(data)):\n",
    "        learning_rate_op = 1.0 - iter_no/(1.0*n_iter)\n",
    "        som(data[i], learning_rate_op)"
   ]
  }
 ],
 "metadata": {
  "kernelspec": {
   "display_name": "diffusers",
   "language": "python",
   "name": "python3"
  },
  "language_info": {
   "codemirror_mode": {
    "name": "ipython",
    "version": 3
   },
   "file_extension": ".py",
   "mimetype": "text/x-python",
   "name": "python",
   "nbconvert_exporter": "python",
   "pygments_lexer": "ipython3",
   "version": "3.10.12"
  },
  "orig_nbformat": 4
 },
 "nbformat": 4,
 "nbformat_minor": 2
}
