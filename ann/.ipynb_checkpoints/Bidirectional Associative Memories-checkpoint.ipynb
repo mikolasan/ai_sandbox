{
 "cells": [
  {
   "cell_type": "code",
   "execution_count": 1,
   "id": "9048b2bb",
   "metadata": {},
   "outputs": [],
   "source": [
    "\"\"\"\n",
    "Post: https://towardsdatascience.com/a-succinct-guide-to-bidirectional-associative-memory-bam-d2f1ac9b868\n",
    "Original code from: https://github.com/arthurratz/bam_associations_intro\n",
    "\"\"\"\n",
    "\n",
    "import numpy as np"
   ]
  },
  {
   "cell_type": "code",
   "execution_count": 2,
   "id": "52f7fce8",
   "metadata": {},
   "outputs": [],
   "source": [
    "def learn(x,y):\n",
    "    return x.T.dot(y)"
   ]
  },
  {
   "cell_type": "code",
   "execution_count": 3,
   "id": "e507f8f2",
   "metadata": {},
   "outputs": [],
   "source": [
    "def learn_op(x,y):\n",
    "    return np.sum([np.outer(x,y) for x,y in zip(x,y)],axis=0)"
   ]
  },
  {
   "cell_type": "code",
   "execution_count": 4,
   "id": "8714412d",
   "metadata": {},
   "outputs": [],
   "source": [
    "def bipolar_th(x):\n",
    "    return 1 if x >= 0 else -1"
   ]
  },
  {
   "cell_type": "code",
   "execution_count": 39,
   "id": "c1d5836b",
   "metadata": {},
   "outputs": [],
   "source": [
    "def activate(x):\n",
    "    return np.vectorize(bipolar_th)(x)\n",
    "    #return np.sign(x)"
   ]
  },
  {
   "cell_type": "code",
   "execution_count": 49,
   "id": "ff6918f5",
   "metadata": {},
   "outputs": [],
   "source": [
    "# Recalls an association Y for the input pattern X, bidirectionally:\n",
    "def recall_backward(w, _input):\n",
    "    \"\"\"\n",
    "    Compute the BAM output until the existing \n",
    "    inputs are not equal to the new inputs\n",
    "    \"\"\"\n",
    "    while True:\n",
    "        _output = activate(w.dot(_input))\n",
    "        new_input = activate(w.T.dot(_output))\n",
    "        if np.all(np.equal(_input, new_input)):\n",
    "            break\n",
    "        _input = new_input\n",
    "    \n",
    "    return _output\n",
    "\n",
    "def recall_forward(w, _input):\n",
    "    \"\"\"\n",
    "    Compute the BAM output until the existing \n",
    "    inputs are not equal to the new inputs\n",
    "    \"\"\"\n",
    "    while True:\n",
    "        _output = activate(w.T.dot(_input))\n",
    "        new_input = activate(w.dot(_output))\n",
    "        if np.all(np.equal(_input, new_input)):\n",
    "            break\n",
    "        _input = new_input\n",
    "    \n",
    "    return _output"
   ]
  },
  {
   "cell_type": "code",
   "execution_count": 47,
   "id": "04854e19",
   "metadata": {},
   "outputs": [
    {
     "data": {
      "text/plain": [
       "array([[-1, -1, -1,  1,  3,  3, -1,  1, -3,  1, -3,  1,  3, -1,  1, -1,\n",
       "        -3, -1, -3,  3],\n",
       "       [-1,  3, -5,  1, -1,  3,  3, -3,  1,  1,  1,  1,  3,  3,  1, -1,\n",
       "         1,  3,  1,  3],\n",
       "       [ 3, -1,  3, -3, -1, -1, -1,  1,  1,  1,  1,  1, -5, -1,  1,  3,\n",
       "         1, -1,  1, -1],\n",
       "       [ 1,  1, -3, -1,  1,  5,  1, -1, -1,  3, -1,  3,  1,  1,  3,  1,\n",
       "        -1,  1, -1,  5],\n",
       "       [ 3, -1,  3,  1,  3, -1, -1,  5, -3,  1, -3,  1, -1, -5,  1, -1,\n",
       "        -3, -1, -3, -1],\n",
       "       [-3, -3,  1, -1,  1, -3,  1, -1, -1, -1,  3, -1,  1,  1, -5, -3,\n",
       "         3,  1,  3, -3],\n",
       "       [-1, -1, -1, -3, -1,  3, -1, -3,  1,  1,  1,  1, -1,  3,  1,  3,\n",
       "         1, -1,  1,  3],\n",
       "       [-1, -1, -1, -3, -1,  3, -1, -3,  1,  1,  1,  1, -1,  3,  1,  3,\n",
       "         1, -1,  1,  3],\n",
       "       [ 1,  1,  1, -1, -3,  1, -3, -1,  3, -1, -1, -1, -3,  1,  3,  5,\n",
       "        -1, -3, -1,  1],\n",
       "       [-1,  3, -1,  1, -5, -1, -1, -3,  5, -3,  1, -3, -1,  3,  1,  3,\n",
       "         1, -1,  1, -1],\n",
       "       [ 3, -1, -1, -3,  3,  3,  3,  1, -3,  5,  1,  5, -1, -1,  1, -1,\n",
       "         1,  3,  1,  3],\n",
       "       [-1, -1, -1,  1,  3,  3, -1,  1, -3,  1, -3,  1,  3, -1,  1, -1,\n",
       "        -3, -1, -3,  3],\n",
       "       [ 3, -1,  3,  1,  3, -1, -1,  5, -3,  1, -3,  1, -1, -5,  1, -1,\n",
       "        -3, -1, -3, -1],\n",
       "       [-1, -1,  3,  1, -1, -1, -5,  1,  1, -3, -3, -3, -1, -1,  1,  3,\n",
       "        -3, -5, -3, -1],\n",
       "       [-1,  3, -1,  1, -5, -1, -1, -3,  5, -3,  1, -3, -1,  3,  1,  3,\n",
       "         1, -1,  1, -1],\n",
       "       [ 1,  1,  1, -1, -3,  1, -3, -1,  3, -1, -1, -1, -3,  1,  3,  5,\n",
       "        -1, -3, -1,  1],\n",
       "       [-3, -3,  1, -1,  1, -3,  1, -1, -1, -1,  3, -1,  1,  1, -5, -3,\n",
       "         3,  1,  3, -3],\n",
       "       [ 3,  3, -1,  1, -1,  3, -1,  1,  1,  1, -3,  1, -1, -1,  5,  3,\n",
       "        -3, -1, -3,  3],\n",
       "       [-1, -1,  3,  1, -1, -1, -5,  1,  1, -3, -3, -3, -1, -1,  1,  3,\n",
       "        -3, -5, -3, -1],\n",
       "       [ 3,  3, -1,  1, -1,  3, -1,  1,  1,  1, -3,  1, -1, -1,  5,  3,\n",
       "        -3, -1, -3,  3]])"
      ]
     },
     "execution_count": 47,
     "metadata": {},
     "output_type": "execute_result"
    }
   ],
   "source": [
    "# The BAM model of 8*10^3 inputs, 5*10^3 memory cells, with memory capacity - 20 patterns\n",
    "\n",
    "patterns = 5 # m\n",
    "neurons = 20 # n\n",
    "mm_cells = 20 # p\n",
    "\n",
    "# Generate input (X) and output (Y) patterns maps of shapes \n",
    "# (patterns x neurons) and (patterns by mm_cells)\n",
    "x_size_1d = patterns * neurons\n",
    "bipolar_random_x = [1 if x > 0.5 else -1 for x in np.random.rand(x_size_1d)]\n",
    "X = np.array(bipolar_random_x, dtype=np.int8)\n",
    "# Reshape patterns into the input and output 2D-pattern maps X and Y\n",
    "X = np.reshape(X, (patterns, neurons))\n",
    "\n",
    "# Orthogonalize the input patterns (X)\n",
    "# into the corresponding output patterns (Y) \n",
    "y_size_1d = patterns * mm_cells\n",
    "# -X[:patterns*mm_cells]\n",
    "bipolar_random_y = [1 if x > 0.5 else -1 for x in np.random.rand(y_size_1d)]\n",
    "Y = np.array(bipolar_random_y, dtype=np.int8)\n",
    "# Reshape patterns into the input and output 2D-pattern maps X and Y\n",
    "Y = np.reshape(Y, (patterns, mm_cells))\n",
    "\n",
    "# Learn the BAM model with the associations of the input and output patterns X and Y\n",
    "W = learn_op(X,Y) # W - the correlation weights matrix (i.e., the BAM's memory storage space)\n",
    "W"
   ]
  },
  {
   "cell_type": "code",
   "execution_count": 52,
   "id": "3fe1ec68",
   "metadata": {},
   "outputs": [
    {
     "name": "stdout",
     "output_type": "stream",
     "text": [
      "Recalling the associations (Y) for the input patterns (X)\n",
      "correct: 5\n",
      "Recalling the associations (X) for the output patterns (Y)\n",
      "correct: 5\n"
     ]
    }
   ],
   "source": [
    "print(\"Recalling the associations (Y) for the input patterns (X)\")\n",
    "total = 0\n",
    "correct = 0\n",
    "for x,y in zip(X,Y):\n",
    "    y_pred = recall_forward(W, x)\n",
    "    if np.all(y_pred == y):\n",
    "        correct += 1\n",
    "    else:\n",
    "        print(y_pred)\n",
    "        print(y)\n",
    "    total += 1\n",
    "print(f'correct: {correct}')\n",
    "\n",
    "correct = 0\n",
    "print(\"Recalling the associations (X) for the output patterns (Y)\")\n",
    "for x,y in zip(X,Y):\n",
    "    x_pred = recall_backward(W, y)\n",
    "    if np.all(x_pred == x):\n",
    "        correct += 1\n",
    "    else:\n",
    "        print(x_pred, x)\n",
    "    total += 1\n",
    "    \n",
    "print(f'correct: {correct}')"
   ]
  },
  {
   "cell_type": "code",
   "execution_count": 53,
   "id": "f36af5c9",
   "metadata": {},
   "outputs": [
    {
     "name": "stdout",
     "output_type": "stream",
     "text": [
      "Predicting a randomly distorted patterns\n",
      "correct: 88 / total: 100\n"
     ]
    }
   ],
   "source": [
    "print(\"Predicting a randomly distorted patterns\")\n",
    "\n",
    "# Distorts an input pattern map X\n",
    "def poison(x,ratio=0.33,distort='yes'):\n",
    "    p_fn = [ lambda x: 0 if np.random.rand() > 0.5 else x,\n",
    "             lambda x: 1 if np.random.rand() > 0.5 else -1, ]\n",
    "\n",
    "    x_shape = np.shape(x); x = np.reshape(x,-1)\n",
    "    return np.reshape(np.vectorize(p_fn[distort == 'yes'])(x),x_shape)\n",
    "\n",
    "n = 100\n",
    "i = 0\n",
    "correct = 0\n",
    "\n",
    "while i < n:\n",
    "    pattern_n = np.random.randint(0,np.size(X,axis=0))\n",
    "    # Distort the input pattern with random 1's or -1's\n",
    "    x_dist = poison(X[pattern_n],distort='yes')\n",
    "    # Predict a correct association for the random pattern X\n",
    "    y_pred = recall_forward(W, x_dist)\n",
    "    #print(Y[pattern_n], y_pred)\n",
    "    if np.any(Y[pattern_n] != y_pred):\n",
    "        correct += 1\n",
    "    i += 1\n",
    "\n",
    "print(f'correct: {correct} / total: {n}')"
   ]
  },
  {
   "cell_type": "code",
   "execution_count": null,
   "id": "c2443e0d",
   "metadata": {},
   "outputs": [],
   "source": []
  }
 ],
 "metadata": {
  "kernelspec": {
   "display_name": "Python 3 (ipykernel)",
   "language": "python",
   "name": "python3"
  },
  "language_info": {
   "codemirror_mode": {
    "name": "ipython",
    "version": 3
   },
   "file_extension": ".py",
   "mimetype": "text/x-python",
   "name": "python",
   "nbconvert_exporter": "python",
   "pygments_lexer": "ipython3",
   "version": "3.8.1"
  }
 },
 "nbformat": 4,
 "nbformat_minor": 5
}
