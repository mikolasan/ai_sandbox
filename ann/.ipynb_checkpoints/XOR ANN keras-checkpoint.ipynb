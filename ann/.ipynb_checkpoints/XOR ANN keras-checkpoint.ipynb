{
 "cells": [
  {
   "cell_type": "code",
   "execution_count": 126,
   "id": "7913a8eb",
   "metadata": {},
   "outputs": [],
   "source": [
    "import tensorflow as tf\n",
    "import numpy as np\n",
    "import pandas as pd\n",
    "\n",
    "import matplotlib.pyplot as plt\n",
    "%matplotlib inline"
   ]
  },
  {
   "cell_type": "code",
   "execution_count": 127,
   "id": "5cc22e3d",
   "metadata": {},
   "outputs": [],
   "source": [
    "data = np.genfromtxt('xor_training_data.csv', delimiter=',')"
   ]
  },
  {
   "cell_type": "code",
   "execution_count": 312,
   "id": "a2ce1915",
   "metadata": {},
   "outputs": [
    {
     "data": {
      "text/plain": [
       "array([[0., 0.],\n",
       "       [0., 1.],\n",
       "       [1., 0.],\n",
       "       [1., 1.]])"
      ]
     },
     "execution_count": 312,
     "metadata": {},
     "output_type": "execute_result"
    }
   ],
   "source": [
    "x = np.delete(data, 2, 1)\n",
    "x"
   ]
  },
  {
   "cell_type": "code",
   "execution_count": 313,
   "id": "28f5f443",
   "metadata": {},
   "outputs": [
    {
     "data": {
      "text/plain": [
       "array([[0.],\n",
       "       [1.],\n",
       "       [1.],\n",
       "       [0.]])"
      ]
     },
     "execution_count": 313,
     "metadata": {},
     "output_type": "execute_result"
    }
   ],
   "source": [
    "y = np.delete(data, [0,1], 1)\n",
    "y"
   ]
  },
  {
   "cell_type": "code",
   "execution_count": 337,
   "id": "b84bff65",
   "metadata": {},
   "outputs": [],
   "source": [
    "model = tf.keras.models.Sequential()\n",
    "model.add(tf.keras.layers.Dense(2, input_shape=(2,), use_bias=True, activation='sigmoid'))\n",
    "model.add(tf.keras.layers.Dense(1, use_bias=True, activation='linear'))\n",
    "optimizer = tf.keras.optimizers.experimental.SGD(\n",
    "    learning_rate=0.2,\n",
    "    momentum=0.0,\n",
    "    nesterov=False,\n",
    "    amsgrad=False)\n",
    "\n",
    "#optimizer = tf.keras.optimizers.experimental.RMSprop(learning_rate=0.001)\n",
    "model.compile(optimizer=optimizer, loss='mse', metrics=['accuracy'])"
   ]
  },
  {
   "cell_type": "code",
   "execution_count": 338,
   "id": "5731dd4e",
   "metadata": {},
   "outputs": [],
   "source": [
    "N=1000\n",
    "history = model.fit(x, y, verbose=0, epochs=N)"
   ]
  },
  {
   "cell_type": "code",
   "execution_count": 339,
   "id": "3f58558d",
   "metadata": {},
   "outputs": [
    {
     "data": {
      "text/plain": [
       "[<matplotlib.lines.Line2D at 0x25e4f3dda30>]"
      ]
     },
     "execution_count": 339,
     "metadata": {},
     "output_type": "execute_result"
    },
    {
     "data": {
      "image/png": "[encoded data removed]",
      "text/plain": [
       "<Figure size 432x288 with 2 Axes>"
      ]
     },
     "metadata": {
      "needs_background": "light"
     },
     "output_type": "display_data"
    }
   ],
   "source": [
    "loss = history.history['loss']\n",
    "acc = history.history['accuracy']\n",
    "xdata = history.epoch\n",
    "\n",
    "fig, ax1 = plt.subplots()\n",
    "ax1.set_xlabel('epochs')\n",
    "ax1.set_ylabel('accuracy', color='tab:blue')\n",
    "ax1.plot(xdata, acc, color='tab:blue')\n",
    "ax2 = ax1.twinx()\n",
    "ax2.set_ylabel('loss', color='tab:red')\n",
    "ax2.plot(xdata, loss, color='tab:red')"
   ]
  },
  {
   "cell_type": "code",
   "execution_count": 340,
   "id": "34077fcc",
   "metadata": {},
   "outputs": [
    {
     "name": "stdout",
     "output_type": "stream",
     "text": [
      "1/1 [==============================] - 0s 51ms/step\n",
      "1/1 [==============================] - 0s 22ms/step\n",
      "1/1 [==============================] - 0s 20ms/step\n",
      "1/1 [==============================] - 0s 20ms/step\n"
     ]
    },
    {
     "data": {
      "text/plain": [
       "[array([[0.15274334]], dtype=float32),\n",
       " array([[0.70894706]], dtype=float32),\n",
       " array([[0.68958056]], dtype=float32),\n",
       " array([[0.42478526]], dtype=float32)]"
      ]
     },
     "execution_count": 340,
     "metadata": {},
     "output_type": "execute_result"
    }
   ],
   "source": [
    "[model.predict(np.array([[0,0]])),\n",
    "model.predict(np.array([[1,0]])),\n",
    "model.predict(np.array([[0,1]])),\n",
    "model.predict(np.array([[1,1]]))]"
   ]
  },
  {
   "cell_type": "code",
   "execution_count": 341,
   "id": "55d5c52c",
   "metadata": {},
   "outputs": [
    {
     "data": {
      "text/plain": [
       "[<tf.Variable 'dense_120/kernel:0' shape=(2, 2) dtype=float32, numpy=\n",
       " array([[ 0.9876967, -2.6592233],\n",
       "        [ 1.0554928, -2.724586 ]], dtype=float32)>,\n",
       " <tf.Variable 'dense_120/bias:0' shape=(2,) dtype=float32, numpy=array([-1.1743981 , -0.21253797], dtype=float32)>,\n",
       " <tf.Variable 'dense_121/kernel:0' shape=(2, 1) dtype=float32, numpy=\n",
       " array([[-1.5869337],\n",
       "        [-2.2902348]], dtype=float32)>,\n",
       " <tf.Variable 'dense_121/bias:0' shape=(1,) dtype=float32, numpy=array([1.5512394], dtype=float32)>]"
      ]
     },
     "execution_count": 341,
     "metadata": {},
     "output_type": "execute_result"
    }
   ],
   "source": [
    "model.weights"
   ]
  },
  {
   "cell_type": "code",
   "execution_count": 342,
   "id": "928c3bff",
   "metadata": {},
   "outputs": [
    {
     "data": {
      "text/plain": [
       "array([[-7.47131228e-01, -7.48293996e-01, -7.49616265e-01,\n",
       "        -7.51117349e-01, -7.52817273e-01, -7.54736781e-01,\n",
       "        -7.56896138e-01, -7.59312987e-01, -7.62000442e-01,\n",
       "        -7.64963508e-01, -7.68193364e-01, -7.71657825e-01,\n",
       "        -7.75291085e-01, -7.78973222e-01, -7.82508731e-01,\n",
       "        -7.85587192e-01, -7.87734389e-01, -7.88244843e-01,\n",
       "        -7.86090493e-01, -7.79808640e-01, -7.67371774e-01,\n",
       "        -7.46064782e-01, -7.12412715e-01, -6.62268758e-01,\n",
       "        -5.91193795e-01, -4.95305657e-01, -3.72652888e-01,\n",
       "        -2.24869370e-01, -5.83916903e-02,  1.15733266e-01],\n",
       "       [-7.48381019e-01, -7.49715447e-01, -7.51230359e-01,\n",
       "        -7.52946019e-01, -7.54883170e-01, -7.57062316e-01,\n",
       "        -7.59501338e-01, -7.62213349e-01, -7.65203834e-01,\n",
       "        -7.68462777e-01, -7.71958470e-01, -7.75623679e-01,\n",
       "        -7.79338241e-01, -7.82904506e-01, -7.86008477e-01,\n",
       "        -7.88172364e-01, -7.88684011e-01, -7.86506057e-01,\n",
       "        -7.80165315e-01, -7.67618299e-01, -7.46131301e-01,\n",
       "        -7.12212443e-01, -6.61701322e-01, -5.90159059e-01,\n",
       "        -4.93733048e-01, -3.70539069e-01, -2.22316980e-01,\n",
       "        -5.56260347e-02,  1.18395686e-01,  2.86175728e-01],\n",
       "       [-7.49815345e-01, -7.51344562e-01, -7.53076196e-01,\n",
       "        -7.55031228e-01, -7.57230401e-01, -7.59691596e-01,\n",
       "        -7.62428403e-01, -7.65445828e-01, -7.68734336e-01,\n",
       "        -7.72261500e-01, -7.75959134e-01, -7.79706597e-01,\n",
       "        -7.83303380e-01, -7.86433101e-01, -7.88613915e-01,\n",
       "        -7.89126515e-01, -7.86925435e-01, -7.80524611e-01,\n",
       "        -7.67866492e-01, -7.46198773e-01, -7.12011218e-01,\n",
       "        -6.61130071e-01, -5.89119077e-01, -4.92154717e-01,\n",
       "        -3.68420959e-01, -2.19764709e-01, -5.28668165e-02,\n",
       "         1.21042371e-01,  2.88374782e-01,  4.36531425e-01],\n",
       "       [-7.51459479e-01, -7.53207326e-01, -7.55180240e-01,\n",
       "        -7.57399440e-01, -7.59883523e-01, -7.62645125e-01,\n",
       "        -7.65690446e-01, -7.69008279e-01, -7.72566915e-01,\n",
       "        -7.76297688e-01, -7.80078053e-01, -7.83705592e-01,\n",
       "        -7.86861777e-01, -7.89058805e-01, -7.89572358e-01,\n",
       "        -7.87347913e-01, -7.80887008e-01, -7.68116117e-01,\n",
       "        -7.46266246e-01, -7.11808324e-01, -6.60555243e-01,\n",
       "        -5.88074327e-01, -4.90570426e-01, -3.66298318e-01,\n",
       "        -2.17212796e-01, -5.01153469e-02,  1.23673916e-01,\n",
       "         2.90550351e-01,  4.37984943e-01,  5.57375312e-01],\n",
       "       [-7.53339410e-01, -7.55330920e-01, -7.57570624e-01,\n",
       "        -7.60077119e-01, -7.62864232e-01, -7.65936732e-01,\n",
       "        -7.69285083e-01, -7.72875428e-01, -7.76639342e-01,\n",
       "        -7.80452609e-01, -7.84111857e-01, -7.87294030e-01,\n",
       "        -7.89507985e-01, -7.90022254e-01, -7.87773728e-01,\n",
       "        -7.81251788e-01, -7.68367648e-01, -7.46333957e-01,\n",
       "        -7.11603522e-01, -6.59976840e-01, -5.87023377e-01,\n",
       "        -4.88980174e-01, -3.64171147e-01, -2.14660525e-01,\n",
       "        -4.73710299e-02,  1.26289248e-01,  2.92703032e-01,\n",
       "         4.39410210e-01,  5.57931721e-01,  6.44825816e-01],\n",
       "       [-7.55482793e-01, -7.57743239e-01, -7.60272622e-01,\n",
       "        -7.63085246e-01, -7.66185641e-01, -7.69563794e-01,\n",
       "        -7.73186564e-01, -7.76983619e-01, -7.80830503e-01,\n",
       "        -7.84520984e-01, -7.87729383e-01, -7.89960504e-01,\n",
       "        -7.90475726e-01, -7.88203120e-01, -7.81619191e-01,\n",
       "        -7.68620849e-01, -7.46401906e-01, -7.11396813e-01,\n",
       "        -6.59394860e-01, -5.85967660e-01, -4.87383723e-01,\n",
       "        -3.62040162e-01, -2.12108850e-01, -4.46342230e-02,\n",
       "         1.28888607e-01,  2.94831634e-01,  4.40807700e-01,\n",
       "         5.58458209e-01,  6.44467294e-01,  6.99829638e-01],\n",
       "       [-7.57917285e-01, -7.60469794e-01, -7.63308167e-01,\n",
       "        -7.66436458e-01, -7.69845366e-01, -7.73500800e-01,\n",
       "        -7.77331233e-01, -7.81211972e-01, -7.84933925e-01,\n",
       "        -7.88169265e-01, -7.90416837e-01, -7.90932775e-01,\n",
       "        -7.88635612e-01, -7.81989694e-01, -7.68875957e-01,\n",
       "        -7.46469855e-01, -7.11188912e-01, -6.58809304e-01,\n",
       "        -5.84906220e-01, -4.85782027e-01, -3.59904885e-01,\n",
       "        -2.09557891e-01, -4.19056416e-02,  1.31471753e-01,\n",
       "         2.96936631e-01,  4.42176223e-01,  5.58955669e-01,\n",
       "         6.44080639e-01,  6.98638082e-01,  7.26394296e-01],\n",
       "       [-7.60669112e-01, -7.63532996e-01, -7.66690135e-01,\n",
       "        -7.70129561e-01, -7.73817182e-01, -7.77682424e-01,\n",
       "        -7.81596780e-01, -7.85350204e-01, -7.88612247e-01,\n",
       "        -7.90876985e-01, -7.91393638e-01, -7.89071441e-01,\n",
       "        -7.82362819e-01, -7.69132495e-01, -7.46538281e-01,\n",
       "        -7.10979581e-01, -6.58219695e-01, -5.83839536e-01,\n",
       "        -4.84173894e-01, -3.57765675e-01, -2.07007408e-01,\n",
       "        -3.91846895e-02,  1.34038329e-01,  2.99018025e-01,\n",
       "         4.43516731e-01,  5.59423327e-01,  6.43666804e-01,\n",
       "         6.97422504e-01,  7.24505305e-01,  7.29822040e-01],\n",
       "       [-7.63760209e-01, -7.66945481e-01, -7.70416141e-01,\n",
       "        -7.74137139e-01, -7.78035998e-01, -7.81984448e-01,\n",
       "        -7.85770535e-01, -7.89059281e-01, -7.91340947e-01,\n",
       "        -7.91858554e-01, -7.89511085e-01, -7.82738566e-01,\n",
       "        -7.69390941e-01, -7.46606946e-01, -7.10768342e-01,\n",
       "        -6.57626748e-01, -5.82767367e-01, -4.82560754e-01,\n",
       "        -3.55622768e-01, -2.04457998e-01, -3.64720821e-02,\n",
       "         1.36588097e-01,  3.01075101e-01,  4.44828868e-01,\n",
       "         5.59861422e-01,  6.43225074e-01,  6.96183085e-01,\n",
       "         7.22597122e-01,  7.27387428e-01,  7.15478539e-01],\n",
       "       [-7.67203689e-01, -7.70705342e-01, -7.74459481e-01,\n",
       "        -7.78392911e-01, -7.82376170e-01, -7.86194444e-01,\n",
       "        -7.89510369e-01, -7.91809201e-01, -7.92326808e-01,\n",
       "        -7.89953828e-01, -7.83117414e-01, -7.69651055e-01,\n",
       "        -7.46676087e-01, -7.10554957e-01, -6.57029748e-01,\n",
       "        -5.81689954e-01, -4.80941176e-01, -3.53475690e-01,\n",
       "        -2.01909781e-01, -3.37680578e-02,  1.39121294e-01,\n",
       "         3.03108454e-01,  4.46112514e-01,  5.60270429e-01,\n",
       "         6.42755866e-01,  6.94920063e-01,  7.20669866e-01,\n",
       "         7.24938750e-01,  7.12644219e-01,  6.88148677e-01],\n",
       "       [-7.70997167e-01, -7.74784923e-01, -7.78753161e-01,\n",
       "        -7.82770753e-01, -7.86621928e-01, -7.89964795e-01,\n",
       "        -7.92281032e-01, -7.92799115e-01, -7.90400147e-01,\n",
       "        -7.83498883e-01, -7.69912839e-01, -7.46744752e-01,\n",
       "        -7.10340619e-01, -6.56428933e-01, -5.80607057e-01,\n",
       "        -4.79316115e-01, -3.51325035e-01, -1.99362159e-01,\n",
       "        -3.10728550e-02,  1.41637444e-01,  3.05117488e-01,\n",
       "         4.47367549e-01,  5.60649991e-01,  6.42259538e-01,\n",
       "         6.93633437e-01,  7.18723774e-01,  7.22476006e-01,\n",
       "         7.09800482e-01,  6.85043812e-01,  6.51810348e-01],\n",
       "       [-7.75112987e-01, -7.79116273e-01, -7.83169150e-01,\n",
       "        -7.87052751e-01, -7.90423512e-01, -7.92756915e-01,\n",
       "        -7.93275237e-01, -7.90850043e-01, -7.83882976e-01,\n",
       "        -7.70176291e-01, -7.46814132e-01, -7.10124135e-01,\n",
       "        -6.55824542e-01, -5.79519153e-01, -4.77685571e-01,\n",
       "        -3.49171042e-01, -1.96816564e-01, -2.83862352e-02,\n",
       "         1.44136071e-01,  3.07101965e-01,  4.48594213e-01,\n",
       "         5.61000288e-01,  6.41735911e-01,  6.92323685e-01,\n",
       "         7.16759086e-01,  7.19999552e-01,  7.06947744e-01,\n",
       "         6.81934059e-01,  6.48545027e-01,  6.09639585e-01],\n",
       "       [-7.79482961e-01, -7.83571124e-01, -7.87487626e-01,\n",
       "        -7.90885806e-01, -7.93236613e-01, -7.93755174e-01,\n",
       "        -7.91303277e-01, -7.84270406e-01, -7.70441890e-01,\n",
       "        -7.46883512e-01, -7.09905744e-01, -6.55216575e-01,\n",
       "        -5.78425527e-01, -4.76049304e-01, -3.47013354e-01,\n",
       "        -1.94272280e-01, -2.57086754e-02,  1.46617532e-01,\n",
       "         3.09062243e-01,  4.49792266e-01,  5.61321557e-01,\n",
       "         6.41185403e-01,  6.90990627e-01,  7.14775980e-01,\n",
       "         7.17509449e-01,  7.04085946e-01,  6.78819656e-01,\n",
       "         6.45278573e-01,  6.06304467e-01,  5.64109862e-01],\n",
       "       [-7.83976197e-01, -7.87926555e-01, -7.91352391e-01,\n",
       "        -7.93720603e-01, -7.94238925e-01, -7.91759849e-01,\n",
       "        -7.84660220e-01, -7.70708442e-01, -7.46953130e-01,\n",
       "        -7.09685683e-01, -6.54604554e-01, -5.77326417e-01,\n",
       "        -4.74407554e-01, -3.44852328e-01, -1.91729903e-01,\n",
       "        -2.30405331e-02,  1.49081230e-01,  3.10997844e-01,\n",
       "         4.50961947e-01,  5.61613619e-01,  6.40607953e-01,\n",
       "         6.89634740e-01,  7.12774754e-01,  7.15006113e-01,\n",
       "         7.01215386e-01,  6.75700724e-01,  6.42011464e-01,\n",
       "         6.02972031e-01,  5.60779572e-01,  5.17117858e-01],\n",
       "       [-7.88368821e-01, -7.91822791e-01, -7.94208169e-01,\n",
       "        -7.94726491e-01, -7.92220235e-01, -7.85052657e-01,\n",
       "        -7.70977616e-01, -7.47022986e-01, -7.09464192e-01,\n",
       "        -6.53988957e-01, -5.76222539e-01, -4.72760081e-01,\n",
       "        -3.42687964e-01, -1.89189196e-01, -2.03818083e-02,\n",
       "         1.51527047e-01,  3.12908769e-01,  4.52103019e-01,\n",
       "         5.61876774e-01,  6.40003800e-01,  6.88256264e-01,\n",
       "         7.10755467e-01,  7.12489486e-01,  6.98336422e-01,\n",
       "         6.72577322e-01,  6.38743699e-01,  5.99642158e-01,\n",
       "         5.57454586e-01,  5.13851404e-01,  4.70096469e-01],\n",
       "       [-7.92296767e-01, -7.94700265e-01, -7.95218349e-01,\n",
       "        -7.92683959e-01, -7.85448432e-01, -7.71247983e-01,\n",
       "        -7.47093081e-01, -7.09240556e-01, -6.53369069e-01,\n",
       "        -5.75112939e-01, -4.71107602e-01, -3.40520501e-01,\n",
       "        -1.86650753e-01, -1.77328587e-02,  1.53955102e-01,\n",
       "         3.14794898e-01,  4.53215480e-01,  5.62110901e-01,\n",
       "         6.39373064e-01,  6.86855078e-01,  7.08718479e-01,\n",
       "         7.09960043e-01,  6.95449054e-01,  6.69449925e-01,\n",
       "         6.35475397e-01,  5.96315026e-01,  5.54135025e-01,\n",
       "         5.10592937e-01,  4.66940522e-01,  4.24109817e-01],\n",
       "       [-7.95195937e-01, -7.95714021e-01, -7.93151736e-01,\n",
       "        -7.85847068e-01, -7.71520257e-01, -7.47163177e-01,\n",
       "        -7.09015727e-01, -6.52745843e-01, -5.73997617e-01,\n",
       "        -4.69449401e-01, -3.38350058e-01, -1.84114218e-01,\n",
       "        -1.50935650e-02,  1.56364799e-01,  3.16655874e-01,\n",
       "         4.54299331e-01,  5.62316239e-01,  6.38715982e-01,\n",
       "         6.85431600e-01,  7.06663847e-01,  7.07417846e-01,\n",
       "         6.92553520e-01,  6.66318536e-01,  6.32207036e-01,\n",
       "         5.92990935e-01,  5.50821424e-01,  5.07342458e-01,\n",
       "         4.63794589e-01,  4.21099663e-01,  3.79927874e-01],\n",
       "       [-7.96213269e-01, -7.93623090e-01, -7.86248326e-01,\n",
       "        -7.71793962e-01, -7.47233272e-01, -7.08788276e-01,\n",
       "        -6.52118325e-01, -5.72877526e-01, -4.67785716e-01,\n",
       "        -3.36176753e-01, -1.81580424e-01, -1.24646425e-02,\n",
       "         1.58756256e-01,  3.18492055e-01,  4.55354691e-01,\n",
       "         5.62492728e-01,  6.38032436e-01,  6.83986068e-01,\n",
       "         7.04591930e-01,  7.04863191e-01,  6.89650238e-01,\n",
       "         6.63183451e-01,  6.28938556e-01,  5.89670062e-01,\n",
       "         5.47513604e-01,  5.04100084e-01,  4.60658431e-01,\n",
       "         4.18100953e-01,  3.77088904e-01,  3.38086009e-01],\n",
       "       [-7.94097304e-01, -7.86652923e-01, -7.72070050e-01,\n",
       "        -7.47303605e-01, -7.08559394e-01, -6.51487470e-01,\n",
       "        -5.71752191e-01, -4.66117024e-01, -3.34000349e-01,\n",
       "        -1.79049253e-01, -9.84597206e-03,  1.61128998e-01,\n",
       "         3.20303202e-01,  4.56381321e-01,  5.62640667e-01,\n",
       "         6.37322962e-01,  6.82518423e-01,  7.02502847e-01,\n",
       "         7.02296257e-01,  6.86739087e-01,  6.60044730e-01,\n",
       "         6.25670195e-01,  5.86352468e-01,  5.44211864e-01,\n",
       "         5.00866055e-01,  4.57532644e-01,  4.15113568e-01,\n",
       "         3.74262333e-01,  3.35434794e-01,  2.98931003e-01],\n",
       "       [-7.87059903e-01, -7.72347093e-01, -7.47374177e-01,\n",
       "        -7.08328605e-01, -6.50852323e-01, -5.70621133e-01,\n",
       "        -4.64443088e-01, -3.31821561e-01, -1.76520467e-01,\n",
       "        -7.23767281e-03,  1.63483262e-01,  3.22089076e-01,\n",
       "         4.57379580e-01,  5.62759817e-01,  6.36587501e-01,\n",
       "         6.81029141e-01,  7.00396776e-01,  6.99717343e-01,\n",
       "         6.83820605e-01,  6.56902850e-01,  6.22402310e-01,\n",
       "         5.83038390e-01,  5.40916443e-01,  4.97640371e-01,\n",
       "         4.54416633e-01,  4.12137866e-01,  3.71448159e-01,\n",
       "         3.32796693e-01,  2.96477079e-01,  2.62660503e-01],\n",
       "       [-7.72626519e-01, -7.47444987e-01, -7.08095908e-01,\n",
       "        -6.50213361e-01, -5.69484830e-01, -4.62763906e-01,\n",
       "        -3.29640031e-01, -1.73994899e-01, -4.64022160e-03,\n",
       "         1.65818572e-01,  3.23849559e-01,  4.58349109e-01,\n",
       "         5.62850714e-01,  6.35826170e-01,  6.79518223e-01,\n",
       "         6.98274016e-01,  6.97126389e-01,  6.80894792e-01,\n",
       "         6.53757751e-01,  6.19134724e-01,  5.79728007e-01,\n",
       "         5.37627220e-01,  4.94423270e-01,  4.51311111e-01,\n",
       "         4.09173369e-01,  3.68646383e-01,  3.30171466e-01,\n",
       "         2.94036269e-01,  2.60406733e-01,  2.29353428e-01],\n",
       "       [-7.47515559e-01, -7.07861543e-01, -6.49570346e-01,\n",
       "        -5.68343282e-01, -4.61079240e-01, -3.27455878e-01,\n",
       "        -1.71472549e-01, -2.05349922e-03,  1.68134928e-01,\n",
       "         3.25584531e-01,  4.59290147e-01,  5.62913120e-01,\n",
       "         6.35039270e-01,  6.77985907e-01,  6.96134925e-01,\n",
       "         6.94524050e-01,  6.77961946e-01,  6.50609732e-01,\n",
       "         6.15867853e-01,  5.76421440e-01,  5.34344316e-01,\n",
       "         4.91214752e-01,  4.48215842e-01,  4.06220555e-01,\n",
       "         3.65856886e-01,  3.27559114e-01,  2.91608572e-01,\n",
       "         2.58166194e-01,  2.27298498e-01,  1.98999405e-01],\n",
       "       [-7.07624793e-01, -6.48923755e-01, -5.67196250e-01,\n",
       "        -4.59389806e-01, -3.25269699e-01, -1.68953300e-01,\n",
       "         5.22017479e-04,  1.70431852e-01,  3.27294230e-01,\n",
       "         4.60202575e-01,  5.62947154e-01,  6.34226918e-01,\n",
       "         6.76432550e-01,  6.93979383e-01,  6.91910267e-01,\n",
       "         6.75022364e-01,  6.47458971e-01,  6.12601995e-01,\n",
       "         5.73118746e-01,  5.31068206e-01,  4.88014817e-01,\n",
       "         4.45130825e-01,  4.03279424e-01,  3.63080144e-01,\n",
       "         3.24959874e-01,  2.89194226e-01,  2.55938768e-01,\n",
       "         2.25256324e-01,  1.97137356e-01,  1.71519041e-01],\n",
       "       [-6.48273110e-01, -5.66044211e-01, -4.57695365e-01,\n",
       "        -3.23081136e-01, -1.66437626e-01,  3.08632851e-03,\n",
       "         1.72709584e-01,  3.28978419e-01,  4.61086512e-01,\n",
       "         5.62953174e-01,  6.33389354e-01,  6.74858212e-01,\n",
       "         6.91807926e-01,  6.89285159e-01,  6.72076046e-01,\n",
       "         6.44305587e-01,  6.09337091e-01,  5.69820285e-01,\n",
       "         5.27798653e-01,  4.84823823e-01,  4.42056417e-01,\n",
       "         4.00350094e-01,  3.60315800e-01,  3.22373509e-01,\n",
       "         2.86792874e-01,  2.53724456e-01,  2.23226666e-01,\n",
       "         1.95287466e-01,  1.69841290e-01,  1.46784425e-01],\n",
       "       [-5.64886689e-01, -4.55995917e-01, -3.20890069e-01,\n",
       "        -1.63925767e-01,  5.63895702e-03,  1.74967647e-01,\n",
       "         3.30636859e-01,  4.61941957e-01,  5.62931120e-01,\n",
       "         6.32526517e-01,  6.73263013e-01,  6.89620495e-01,\n",
       "         6.86649263e-01,  6.69123292e-01,  6.41149938e-01,\n",
       "         6.06073499e-01,  5.66526175e-01,  5.24536014e-01,\n",
       "         4.81641650e-01,  4.38992739e-01,  3.97432327e-01,\n",
       "         3.57563972e-01,  3.19800258e-01,  2.84404755e-01,\n",
       "         2.51523137e-01,  2.21210003e-01,  1.93449855e-01,\n",
       "         1.68175101e-01,  1.45280242e-01,  1.24634504e-01],\n",
       "       [-4.54291701e-01, -3.18697929e-01, -1.61417246e-01,\n",
       "         8.17978382e-03,  1.77206039e-01,  3.32269549e-01,\n",
       "         4.62768674e-01,  5.62880993e-01,  6.31638765e-01,\n",
       "         6.71647370e-01,  6.87417507e-01,  6.84002578e-01,\n",
       "         6.66164339e-01,  6.37992263e-01,  6.02811277e-01,\n",
       "         5.63236356e-01,  5.21280646e-01,  4.78468776e-01,\n",
       "         4.35939431e-01,  3.94526720e-01,  3.54824781e-01,\n",
       "         3.17240119e-01,  2.82029748e-01,  2.49334812e-01,\n",
       "         2.19205737e-01,  1.91624403e-01,  1.66520357e-01,\n",
       "         1.43787265e-01,  1.23292089e-01,  1.04887843e-01],\n",
       "       [-3.16503048e-01, -1.58913136e-01,  1.07091665e-02,\n",
       "         1.79424524e-01,  3.33876491e-01,  4.63567376e-01,\n",
       "         5.62803090e-01,  6.30726337e-01,  6.70011401e-01,\n",
       "         6.85199082e-01,  6.81345344e-01,  6.63199425e-01,\n",
       "         6.34832442e-01,  5.99550605e-01,  5.59951305e-01,\n",
       "         5.18032074e-01,  4.75304961e-01,  4.32896852e-01,\n",
       "         3.91632676e-01,  3.52098346e-01,  3.14692855e-01,\n",
       "         2.79667854e-01,  2.47159362e-01,  2.17214227e-01,\n",
       "         1.89810872e-01,  1.64877176e-01,  1.42304540e-01,\n",
       "         1.21959686e-01,  1.03694320e-01,  8.73522758e-02],\n",
       "       [-1.56413198e-01,  1.32260323e-02,  1.81623220e-01,\n",
       "         3.35457444e-01,  4.64337230e-01,  5.62697351e-01,\n",
       "         6.29789114e-01,  6.68355286e-01,  6.82965517e-01,\n",
       "         6.78677797e-01,  6.60228729e-01,  6.31670952e-01,\n",
       "         5.96291661e-01,  5.56671023e-01,  5.14790893e-01,\n",
       "         4.72150326e-01,  4.29865241e-01,  3.88750672e-01,\n",
       "         3.49384546e-01,  3.12158704e-01,  2.77319074e-01,\n",
       "         2.44996905e-01,  2.15235353e-01,  1.88009620e-01,\n",
       "         1.63245559e-01,  1.40832782e-01,  1.20637178e-01,\n",
       "         1.02510333e-01,  8.62952471e-02,  7.18345642e-02],\n",
       "       [ 1.57309771e-02,  1.83801532e-01,  3.37012887e-01,\n",
       "         4.65078831e-01,  5.62564135e-01,  6.28827572e-01,\n",
       "         6.66679204e-01,  6.80717051e-01,  6.76000118e-01,\n",
       "         6.57252371e-01,  6.28507972e-01,  5.93034625e-01,\n",
       "         5.53395450e-01,  5.11556864e-01,  4.69005108e-01,\n",
       "         4.26844597e-01,  3.85880709e-01,  3.46683145e-01,\n",
       "         3.09637547e-01,  2.74983406e-01,  2.42847443e-01,\n",
       "         2.13268995e-01,  1.86220288e-01,  1.61625147e-01,\n",
       "         1.39371514e-01,  1.19324803e-01,  1.01335168e-01,\n",
       "         8.52466822e-02,  7.09009171e-02,  5.81433773e-02],\n",
       "       [ 1.85959697e-01,  3.38541627e-01,  4.65792179e-01,\n",
       "         5.62403202e-01,  6.27841711e-01,  6.64983511e-01,\n",
       "         6.78453743e-01,  6.73312724e-01,  6.54270768e-01,\n",
       "         6.25343502e-01,  5.89779973e-01,  5.50125122e-01,\n",
       "         5.08330464e-01,  4.65869308e-01,  4.23834920e-01,\n",
       "         3.83022904e-01,  3.43994856e-01,  3.07129622e-01,\n",
       "         2.72661090e-01,  2.40710974e-01,  2.11315155e-01,\n",
       "         1.84443116e-01,  1.60016060e-01,  1.37920976e-01,\n",
       "         1.18021965e-01,  1.00169182e-01,  8.42059851e-02,\n",
       "         6.99748993e-02,  5.73213100e-02,  4.60960865e-02]], dtype=float32)"
      ]
     },
     "execution_count": 342,
     "metadata": {},
     "output_type": "execute_result"
    }
   ],
   "source": [
    "x_range = np.linspace(-2, 2, 30)\n",
    "y_range = np.linspace(-2, 2, 30)\n",
    "xx, yy = np.meshgrid(x_range, y_range, indexing='ij')\n",
    "# for i in range(30):\n",
    "#     for j in range(30):\n",
    "#         print(xx[i,j], yy[i,j])\n",
    "zz = [model.predict(np.array([[xx[i][j], yy[i,j]] for i in range(30)]), verbose=0).flatten() for j in range(30)]\n",
    "z = np.array(zz)\n",
    "z"
   ]
  },
  {
   "cell_type": "code",
   "execution_count": 348,
   "id": "ef98d9fd",
   "metadata": {},
   "outputs": [
    {
     "data": {
      "text/plain": [
       "<matplotlib.contour.QuadContourSet at 0x25e248029a0>"
      ]
     },
     "execution_count": 348,
     "metadata": {},
     "output_type": "execute_result"
    },
    {
     "data": {
      "image/png": "[encoded data removed]",
      "text/plain": [
       "<Figure size 1440x1440 with 1 Axes>"
      ]
     },
     "metadata": {
      "needs_background": "light"
     },
     "output_type": "display_data"
    }
   ],
   "source": [
    "plt.figure(figsize=(20, 20))\n",
    "plt.axis('scaled')\n",
    "plt.xlim(-2, 2)\n",
    "plt.ylim(-2, 2)\n",
    "colors = {0: \"ko\", 1: \"wo\"}\n",
    "# plotting the four datapoints\n",
    "for i in range(len(x)):\n",
    "    plt.plot(x[i][0], x[i][1], colors[int(y[i][0])], markersize=20)\n",
    "\n",
    "# using the contourf function to create the plot\n",
    "plt.contourf(xx, yy, z, alpha=0.4)"
   ]
  },
  {
   "cell_type": "code",
   "execution_count": null,
   "id": "5c4fe340",
   "metadata": {},
   "outputs": [],
   "source": []
  }
 ],
 "metadata": {
  "kernelspec": {
   "display_name": "Python 3 (ipykernel)",
   "language": "python",
   "name": "python3"
  },
  "language_info": {
   "codemirror_mode": {
    "name": "ipython",
    "version": 3
   },
   "file_extension": ".py",
   "mimetype": "text/x-python",
   "name": "python",
   "nbconvert_exporter": "python",
   "pygments_lexer": "ipython3",
   "version": "3.8.1"
  }
 },
 "nbformat": 4,
 "nbformat_minor": 5
}
