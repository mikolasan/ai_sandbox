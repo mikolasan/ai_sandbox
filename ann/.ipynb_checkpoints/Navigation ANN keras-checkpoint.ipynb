{
 "cells": [
  {
   "cell_type": "code",
   "execution_count": 1,
   "id": "12183e2c",
   "metadata": {},
   "outputs": [
    {
     "name": "stdout",
     "output_type": "stream",
     "text": [
      "WARNING:tensorflow:Please fix your imports. Module tensorflow.python.training.tracking.base has been moved to tensorflow.python.trackable.base. The old module will be deleted in version 2.11.\n",
      "WARNING:tensorflow:Please fix your imports. Module tensorflow.python.training.saving.functional_saver has been moved to tensorflow.python.checkpoint.functional_saver. The old module will be deleted in version 2.11.\n",
      "WARNING:tensorflow:Please fix your imports. Module tensorflow.python.training.saving.checkpoint_options has been moved to tensorflow.python.checkpoint.checkpoint_options. The old module will be deleted in version 2.11.\n"
     ]
    }
   ],
   "source": [
    "import tensorflow as tf\n",
    "import numpy as np\n",
    "\n",
    "import matplotlib.pyplot as plt\n",
    "%matplotlib inline"
   ]
  },
  {
   "cell_type": "code",
   "execution_count": 2,
   "id": "1965764e",
   "metadata": {},
   "outputs": [
    {
     "name": "stdout",
     "output_type": "stream",
     "text": [
      "PhysicalDevice(name='/physical_device:GPU:0', device_type='GPU')\n",
      "1 Physical GPUs, 1 Logical GPUs\n"
     ]
    }
   ],
   "source": [
    "gpus = tf.config.experimental.list_physical_devices('GPU')\n",
    "if gpus:\n",
    "    try:\n",
    "        print(gpus[0])\n",
    "        # Currently, memory growth needs to be the same across GPUs\n",
    "        for gpu in gpus:\n",
    "            tf.config.experimental.set_memory_growth(gpu, True)\n",
    "        logical_gpus = tf.config.experimental.list_logical_devices('GPU')\n",
    "        print(len(gpus), \"Physical GPUs,\", len(logical_gpus), \"Logical GPUs\")\n",
    "    except RuntimeError as e:\n",
    "        # Memory growth must be set before GPUs have been initialized\n",
    "        print(e)\n",
    "        \n",
    "# gpus = tf.config.experimental.list_physical_devices('GPU')\n",
    "# if gpus:\n",
    "#   try:\n",
    "#     print(gpus[0])\n",
    "#     tf.config.experimental.set_virtual_device_configuration(\n",
    "#         gpus[0],[tf.config.experimental.VirtualDeviceConfiguration(memory_limit=5120)])\n",
    "#   except RuntimeError as e:\n",
    "#     print(e)"
   ]
  },
  {
   "cell_type": "code",
   "execution_count": 59,
   "id": "733016e7",
   "metadata": {},
   "outputs": [
    {
     "data": {
      "text/plain": [
       "array([[339.71744091,  98.08159868, 180.        ],\n",
       "       [200.44954761,  62.96824597,   0.        ],\n",
       "       [242.43487469, 179.35997324,   0.        ],\n",
       "       ...,\n",
       "       [ 89.58780726, 139.00359708, -90.        ],\n",
       "       [ 86.86364163, 146.21901381, -90.        ],\n",
       "       [ 94.42697165, 155.46382216, -90.        ]])"
      ]
     },
     "execution_count": 59,
     "metadata": {},
     "output_type": "execute_result"
    }
   ],
   "source": [
    "train_data = np.genfromtxt('nav_robot_train.csv', delimiter=',')\n",
    "max_0 = 360\n",
    "max_1 = 250\n",
    "max_2 = 270\n",
    "train_data"
   ]
  },
  {
   "cell_type": "code",
   "execution_count": 58,
   "id": "74ec11ff",
   "metadata": {},
   "outputs": [
    {
     "data": {
      "text/plain": [
       "array([[0.94365956, 0.39232639],\n",
       "       [0.5568043 , 0.25187298],\n",
       "       [0.67343021, 0.71743989],\n",
       "       [0.38559465, 0.72284992],\n",
       "       [0.45226193, 0.40613298],\n",
       "       [0.41028895, 0.50159745],\n",
       "       [0.31689777, 0.57834246],\n",
       "       [0.91776541, 0.40485059],\n",
       "       [0.9132244 , 0.57075389],\n",
       "       [0.81586267, 0.64657869]])"
      ]
     },
     "execution_count": 58,
     "metadata": {},
     "output_type": "execute_result"
    }
   ],
   "source": [
    "x = np.delete(train_data, 2, 1)\n",
    "x_max = np.array([max_0, max_1])\n",
    "x = x / x_max\n",
    "x[:10]"
   ]
  },
  {
   "cell_type": "code",
   "execution_count": 61,
   "id": "f785637a",
   "metadata": {},
   "outputs": [
    {
     "data": {
      "text/plain": [
       "array([[1.        ],\n",
       "       [0.33333333],\n",
       "       [0.33333333],\n",
       "       [0.33333333],\n",
       "       [0.33333333],\n",
       "       [0.33333333],\n",
       "       [0.33333333],\n",
       "       [1.        ],\n",
       "       [1.        ],\n",
       "       [1.        ]])"
      ]
     },
     "execution_count": 61,
     "metadata": {},
     "output_type": "execute_result"
    }
   ],
   "source": [
    "y = np.delete(train_data, [0,1], 1)\n",
    "y_max = np.array([max_2])\n",
    "y = (y + 90) / y_max\n",
    "y[:10]"
   ]
  },
  {
   "cell_type": "code",
   "execution_count": 62,
   "id": "123afda7",
   "metadata": {},
   "outputs": [],
   "source": [
    "model = tf.keras.models.Sequential()\n",
    "model.add(tf.keras.layers.Dense(4, input_shape=(2,), use_bias=True, activation='tanh'))\n",
    "model.add(tf.keras.layers.Dense(4, use_bias=True, activation='sigmoid'))\n",
    "model.add(tf.keras.layers.Dense(1, use_bias=True, activation='linear'))\n",
    "# optimizer = tf.keras.optimizers.experimental.SGD(\n",
    "#     learning_rate=0.2,\n",
    "#     momentum=0.0,\n",
    "#     nesterov=True,\n",
    "#     amsgrad=False)\n",
    "\n",
    "optimizer = tf.keras.optimizers.experimental.RMSprop(learning_rate=0.001)\n",
    "model.compile(optimizer=optimizer, loss='cosine_similarity', metrics=['accuracy'])"
   ]
  },
  {
   "cell_type": "code",
   "execution_count": 63,
   "id": "a939fc93",
   "metadata": {},
   "outputs": [],
   "source": [
    "N=100\n",
    "history = model.fit(x, y, verbose=0, epochs=N)"
   ]
  },
  {
   "cell_type": "code",
   "execution_count": 64,
   "id": "3cebce52",
   "metadata": {},
   "outputs": [
    {
     "data": {
      "text/plain": [
       "[<matplotlib.lines.Line2D at 0x15a205df850>]"
      ]
     },
     "execution_count": 64,
     "metadata": {},
     "output_type": "execute_result"
    },
    {
     "data": {
      "image/png": "[encoded data removed]",
      "text/plain": [
       "<Figure size 432x288 with 2 Axes>"
      ]
     },
     "metadata": {
      "needs_background": "light"
     },
     "output_type": "display_data"
    }
   ],
   "source": [
    "loss = history.history['loss']\n",
    "acc = history.history['accuracy']\n",
    "xdata = history.epoch\n",
    "\n",
    "fig, ax1 = plt.subplots()\n",
    "ax1.set_xlabel('epochs')\n",
    "ax1.set_ylabel('accuracy', color='tab:blue')\n",
    "ax1.plot(xdata, acc, color='tab:blue')\n",
    "ax2 = ax1.twinx()\n",
    "ax2.set_ylabel('loss', color='tab:red')\n",
    "ax2.plot(xdata, loss, color='tab:red')"
   ]
  },
  {
   "cell_type": "code",
   "execution_count": 9,
   "id": "1f81889b",
   "metadata": {},
   "outputs": [
    {
     "data": {
      "text/plain": [
       "array([[ 62.10272897,  76.94153625, 180.        ],\n",
       "       [199.30630034, 166.355042  ,   0.        ],\n",
       "       [169.07719528, 116.10340219,   0.        ],\n",
       "       ...,\n",
       "       [289.55825154,  80.65358021,  90.        ],\n",
       "       [ 99.59890307, 137.93114224, -90.        ],\n",
       "       [206.33768817, 112.69871339,   0.        ]])"
      ]
     },
     "execution_count": 9,
     "metadata": {},
     "output_type": "execute_result"
    }
   ],
   "source": [
    "test_data = np.genfromtxt('nav_robot_test.csv', delimiter=',')\n",
    "test_data"
   ]
  },
  {
   "cell_type": "code",
   "execution_count": 67,
   "id": "640f9b03",
   "metadata": {},
   "outputs": [
    {
     "data": {
      "text/plain": [
       "array([[0.17250758, 0.30776614],\n",
       "       [0.55362861, 0.66542017],\n",
       "       [0.46965888, 0.46441361],\n",
       "       [0.39066819, 0.46043458],\n",
       "       [0.00130452, 0.48801639],\n",
       "       [0.59524132, 0.53254108],\n",
       "       [0.1650577 , 0.40886183],\n",
       "       [0.31864111, 0.49756206],\n",
       "       [0.0930651 , 0.34058773],\n",
       "       [0.62920947, 0.53475976]])"
      ]
     },
     "execution_count": 67,
     "metadata": {},
     "output_type": "execute_result"
    }
   ],
   "source": [
    "eval_x = np.delete(test_data, 2, 1)\n",
    "eval_x = eval_x / x_max\n",
    "eval_x[:10]"
   ]
  },
  {
   "cell_type": "code",
   "execution_count": 68,
   "id": "c10220fa",
   "metadata": {},
   "outputs": [
    {
     "data": {
      "text/plain": [
       "array([[1.        ],\n",
       "       [0.33333333],\n",
       "       [0.33333333],\n",
       "       [0.33333333],\n",
       "       [1.        ],\n",
       "       [0.33333333],\n",
       "       [1.        ],\n",
       "       [0.33333333],\n",
       "       [1.        ],\n",
       "       [0.33333333]])"
      ]
     },
     "execution_count": 68,
     "metadata": {},
     "output_type": "execute_result"
    }
   ],
   "source": [
    "eval_y = np.delete(test_data, [0,1], 1)\n",
    "eval_y = (eval_y + 90) / y_max\n",
    "eval_y[:10]"
   ]
  },
  {
   "cell_type": "code",
   "execution_count": 69,
   "id": "a597e317",
   "metadata": {},
   "outputs": [
    {
     "name": "stdout",
     "output_type": "stream",
     "text": [
      "32/32 [==============================] - 0s 2ms/step\n"
     ]
    },
    {
     "data": {
      "text/plain": [
       "array([[0.41623935],\n",
       "       [0.4357646 ],\n",
       "       [0.42383778],\n",
       "       [0.42383367],\n",
       "       [0.42735165],\n",
       "       [0.4278133 ],\n",
       "       [0.42205006],\n",
       "       [0.42631674],\n",
       "       [0.41866496],\n",
       "       [0.42800233]], dtype=float32)"
      ]
     },
     "execution_count": 69,
     "metadata": {},
     "output_type": "execute_result"
    }
   ],
   "source": [
    "prediction = model.predict(eval_x)\n",
    "prediction[:10]"
   ]
  },
  {
   "cell_type": "code",
   "execution_count": 20,
   "id": "00bcd3ed",
   "metadata": {},
   "outputs": [
    {
     "data": {
      "text/plain": [
       "[<tf.Variable 'dense/kernel:0' shape=(2, 4) dtype=float32, numpy=\n",
       " array([[-0.8569522 , -3.7316647 , -0.8070111 , -0.16938128],\n",
       "        [-0.86876273, -2.5762653 , -0.8413439 , -0.2827064 ]],\n",
       "       dtype=float32)>,\n",
       " <tf.Variable 'dense/bias:0' shape=(4,) dtype=float32, numpy=\n",
       " array([ 8.4933677e-21, -5.4814238e-02, -4.9671267e-22, -3.9467118e-03],\n",
       "       dtype=float32)>,\n",
       " <tf.Variable 'dense_1/kernel:0' shape=(4, 1) dtype=float32, numpy=\n",
       " array([[ 4.8400640e-02],\n",
       "        [ 5.3166199e+00],\n",
       "        [-4.6467781e-04],\n",
       "        [-8.9975893e-01]], dtype=float32)>,\n",
       " <tf.Variable 'dense_1/bias:0' shape=(1,) dtype=float32, numpy=array([87.13469], dtype=float32)>]"
      ]
     },
     "execution_count": 20,
     "metadata": {},
     "output_type": "execute_result"
    }
   ],
   "source": [
    "model.weights"
   ]
  },
  {
   "cell_type": "code",
   "execution_count": 70,
   "id": "b91ef9d0",
   "metadata": {},
   "outputs": [
    {
     "data": {
      "text/plain": [
       "array([[0.40026364, 0.40141475, 0.4025647 , ..., 0.45224646, 0.45328453,\n",
       "        0.4543189 ],\n",
       "       [0.4000876 , 0.4012391 , 0.40238965, ..., 0.45237824, 0.45342693,\n",
       "        0.45447156],\n",
       "       [0.39991167, 0.4010631 , 0.402214  , ..., 0.45250103, 0.45356002,\n",
       "        0.4546152 ],\n",
       "       ...,\n",
       "       [0.4025657 , 0.4035458 , 0.40453276, ..., 0.45541507, 0.4566546 ,\n",
       "        0.45789632],\n",
       "       [0.40296274, 0.40393877, 0.4049216 , ..., 0.4555807 , 0.45681584,\n",
       "        0.4580534 ],\n",
       "       [0.4033737 , 0.40434542, 0.40532416, ..., 0.45575532, 0.456986  ,\n",
       "        0.45821896]], dtype=float32)"
      ]
     },
     "execution_count": 70,
     "metadata": {},
     "output_type": "execute_result"
    }
   ],
   "source": [
    "x_ticks = 50\n",
    "x_range = np.linspace(0, 1, x_ticks)\n",
    "y_ticks = 50\n",
    "y_range = np.linspace(0, 1, y_ticks)\n",
    "xx, yy = np.meshgrid(x_range, y_range, indexing='ij')\n",
    "zz = [model.predict(np.array([[xx[i][j], yy[i,j]] for i in range(x_ticks)]), verbose=0).flatten() for j in range(y_ticks)]\n",
    "z = np.transpose(np.array(zz))\n",
    "z"
   ]
  },
  {
   "cell_type": "code",
   "execution_count": 72,
   "id": "3172090e",
   "metadata": {},
   "outputs": [
    {
     "data": {
      "text/plain": [
       "<matplotlib.contour.QuadContourSet at 0x15a208045e0>"
      ]
     },
     "execution_count": 72,
     "metadata": {},
     "output_type": "execute_result"
    },
    {
     "data": {
      "image/png": "[encoded data removed]",
      "text/plain": [
       "<Figure size 432x288 with 1 Axes>"
      ]
     },
     "metadata": {
      "needs_background": "light"
     },
     "output_type": "display_data"
    }
   ],
   "source": [
    "plt.figure()\n",
    "plt.axis('scaled')\n",
    "plt.xlim(0, 1)\n",
    "plt.ylim(0, 1)\n",
    "plt.contourf(xx, yy, z, alpha=0.4)"
   ]
  },
  {
   "cell_type": "code",
   "execution_count": null,
   "id": "9db14ef5",
   "metadata": {},
   "outputs": [],
   "source": []
  }
 ],
 "metadata": {
  "kernelspec": {
   "display_name": "Python 3 (ipykernel)",
   "language": "python",
   "name": "python3"
  },
  "language_info": {
   "codemirror_mode": {
    "name": "ipython",
    "version": 3
   },
   "file_extension": ".py",
   "mimetype": "text/x-python",
   "name": "python",
   "nbconvert_exporter": "python",
   "pygments_lexer": "ipython3",
   "version": "3.8.1"
  }
 },
 "nbformat": 4,
 "nbformat_minor": 5
}
