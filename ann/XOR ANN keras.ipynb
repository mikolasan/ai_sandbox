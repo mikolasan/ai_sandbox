{
 "cells": [
  {
   "cell_type": "code",
   "execution_count": 126,
   "id": "12183e2c",
   "metadata": {},
   "outputs": [],
   "source": [
    "import tensorflow as tf\n",
    "import numpy as np\n",
    "\n",
    "import matplotlib.pyplot as plt\n",
    "%matplotlib inline"
   ]
  },
  {
   "cell_type": "code",
   "execution_count": 127,
   "id": "733016e7",
   "metadata": {},
   "outputs": [],
   "source": [
    "data = np.genfromtxt('xor_training_data.csv', delimiter=',')"
   ]
  },
  {
   "cell_type": "code",
   "execution_count": 312,
   "id": "74ec11ff",
   "metadata": {},
   "outputs": [
    {
     "data": {
      "text/plain": [
       "array([[0., 0.],\n",
       "       [0., 1.],\n",
       "       [1., 0.],\n",
       "       [1., 1.]])"
      ]
     },
     "execution_count": 312,
     "metadata": {},
     "output_type": "execute_result"
    }
   ],
   "source": [
    "x = np.delete(data, 2, 1)\n",
    "x"
   ]
  },
  {
   "cell_type": "code",
   "execution_count": 313,
   "id": "f785637a",
   "metadata": {},
   "outputs": [
    {
     "data": {
      "text/plain": [
       "array([[0.],\n",
       "       [1.],\n",
       "       [1.],\n",
       "       [0.]])"
      ]
     },
     "execution_count": 313,
     "metadata": {},
     "output_type": "execute_result"
    }
   ],
   "source": [
    "y = np.delete(data, [0,1], 1)\n",
    "y"
   ]
  },
  {
   "cell_type": "code",
   "execution_count": 349,
   "id": "123afda7",
   "metadata": {},
   "outputs": [],
   "source": [
    "model = tf.keras.models.Sequential()\n",
    "model.add(tf.keras.layers.Dense(2, input_shape=(2,), use_bias=True, activation='sigmoid'))\n",
    "model.add(tf.keras.layers.Dense(1, use_bias=True, activation='linear'))\n",
    "optimizer = tf.keras.optimizers.experimental.SGD(\n",
    "    learning_rate=0.2,\n",
    "    momentum=0.0,\n",
    "    nesterov=True,\n",
    "    amsgrad=False)\n",
    "\n",
    "#optimizer = tf.keras.optimizers.experimental.RMSprop(learning_rate=0.001)\n",
    "model.compile(optimizer=optimizer, loss='mse', metrics=['accuracy'])"
   ]
  },
  {
   "cell_type": "code",
   "execution_count": 350,
   "id": "a939fc93",
   "metadata": {},
   "outputs": [],
   "source": [
    "N=1000\n",
    "history = model.fit(x, y, verbose=0, epochs=N)"
   ]
  },
  {
   "cell_type": "code",
   "execution_count": 351,
   "id": "3cebce52",
   "metadata": {},
   "outputs": [
    {
     "data": {
      "text/plain": [
       "[<matplotlib.lines.Line2D at 0x25e59317a00>]"
      ]
     },
     "execution_count": 351,
     "metadata": {},
     "output_type": "execute_result"
    },
    {
     "data": {
      "image/png": "[encoded data removed]",
      "text/plain": [
       "<Figure size 432x288 with 2 Axes>"
      ]
     },
     "metadata": {
      "needs_background": "light"
     },
     "output_type": "display_data"
    }
   ],
   "source": [
    "loss = history.history['loss']\n",
    "acc = history.history['accuracy']\n",
    "xdata = history.epoch\n",
    "\n",
    "fig, ax1 = plt.subplots()\n",
    "ax1.set_xlabel('epochs')\n",
    "ax1.set_ylabel('accuracy', color='tab:blue')\n",
    "ax1.plot(xdata, acc, color='tab:blue')\n",
    "ax2 = ax1.twinx()\n",
    "ax2.set_ylabel('loss', color='tab:red')\n",
    "ax2.plot(xdata, loss, color='tab:red')"
   ]
  },
  {
   "cell_type": "code",
   "execution_count": 352,
   "id": "a597e317",
   "metadata": {},
   "outputs": [
    {
     "name": "stdout",
     "output_type": "stream",
     "text": [
      "1/1 [==============================] - 0s 49ms/step\n",
      "1/1 [==============================] - 0s 30ms/step\n",
      "1/1 [==============================] - 0s 30ms/step\n",
      "1/1 [==============================] - 0s 30ms/step\n"
     ]
    },
    {
     "data": {
      "text/plain": [
       "[array([[0.00322104]], dtype=float32),\n",
       " array([[0.995644]], dtype=float32),\n",
       " array([[0.9956281]], dtype=float32),\n",
       " array([[0.0059849]], dtype=float32)]"
      ]
     },
     "execution_count": 352,
     "metadata": {},
     "output_type": "execute_result"
    }
   ],
   "source": [
    "[model.predict(np.array([[0,0]])),\n",
    "model.predict(np.array([[1,0]])),\n",
    "model.predict(np.array([[0,1]])),\n",
    "model.predict(np.array([[1,1]]))]"
   ]
  },
  {
   "cell_type": "code",
   "execution_count": 353,
   "id": "00bcd3ed",
   "metadata": {},
   "outputs": [
    {
     "data": {
      "text/plain": [
       "[<tf.Variable 'dense_122/kernel:0' shape=(2, 2) dtype=float32, numpy=\n",
       " array([[3.3526595, 1.5603905],\n",
       "        [3.2260647, 1.528648 ]], dtype=float32)>,\n",
       " <tf.Variable 'dense_122/bias:0' shape=(2,) dtype=float32, numpy=array([-0.60085356, -2.1890118 ], dtype=float32)>,\n",
       " <tf.Variable 'dense_123/kernel:0' shape=(2, 1) dtype=float32, numpy=\n",
       " array([[ 3.046617 ],\n",
       "        [-3.2073975]], dtype=float32)>,\n",
       " <tf.Variable 'dense_123/bias:0' shape=(1,) dtype=float32, numpy=array([-0.75261533], dtype=float32)>]"
      ]
     },
     "execution_count": 353,
     "metadata": {},
     "output_type": "execute_result"
    }
   ],
   "source": [
    "model.weights"
   ]
  },
  {
   "cell_type": "code",
   "execution_count": 354,
   "id": "b91ef9d0",
   "metadata": {},
   "outputs": [
    {
     "data": {
      "text/plain": [
       "array([[-0.7533573 , -0.7535343 , -0.7537531 , -0.75402343, -0.75435686,\n",
       "        -0.75476766, -0.75527275, -0.7558923 , -0.7566496 , -0.75757146,\n",
       "        -0.75868714, -0.7600271 , -0.7616196 , -0.76348484, -0.7656241 ,\n",
       "        -0.76800156, -0.7705139 , -0.77294034, -0.7748626 , -0.7755385 ,\n",
       "        -0.7737077 , -0.7673035 , -0.7530509 , -0.72596073, -0.67883253,\n",
       "        -0.6020954 , -0.48468268, -0.3169592 , -0.0962767 ,  0.16649073],\n",
       "       [-0.7535304 , -0.7537483 , -0.7540174 , -0.7543495 , -0.7547587 ,\n",
       "        -0.75526184, -0.75587904, -0.7566337 , -0.7575525 , -0.7586649 ,\n",
       "        -0.76000154, -0.76159114, -0.7634546 , -0.7655946 , -0.76797765,\n",
       "        -0.77050436, -0.7729603 , -0.77493745, -0.7757098 , -0.7740425 ,\n",
       "        -0.7679072 , -0.7540849 , -0.7276626 , -0.68153226, -0.6062083 ,\n",
       "        -0.4906456 , -0.3250714 , -0.10645151,  0.15494025,  0.43274164],\n",
       "       [-0.7537434 , -0.75401145, -0.75434226, -0.7547498 , -0.75525093,\n",
       "        -0.7558658 , -0.7566178 , -0.7575336 , -0.75864273, -0.759976  ,\n",
       "        -0.7615626 , -0.76342416, -0.76556474, -0.7679531 , -0.7704937 ,\n",
       "        -0.7729783 , -0.775009  , -0.7758758 , -0.77436864, -0.76849717,\n",
       "        -0.7550975 , -0.7293323 , -0.68418545, -0.6102574 , -0.49652886,\n",
       "        -0.33309776, -0.11655319,  0.14342618,  0.42103827,  0.68006504],\n",
       "       [-0.75400555, -0.7543349 , -0.75474083, -0.7552401 , -0.7558527 ,\n",
       "        -0.756602  , -0.7575147 , -0.75862056, -0.75995046, -0.761534  ,\n",
       "        -0.7633936 , -0.7655346 , -0.767928  , -0.77048194, -0.77299446,\n",
       "        -0.7750774 , -0.7760365 , -0.77468634, -0.7690737 , -0.75608927,\n",
       "        -0.7309705 , -0.6867926 , -0.6142437 , -0.50233316, -0.3410383 ,\n",
       "        -0.12658149,  0.1319493 ,  0.40932012,  0.66949546,  0.87851036],\n",
       "       [-0.7543277 , -0.75473195, -0.7552293 , -0.7558395 , -0.7565862 ,\n",
       "        -0.7574959 , -0.7585984 , -0.7599249 , -0.7615053 , -0.7633628 ,\n",
       "        -0.76550406, -0.7679022 , -0.7704691 , -0.7730087 , -0.7751426 ,\n",
       "        -0.77619207, -0.7749956 , -0.769637  , -0.7570604 , -0.73257744,\n",
       "        -0.6893544 , -0.6181673 , -0.50805926, -0.34889257, -0.13653469,\n",
       "         0.12051201,  0.3975898 ,  0.65886486,  0.87004876,  1.0101587 ],\n",
       "       [-0.75472313, -0.7552185 , -0.7558265 , -0.75657046, -0.7574771 ,\n",
       "        -0.7585763 , -0.7598993 , -0.76147664, -0.76333195, -0.76547325,\n",
       "        -0.76787585, -0.7704552 , -0.7730211 , -0.7752048 , -0.77634263,\n",
       "        -0.7752968 , -0.7701873 , -0.7580113 , -0.7341537 , -0.6918715 ,\n",
       "        -0.6220295 , -0.5137074 , -0.35666138, -0.14641225,  0.10911596,\n",
       "         0.38584864,  0.6481744 ,  0.86149776,  1.0042211 ,  1.0712911 ],\n",
       "       [-0.7552077 , -0.7558134 , -0.7565547 , -0.7574584 , -0.7585542 ,\n",
       "        -0.7598738 , -0.76144785, -0.76330096, -0.76544213, -0.76784897,\n",
       "        -0.7704403 , -0.7730318 , -0.77526397, -0.7764882 , -0.77558994,\n",
       "        -0.77072483, -0.7589423 , -0.7356998 , -0.6943444 , -0.62583065,\n",
       "        -0.5192782 , -0.36434424, -0.15621376,  0.09776294,  0.3740996 ,\n",
       "         0.6374254 ,  0.8528584 ,  0.99818873,  1.0677948 ,  1.0685402 ],\n",
       "       [-0.7558004 , -0.75653905, -0.7574397 , -0.7585321 , -0.75984824,\n",
       "        -0.76141906, -0.7632698 , -0.7654107 , -0.76782143, -0.7704243 ,\n",
       "        -0.77304065, -0.7753202 , -0.77662885, -0.7758752 , -0.7712498 ,\n",
       "        -0.7598537 , -0.73721606, -0.69677365, -0.6295714 , -0.52477205,\n",
       "        -0.37194133, -0.16593742,  0.08645433,  0.36234462,  0.62662065,\n",
       "         0.8441309 ,  0.99206173,  1.0642136 ,  1.067113  ,  1.013471  ],\n",
       "       [-0.75652343, -0.757421  , -0.7585101 , -0.7598227 , -0.7613902 ,\n",
       "        -0.7632385 , -0.765379  , -0.7677934 , -0.7704073 , -0.7730478 ,\n",
       "        -0.77537346, -0.77676475, -0.77615273, -0.7717624 , -0.7607459 ,\n",
       "        -0.73870313, -0.6991601 , -0.63325256, -0.53018975, -0.37945274,\n",
       "        -0.17558372,  0.07519221,  0.35058498,  0.6157609 ,  0.8353163 ,\n",
       "         0.9858391 ,  1.060547  ,  1.0656189 ,  1.0136516 ,  0.91863215],\n",
       "       [-0.75740236, -0.7584881 , -0.75979716, -0.7613613 , -0.7632071 ,\n",
       "        -0.76534706, -0.7677648 , -0.77038944, -0.7730533 , -0.77542394,\n",
       "        -0.776896  , -0.7764227 , -0.77226293, -0.7616191 , -0.7401613 ,\n",
       "        -0.70150405, -0.6368747 , -0.5355318 , -0.38687855, -0.1851511 ,\n",
       "         0.06397742,  0.33882368,  0.60484755,  0.8264159 ,  0.9795214 ,\n",
       "         1.0567943 ,  1.0640553 ,  1.0137817 ,  0.91998196,  0.7956072 ],\n",
       "       [-0.7584661 , -0.75977165, -0.7613324 , -0.76317555, -0.7653148 ,\n",
       "        -0.7677357 , -0.77037054, -0.7730571 , -0.7754716 , -0.7770226 ,\n",
       "        -0.7766851 , -0.7727515 , -0.7624737 , -0.741591  , -0.70380616,\n",
       "        -0.64043844, -0.5407987 , -0.39421886, -0.19463933,  0.05281234,\n",
       "         0.32706165,  0.5938833 ,  0.81742907,  0.97310853,  1.052955  ,\n",
       "         1.0624224 ,  1.0138603 ,  0.92129576,  0.7977562 ,  0.6544057 ],\n",
       "       [-0.75974613, -0.7613034 , -0.7631439 , -0.7652823 , -0.7677061 ,\n",
       "        -0.77035075, -0.7730593 , -0.7755166 , -0.77714473, -0.7769402 ,\n",
       "        -0.7732284 , -0.76330996, -0.74299276, -0.7060671 , -0.6439446 ,\n",
       "        -0.54599106, -0.401474  , -0.20404756,  0.04169822,  0.315302  ,\n",
       "         0.58286905,  0.80835855,  0.96660006,  1.0490292 ,  1.0607196 ,\n",
       "         1.0138875 ,  0.9225738 ,  0.7998818 ,  0.6570575 ,  0.5034375 ],\n",
       "       [-0.76127446, -0.7631121 , -0.76524955, -0.767676  , -0.7703301 ,\n",
       "        -0.77305996, -0.7755589 , -0.77726245, -0.7771882 , -0.77369386,\n",
       "        -0.7641282 , -0.7443669 , -0.7082873 , -0.64739364, -0.5511095 ,\n",
       "        -0.4086442 , -0.21337527,  0.03063643,  0.3035462 ,  0.5718068 ,\n",
       "         0.7992033 ,  0.95999706,  1.0450155 ,  1.0589465 ,  1.0138617 ,\n",
       "         0.92381585,  0.801983  ,  0.6596947 ,  0.50635946,  0.34963918],\n",
       "       [-0.76308024, -0.7652165 , -0.7676454 , -0.7703085 , -0.77305907,\n",
       "        -0.7755986 , -0.7773758 , -0.77742904, -0.774148  , -0.7649287 ,\n",
       "        -0.745714  , -0.71046746, -0.6507864 , -0.55615455, -0.4157294 ,\n",
       "        -0.22262192,  0.01962829,  0.29179645,  0.5606979 ,  0.7899656 ,\n",
       "         0.95329845,  1.0409135 ,  1.0571016 ,  1.0137835 ,  0.92502046,\n",
       "         0.80405974,  0.6623163 ,  0.5092734 ,  0.35265136,  0.19857633],\n",
       "       [-0.7651833 , -0.7676143 , -0.770286  , -0.7730566 , -0.7756357 ,\n",
       "        -0.77748495, -0.77766305, -0.774591  , -0.7657119 , -0.74703443,\n",
       "        -0.7126081 , -0.6541234 , -0.5611269 , -0.42272997, -0.23178685,\n",
       "         0.00867599,  0.28005445,  0.5495447 ,  0.7806457 ,  0.94650424,\n",
       "         1.036723  ,  1.0551847 ,  1.0136513 ,  0.9261869 ,  0.8061116 ,\n",
       "         0.6649227 ,  0.5121784 ,  0.35566103,  0.20154464,  0.05452096],\n",
       "       [-0.7675828 , -0.7702627 , -0.77305275, -0.77567035, -0.77758986,\n",
       "        -0.7778902 , -0.77502316, -0.7664778 , -0.7483286 , -0.71470976,\n",
       "        -0.6574055 , -0.5660269 , -0.42964625, -0.24086988, -0.00221956,\n",
       "         0.2683226 ,  0.53834903,  0.7712451 ,  0.93961513,  1.0324439 ,\n",
       "         1.053195  ,  1.0134647 ,  0.92731583,  0.8081385 ,  0.6675136 ,\n",
       "         0.5150759 ,  0.3586669 ,  0.20451367,  0.05734837, -0.07948148],\n",
       "       [-0.77023864, -0.7730474 , -0.7757025 , -0.7776907 , -0.7781107 ,\n",
       "        -0.77544457, -0.767227  , -0.74959683, -0.71677303, -0.6606331 ,\n",
       "        -0.5708555 , -0.43647826, -0.24987018, -0.01305699,  0.25660276,\n",
       "         0.5271126 ,  0.76176417,  0.93263113,  1.0280749 ,  1.0511321 ,\n",
       "         1.013223  ,  0.92840576,  0.8101392 ,  0.6700891 ,  0.5179633 ,\n",
       "         0.36166918,  0.20748246,  0.06017768, -0.0768615 , -0.20150578],\n",
       "       [-0.77304065, -0.7757322 , -0.77778757, -0.7783246 , -0.7758555 ,\n",
       "        -0.7679596 , -0.7508397 , -0.7187984 , -0.6638071 , -0.57561314,\n",
       "        -0.44322664, -0.2587874 , -0.02383482,  0.24489671,  0.5158366 ,\n",
       "         0.75220454,  0.925552  ,  1.0236157 ,  1.0489947 ,  1.0129255 ,\n",
       "         0.92945707,  0.812114  ,  0.6726477 ,  0.520843  ,  0.364668  ,\n",
       "         0.21045125,  0.0630101 , -0.07423675, -0.19913018, -0.3105961 ],\n",
       "       [-0.77575964, -0.7778805 , -0.7785321 , -0.7762561 , -0.7686759 ,\n",
       "        -0.7520575 , -0.7207865 , -0.6669279 , -0.5803007 , -0.44989157,\n",
       "        -0.26762137, -0.03455168,  0.23320675,  0.50452363,  0.7425672 ,\n",
       "         0.9183785 ,  1.0190662 ,  1.0467826 ,  1.0125719 ,  0.9304682 ,\n",
       "         0.81406236,  0.67519045,  0.52371264,  0.36766255,  0.21342003,\n",
       "         0.06584466, -0.07160842, -0.19675052, -0.30848277, -0.4065863 ],\n",
       "       [-0.77796954, -0.7787333 , -0.77664655, -0.7693763 , -0.7532506 ,\n",
       "        -0.7227377 , -0.66999644, -0.5849183 , -0.45647332, -0.27637166,\n",
       "        -0.04520643,  0.22153473,  0.49317586,  0.7328528 ,  0.91111004,\n",
       "         1.0144256 ,  1.0444952 ,  1.0121614 ,  0.93143916,  0.815984  ,\n",
       "         0.67771566,  0.5265733 ,  0.3706534 ,  0.21638834,  0.06868088,\n",
       "        -0.06897604, -0.19436586, -0.3063649 , -0.40473688, -0.48990548],\n",
       "       [-0.7789283 , -0.777027  , -0.7700609 , -0.7544195 , -0.72465277,\n",
       "        -0.6730131 , -0.5894672 , -0.4629721 , -0.28503776, -0.05579758,\n",
       "         0.20988262,  0.48179448,  0.7230629 ,  0.90374744,  1.0096939 ,\n",
       "         1.0421314 ,  1.0116928 ,  0.93236876,  0.81787825,  0.6802244 ,\n",
       "         0.5294244 ,  0.37363982,  0.21935642,  0.07152021, -0.06633985,\n",
       "        -0.19197595, -0.30424154, -0.4028808 , -0.48830688, -0.56138813],\n",
       "       [-0.7773977 , -0.77073   , -0.75556445, -0.726532  , -0.67597866,\n",
       "        -0.5939475 , -0.46938866, -0.29361933, -0.06632435,  0.1982522 ,\n",
       "         0.47038162,  0.7131988 ,  0.8962909 ,  1.0048705 ,  1.0396909 ,\n",
       "         1.0111662 ,  0.9332578 ,  0.81974447,  0.68271565,  0.5322652 ,\n",
       "         0.37662208,  0.22232354,  0.07436144, -0.06370008, -0.18958223,\n",
       "        -0.30211318, -0.40102017, -0.48670328, -0.5600215 , -0.62211096],\n",
       "       [-0.771384  , -0.756686  , -0.7283761 , -0.67889386, -0.5983603 ,\n",
       "        -0.47572303, -0.30211672, -0.07678491,  0.18664539,  0.4589393 ,\n",
       "         0.70326126,  0.88874066,  0.99995506,  1.0371729 ,  1.0105805 ,\n",
       "         0.93410444,  0.8215829 ,  0.685189  ,  0.5350971 ,  0.37960005,\n",
       "         0.22529042,  0.07720459, -0.06105649, -0.18718255, -0.29997957,\n",
       "        -0.39915502, -0.48509467, -0.5586511 , -0.62095463, -0.67326605],\n",
       "       [-0.75778437, -0.7301854 , -0.68175906, -0.60270596, -0.48197567,\n",
       "        -0.3105286 , -0.08717871,  0.17506468,  0.44746935,  0.69325244,\n",
       "         0.8810971 ,  0.9949472 ,  1.0345768 ,  1.0099351 ,  0.9349086 ,\n",
       "         0.8233926 ,  0.68764424,  0.5379181 ,  0.38257313,  0.22825682,\n",
       "         0.08004963, -0.05840886, -0.18477929, -0.2978412 , -0.3972839 ,\n",
       "        -0.48348153, -0.5572759 , -0.619794  , -0.67229474, -0.71606076],\n",
       "       [-0.7319607 , -0.68457514, -0.60698515, -0.48814744, -0.31885597,\n",
       "        -0.09750426,  0.16351104,  0.43597412,  0.68317235,  0.8733605 ,\n",
       "         0.98984647,  1.031902  ,  1.0092292 ,  0.93566954,  0.8251736 ,\n",
       "         0.6900817 ,  0.54072845,  0.38554168,  0.23122251,  0.08289707,\n",
       "        -0.05575764, -0.18237054, -0.2956971 , -0.3954078 , -0.48186314,\n",
       "        -0.5558964 , -0.6186296 , -0.67131984, -0.7152506 , -0.751654  ],\n",
       "       [-0.6873426 , -0.61119854, -0.4942382 , -0.32709813, -0.10776055,\n",
       "         0.15198702,  0.4244548 ,  0.6730236 ,  0.8655311 ,  0.9846525 ,\n",
       "         1.0291479 ,  1.0084623 ,  0.9363872 ,  0.8269248 ,  0.6925001 ,\n",
       "         0.54352856,  0.38850462,  0.23418725,  0.08574593, -0.05310285,\n",
       "        -0.17995727, -0.293548  , -0.3935269 , -0.4802395 , -0.5545119 ,\n",
       "        -0.6174613 , -0.67034185, -0.71443737, -0.75098145, -0.78111565],\n",
       "       [-0.6153467 , -0.5002485 , -0.33525458, -0.11794674,  0.14049423,\n",
       "         0.41291487,  0.6628065 ,  0.8576096 ,  0.97936547,  1.0263135 ,\n",
       "         1.0076336 ,  0.9370601 ,  0.8286463 ,  0.6948997 ,  0.5463176 ,\n",
       "         0.39146328,  0.23715031,  0.08859694, -0.05044448, -0.17753947,\n",
       "        -0.29139435, -0.3916403 , -0.47861135, -0.5531236 , -0.61628854,\n",
       "        -0.6693605 , -0.7136208 , -0.7503067 , -0.7805599 , -0.80540407],\n",
       "       [-0.5061791 , -0.34332567, -0.12806177,  0.12903392,  0.40135467,\n",
       "         0.65252304,  0.84959614,  0.9739846 ,  1.0233983 ,  1.0067427 ,\n",
       "         0.93768847,  0.8303373 ,  0.69727993,  0.5490953 ,  0.39441633,\n",
       "         0.2401129 ,  0.09144986, -0.04778254, -0.17511761, -0.28923523,\n",
       "        -0.38974917, -0.4769777 , -0.55173004, -0.61511195, -0.66837466,\n",
       "        -0.7128011 , -0.7496294 , -0.780002  , -0.8049468 , -0.8253628 ],\n",
       "       [-0.3513111 , -0.13810408,  0.11760926,  0.3897767 ,  0.64217484,\n",
       "         0.8414918 ,  0.9685099 ,  1.0204021 ,  1.0057883 ,  0.93827116,\n",
       "         0.83199716,  0.6996403 ,  0.5518614 ,  0.39736378,  0.24307454,\n",
       "         0.09430373, -0.04511678, -0.17269075, -0.2870711 , -0.3878523 ,\n",
       "        -0.47533977, -0.55033267, -0.61393154, -0.6673857 , -0.7119783 ,\n",
       "        -0.7489487 , -0.7794422 , -0.80448735, -0.8249873 , -0.8417195 ],\n",
       "       [-0.1480735 ,  0.10622084,  0.37818372,  0.6317626 ,  0.83329666,\n",
       "         0.96294105,  1.0173231 ,  1.0047706 ,  0.9388083 ,  0.83362615,\n",
       "         0.70198095,  0.5546167 ,  0.4003061 ,  0.2460345 ,  0.09715998,\n",
       "        -0.04244816, -0.17025888, -0.28490174, -0.38595068, -0.4736966 ,\n",
       "        -0.5489298 , -0.61274636, -0.66639316, -0.7111529 , -0.7482656 ,\n",
       "        -0.77887976, -0.8040265 , -0.8246108 , -0.8414124 , -0.855095  ]],\n",
       "      dtype=float32)"
      ]
     },
     "execution_count": 354,
     "metadata": {},
     "output_type": "execute_result"
    }
   ],
   "source": [
    "x_range = np.linspace(-2, 2, 30)\n",
    "y_range = np.linspace(-2, 2, 30)\n",
    "xx, yy = np.meshgrid(x_range, y_range, indexing='ij')\n",
    "# for i in range(30):\n",
    "#     for j in range(30):\n",
    "#         print(xx[i,j], yy[i,j])\n",
    "zz = [model.predict(np.array([[xx[i][j], yy[i,j]] for i in range(30)]), verbose=0).flatten() for j in range(30)]\n",
    "z = np.array(zz)\n",
    "z"
   ]
  },
  {
   "cell_type": "code",
   "execution_count": 356,
   "id": "3172090e",
   "metadata": {},
   "outputs": [
    {
     "data": {
      "text/plain": [
       "<matplotlib.contour.QuadContourSet at 0x25e4b474100>"
      ]
     },
     "execution_count": 356,
     "metadata": {},
     "output_type": "execute_result"
    },
    {
     "data": {
      "image/png": "[encoded data removed]",
      "text/plain": [
       "<Figure size 1440x1440 with 1 Axes>"
      ]
     },
     "metadata": {
      "needs_background": "light"
     },
     "output_type": "display_data"
    }
   ],
   "source": [
    "plt.figure(figsize=(20, 20))\n",
    "plt.axis('scaled')\n",
    "plt.xlim(-2, 2)\n",
    "plt.ylim(-2, 2)\n",
    "colors = {0: \"wo\", 1: \"ko\"}\n",
    "# plotting the four datapoints\n",
    "for i in range(len(x)):\n",
    "    plt.plot(x[i][0], x[i][1], colors[int(y[i][0])], markersize=20)\n",
    "\n",
    "# using the contourf function to create the plot\n",
    "plt.contourf(xx, yy, z, alpha=0.4)"
   ]
  },
  {
   "cell_type": "code",
   "execution_count": null,
   "id": "9db14ef5",
   "metadata": {},
   "outputs": [],
   "source": []
  }
 ],
 "metadata": {
  "kernelspec": {
   "display_name": "Python 3 (ipykernel)",
   "language": "python",
   "name": "python3"
  },
  "language_info": {
   "codemirror_mode": {
    "name": "ipython",
    "version": 3
   },
   "file_extension": ".py",
   "mimetype": "text/x-python",
   "name": "python",
   "nbconvert_exporter": "python",
   "pygments_lexer": "ipython3",
   "version": "3.8.1"
  }
 },
 "nbformat": 4,
 "nbformat_minor": 5
}
