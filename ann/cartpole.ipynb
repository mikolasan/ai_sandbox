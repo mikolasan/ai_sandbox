{
 "cells": [
  {
   "cell_type": "code",
   "execution_count": 1,
   "id": "aefc0ac6-9178-4f3e-ae5e-64aa2d0d6b1f",
   "metadata": {},
   "outputs": [
    {
     "name": "stdout",
     "output_type": "stream",
     "text": [
      "Collecting gymnasium\n",
      "  Obtaining dependency information for gymnasium from https://files.pythonhosted.org/packages/3f/00/a728a4a8608213482fc38d76d842657d29b546f214e83801a044de074612/gymnasium-0.29.0-py3-none-any.whl.metadata\n",
      "  Downloading gymnasium-0.29.0-py3-none-any.whl.metadata (10 kB)\n",
      "Collecting numpy>=1.21.0 (from gymnasium)\n",
      "  Obtaining dependency information for numpy>=1.21.0 from https://files.pythonhosted.org/packages/b7/db/4d37359e2c9cf8bf071c08b8a6f7374648a5ab2e76e2e22e3b808f81d507/numpy-1.25.2-cp310-cp310-win_amd64.whl.metadata\n",
      "  Downloading numpy-1.25.2-cp310-cp310-win_amd64.whl.metadata (5.7 kB)\n",
      "Collecting cloudpickle>=1.2.0 (from gymnasium)\n",
      "  Downloading cloudpickle-2.2.1-py3-none-any.whl (25 kB)\n",
      "Requirement already satisfied: typing-extensions>=4.3.0 in c:\\users\\neupo\\miniconda3\\envs\\cartpole\\lib\\site-packages (from gymnasium) (4.7.1)\n",
      "Collecting farama-notifications>=0.0.1 (from gymnasium)\n",
      "  Downloading Farama_Notifications-0.0.4-py3-none-any.whl (2.5 kB)\n",
      "Downloading gymnasium-0.29.0-py3-none-any.whl (953 kB)\n",
      "   ---------------------------------------- 0.0/953.8 kB ? eta -:--:--\n",
      "   - ------------------------------------- 41.0/953.8 kB 991.0 kB/s eta 0:00:01\n",
      "   ----------- ---------------------------- 276.5/953.8 kB 3.4 MB/s eta 0:00:01\n",
      "   --------------------- ------------------ 522.2/953.8 kB 4.1 MB/s eta 0:00:01\n",
      "   ----------------------------------- ---- 849.9/953.8 kB 4.9 MB/s eta 0:00:01\n",
      "   ---------------------------------------- 953.8/953.8 kB 4.6 MB/s eta 0:00:00\n",
      "Downloading numpy-1.25.2-cp310-cp310-win_amd64.whl (15.6 MB)\n",
      "   ---------------------------------------- 0.0/15.6 MB ? eta -:--:--\n",
      "    --------------------------------------- 0.4/15.6 MB 11.9 MB/s eta 0:00:02\n",
      "   - -------------------------------------- 0.7/15.6 MB 9.2 MB/s eta 0:00:02\n",
      "   -- ------------------------------------- 1.1/15.6 MB 8.7 MB/s eta 0:00:02\n",
      "   ---- ----------------------------------- 1.6/15.6 MB 9.0 MB/s eta 0:00:02\n",
      "   ----- ---------------------------------- 2.1/15.6 MB 9.5 MB/s eta 0:00:02\n",
      "   ------ --------------------------------- 2.6/15.6 MB 9.8 MB/s eta 0:00:02\n",
      "   -------- ------------------------------- 3.2/15.6 MB 10.3 MB/s eta 0:00:02\n",
      "   --------- ------------------------------ 3.9/15.6 MB 10.7 MB/s eta 0:00:02\n",
      "   ----------- ---------------------------- 4.4/15.6 MB 11.2 MB/s eta 0:00:01\n",
      "   ------------ --------------------------- 5.0/15.6 MB 10.9 MB/s eta 0:00:01\n",
      "   -------------- ------------------------- 5.8/15.6 MB 11.9 MB/s eta 0:00:01\n",
      "   ---------------- ----------------------- 6.4/15.6 MB 12.0 MB/s eta 0:00:01\n",
      "   ----------------- ---------------------- 6.9/15.6 MB 12.2 MB/s eta 0:00:01\n",
      "   ------------------- -------------------- 7.7/15.6 MB 11.9 MB/s eta 0:00:01\n",
      "   --------------------- ------------------ 8.4/15.6 MB 12.4 MB/s eta 0:00:01\n",
      "   ----------------------- ---------------- 9.3/15.6 MB 13.0 MB/s eta 0:00:01\n",
      "   ------------------------- -------------- 10.0/15.6 MB 13.0 MB/s eta 0:00:01\n",
      "   --------------------------- ------------ 10.6/15.6 MB 13.1 MB/s eta 0:00:01\n",
      "   ----------------------------- ---------- 11.7/15.6 MB 14.6 MB/s eta 0:00:01\n",
      "   -------------------------------- ------- 12.8/15.6 MB 16.0 MB/s eta 0:00:01\n",
      "   ----------------------------------- ---- 13.7/15.6 MB 16.4 MB/s eta 0:00:01\n",
      "   -------------------------------------- - 15.1/15.6 MB 18.2 MB/s eta 0:00:01\n",
      "   ---------------------------------------  15.6/15.6 MB 18.7 MB/s eta 0:00:01\n",
      "   ---------------------------------------- 15.6/15.6 MB 17.2 MB/s eta 0:00:00\n",
      "Installing collected packages: farama-notifications, numpy, cloudpickle, gymnasium\n",
      "Successfully installed cloudpickle-2.2.1 farama-notifications-0.0.4 gymnasium-0.29.0 numpy-1.25.2\n"
     ]
    }
   ],
   "source": [
    "!pip install gymnasium"
   ]
  },
  {
   "cell_type": "code",
   "execution_count": 24,
   "id": "6a437140-f892-4450-b66f-c7c0d91238ac",
   "metadata": {},
   "outputs": [
    {
     "name": "stdout",
     "output_type": "stream",
     "text": [
      "Collecting matplotlib\n",
      "  Obtaining dependency information for matplotlib from https://files.pythonhosted.org/packages/ff/1f/2b83c7acf453318a80dc619e99fc30a663b2c1fb18be3d358a96addfecd9/matplotlib-3.7.2-cp310-cp310-win_amd64.whl.metadata\n",
      "  Downloading matplotlib-3.7.2-cp310-cp310-win_amd64.whl.metadata (5.8 kB)\n",
      "Requirement already satisfied: numpy in c:\\users\\neupo\\miniconda3\\envs\\cartpole\\lib\\site-packages (1.25.2)\n",
      "Collecting contourpy>=1.0.1 (from matplotlib)\n",
      "  Obtaining dependency information for contourpy>=1.0.1 from https://files.pythonhosted.org/packages/94/0a/5eb57dd395fade977786b2d2c98c2bee8234358794be44422fe58a719d42/contourpy-1.1.0-cp310-cp310-win_amd64.whl.metadata\n",
      "  Downloading contourpy-1.1.0-cp310-cp310-win_amd64.whl.metadata (5.7 kB)\n",
      "Collecting cycler>=0.10 (from matplotlib)\n",
      "  Using cached cycler-0.11.0-py3-none-any.whl (6.4 kB)\n",
      "Collecting fonttools>=4.22.0 (from matplotlib)\n",
      "  Obtaining dependency information for fonttools>=4.22.0 from https://files.pythonhosted.org/packages/8e/8a/2780329735ae21d7624f174616407aea106e19b149c46e7efbf2073d62f9/fonttools-4.42.0-cp310-cp310-win_amd64.whl.metadata\n",
      "  Downloading fonttools-4.42.0-cp310-cp310-win_amd64.whl.metadata (153 kB)\n",
      "     ---------------------------------------- 0.0/153.7 kB ? eta -:--:--\n",
      "     -- ------------------------------------- 10.2/153.7 kB ? eta -:--:--\n",
      "     --------- --------------------------- 41.0/153.7 kB 653.6 kB/s eta 0:00:01\n",
      "     -------------------------------------- 153.7/153.7 kB 1.5 MB/s eta 0:00:00\n",
      "Collecting kiwisolver>=1.0.1 (from matplotlib)\n",
      "  Using cached kiwisolver-1.4.4-cp310-cp310-win_amd64.whl (55 kB)\n",
      "Requirement already satisfied: packaging>=20.0 in c:\\users\\neupo\\miniconda3\\envs\\cartpole\\lib\\site-packages (from matplotlib) (23.1)\n",
      "Collecting pillow>=6.2.0 (from matplotlib)\n",
      "  Obtaining dependency information for pillow>=6.2.0 from https://files.pythonhosted.org/packages/d0/4f/faebe1180e5e6ad6330c539dda7f6081182157393ba6816a438f759a0e59/Pillow-10.0.0-cp310-cp310-win_amd64.whl.metadata\n",
      "  Downloading Pillow-10.0.0-cp310-cp310-win_amd64.whl.metadata (9.6 kB)\n",
      "Collecting pyparsing<3.1,>=2.3.1 (from matplotlib)\n",
      "  Using cached pyparsing-3.0.9-py3-none-any.whl (98 kB)\n",
      "Requirement already satisfied: python-dateutil>=2.7 in c:\\users\\neupo\\miniconda3\\envs\\cartpole\\lib\\site-packages (from matplotlib) (2.8.2)\n",
      "Requirement already satisfied: six>=1.5 in c:\\users\\neupo\\miniconda3\\envs\\cartpole\\lib\\site-packages (from python-dateutil>=2.7->matplotlib) (1.16.0)\n",
      "Using cached matplotlib-3.7.2-cp310-cp310-win_amd64.whl (7.5 MB)\n",
      "Using cached contourpy-1.1.0-cp310-cp310-win_amd64.whl (470 kB)\n",
      "Downloading fonttools-4.42.0-cp310-cp310-win_amd64.whl (2.1 MB)\n",
      "   ---------------------------------------- 0.0/2.1 MB ? eta -:--:--\n",
      "   -- ------------------------------------- 0.2/2.1 MB 4.5 MB/s eta 0:00:01\n",
      "   ------ --------------------------------- 0.3/2.1 MB 4.1 MB/s eta 0:00:01\n",
      "   ---------- ----------------------------- 0.6/2.1 MB 4.3 MB/s eta 0:00:01\n",
      "   -------------- ------------------------- 0.8/2.1 MB 4.5 MB/s eta 0:00:01\n",
      "   ------------------- -------------------- 1.0/2.1 MB 4.6 MB/s eta 0:00:01\n",
      "   ----------------------- ---------------- 1.2/2.1 MB 4.6 MB/s eta 0:00:01\n",
      "   ----------------------------- ---------- 1.5/2.1 MB 4.9 MB/s eta 0:00:01\n",
      "   --------------------------------- ------ 1.8/2.1 MB 4.9 MB/s eta 0:00:01\n",
      "   ---------------------------------------  2.1/2.1 MB 5.2 MB/s eta 0:00:01\n",
      "   ---------------------------------------- 2.1/2.1 MB 5.0 MB/s eta 0:00:00\n",
      "Using cached Pillow-10.0.0-cp310-cp310-win_amd64.whl (2.5 MB)\n",
      "Installing collected packages: pyparsing, pillow, kiwisolver, fonttools, cycler, contourpy, matplotlib\n",
      "Successfully installed contourpy-1.1.0 cycler-0.11.0 fonttools-4.42.0 kiwisolver-1.4.4 matplotlib-3.7.2 pillow-10.0.0 pyparsing-3.0.9\n"
     ]
    }
   ],
   "source": [
    "!pip install matplotlib numpy"
   ]
  },
  {
   "cell_type": "code",
   "execution_count": 4,
   "id": "b2b5e3bc-bf93-401a-8f72-5d02ec2704db",
   "metadata": {},
   "outputs": [],
   "source": [
    "import gymnasium as gym"
   ]
  },
  {
   "cell_type": "code",
   "execution_count": 5,
   "id": "90ef080e-f5e3-47db-a2cd-3f4a9142736b",
   "metadata": {},
   "outputs": [],
   "source": [
    "env = gym.make('CartPole-v1')"
   ]
  },
  {
   "cell_type": "code",
   "execution_count": 6,
   "id": "03677834-10e9-4449-b37c-92b416d18a08",
   "metadata": {},
   "outputs": [],
   "source": [
    "observation, info = env.reset()"
   ]
  },
  {
   "cell_type": "code",
   "execution_count": 7,
   "id": "3e5876be-36ab-4ca6-a366-9b04c498e8de",
   "metadata": {},
   "outputs": [
    {
     "data": {
      "text/plain": [
       "array([-0.02257762,  0.01047234, -0.03048451, -0.04379127], dtype=float32)"
      ]
     },
     "execution_count": 7,
     "metadata": {},
     "output_type": "execute_result"
    }
   ],
   "source": [
    "# [cart position, cart velocity, pole angle, pole angular velocity]\n",
    "observation"
   ]
  },
  {
   "cell_type": "code",
   "execution_count": 8,
   "id": "f0ca42e9-50c1-48dd-8c67-85434249f9ec",
   "metadata": {},
   "outputs": [
    {
     "data": {
      "text/plain": [
       "{}"
      ]
     },
     "execution_count": 8,
     "metadata": {},
     "output_type": "execute_result"
    }
   ],
   "source": [
    "info"
   ]
  },
  {
   "cell_type": "code",
   "execution_count": 9,
   "id": "74cb537c-163e-4b01-9ef7-48f941b00da0",
   "metadata": {},
   "outputs": [],
   "source": [
    "action = env.action_space.sample()"
   ]
  },
  {
   "cell_type": "code",
   "execution_count": 10,
   "id": "81f5c354-3e88-4688-b1ca-298a4eafdcbb",
   "metadata": {},
   "outputs": [
    {
     "data": {
      "text/plain": [
       "0"
      ]
     },
     "execution_count": 10,
     "metadata": {},
     "output_type": "execute_result"
    }
   ],
   "source": [
    "action"
   ]
  },
  {
   "cell_type": "code",
   "execution_count": 11,
   "id": "5c769847-86c0-40cb-b9cb-f398002e15af",
   "metadata": {},
   "outputs": [],
   "source": [
    "num_actions = env.action_space.n"
   ]
  },
  {
   "cell_type": "code",
   "execution_count": 12,
   "id": "f53ca1e2-92bf-49f8-b5d0-2d5f2662fdb3",
   "metadata": {},
   "outputs": [
    {
     "data": {
      "text/plain": [
       "2"
      ]
     },
     "execution_count": 12,
     "metadata": {},
     "output_type": "execute_result"
    }
   ],
   "source": [
    "num_actions"
   ]
  },
  {
   "cell_type": "code",
   "execution_count": 13,
   "id": "f5d70686-8c8d-45dd-bf7a-72e02c2911fc",
   "metadata": {},
   "outputs": [],
   "source": [
    "# action: 0 - push cart to the left, 1 - push cart to the right\n",
    "observation, reward, terminated, truncated, info = env.step(action)"
   ]
  },
  {
   "cell_type": "code",
   "execution_count": 14,
   "id": "886e3fbf-cba6-461c-b2ba-c6d802fcbae4",
   "metadata": {},
   "outputs": [
    {
     "data": {
      "text/plain": [
       "array([-0.02236818, -0.18419951, -0.03136034,  0.23911978], dtype=float32)"
      ]
     },
     "execution_count": 14,
     "metadata": {},
     "output_type": "execute_result"
    }
   ],
   "source": [
    "observation"
   ]
  },
  {
   "cell_type": "code",
   "execution_count": 15,
   "id": "8243cd9a-4520-4732-9604-9bdcf4ff1ed3",
   "metadata": {},
   "outputs": [
    {
     "data": {
      "text/plain": [
       "1.0"
      ]
     },
     "execution_count": 15,
     "metadata": {},
     "output_type": "execute_result"
    }
   ],
   "source": [
    "reward"
   ]
  },
  {
   "cell_type": "code",
   "execution_count": 16,
   "id": "66f08c82-4bc9-4f73-b82b-156839188801",
   "metadata": {},
   "outputs": [
    {
     "data": {
      "text/plain": [
       "False"
      ]
     },
     "execution_count": 16,
     "metadata": {},
     "output_type": "execute_result"
    }
   ],
   "source": [
    "terminated"
   ]
  },
  {
   "cell_type": "code",
   "execution_count": 17,
   "id": "0ca68b1b-722d-4823-87a3-70136639507b",
   "metadata": {},
   "outputs": [
    {
     "data": {
      "text/plain": [
       "False"
      ]
     },
     "execution_count": 17,
     "metadata": {},
     "output_type": "execute_result"
    }
   ],
   "source": [
    "truncated"
   ]
  },
  {
   "cell_type": "code",
   "execution_count": 18,
   "id": "56bf92ab-5e5e-4782-aad7-46c4afc6085e",
   "metadata": {},
   "outputs": [
    {
     "data": {
      "text/plain": [
       "{}"
      ]
     },
     "execution_count": 18,
     "metadata": {},
     "output_type": "execute_result"
    }
   ],
   "source": [
    "info"
   ]
  },
  {
   "cell_type": "code",
   "execution_count": 54,
   "id": "c8d43c4d-d2ad-40a0-973e-fb53822d57fa",
   "metadata": {},
   "outputs": [],
   "source": [
    "import matplotlib.pyplot as plt\n",
    "import numpy as np\n",
    "\n",
    "t1 = np.arange(-5.0, 5.0, 0.1)\n",
    "t2 = np.arange(-1.0, 1.0, 0.01)"
   ]
  },
  {
   "cell_type": "code",
   "execution_count": 55,
   "id": "1644ce47-e38b-49c1-9e6c-97cc9d2ff722",
   "metadata": {},
   "outputs": [],
   "source": [
    "# max fear values\n",
    "cart_min_x = -4.8\n",
    "cart_max_x = 4.8\n",
    "# max pain values\n",
    "pole_min_angle = -.418\n",
    "pole_max_angle = .418\n",
    "\n",
    "pi_2 = np.pi / 2.0\n",
    "\n",
    "def cart_pos_to_fear(x):\n",
    "    if x <= cart_min_x:\n",
    "        return 1.0\n",
    "    elif x >= cart_max_x:\n",
    "        return 1.0\n",
    "    elif x < 0:\n",
    "        return -np.cos(np.pi * (1.0 - abs((cart_min_x - x) / cart_min_x))) / 2.0 + 0.5\n",
    "    else:\n",
    "        return -np.cos(np.pi * (1.0 - abs((cart_max_x - x) / cart_max_x))) / 2.0 + 0.5\n",
    "\n",
    "def pole_angle_to_pain(x):\n",
    "    if x <= pole_min_angle:\n",
    "        return 1.0\n",
    "    elif x >= pole_max_angle:\n",
    "        return 1.0\n",
    "    elif x < 0:\n",
    "        return -np.cos(np.pi * (1.0 - abs((pole_min_angle - x) / pole_min_angle))) / 2.0 + 0.5\n",
    "    else:\n",
    "        return -np.cos(np.pi * (1.0 - abs((pole_max_angle - x) / pole_max_angle))) / 2.0 + 0.5"
   ]
  },
  {
   "cell_type": "code",
   "execution_count": 56,
   "id": "c7169256-a661-4d28-b9a0-45c3e165c810",
   "metadata": {},
   "outputs": [
    {
     "data": {
      "image/png": "[encoded data removed]",
      "text/plain": [
       "<Figure size 640x480 with 2 Axes>"
      ]
     },
     "metadata": {},
     "output_type": "display_data"
    }
   ],
   "source": [
    "plt.figure()\n",
    "\n",
    "plt.subplot(2, 1, 1)\n",
    "plt.plot(t1, np.vectorize(cart_pos_to_fear)(t1), label='Cart position to fear level')\n",
    "\n",
    "plt.subplot(2, 1, 2)\n",
    "plt.plot(t2, np.vectorize(pole_angle_to_pain)(t2), label='Pole angle to pain level')\n",
    "\n",
    "plt.show()"
   ]
  },
  {
   "cell_type": "code",
   "execution_count": null,
   "id": "25c611c4-878a-41b8-8bf6-1ee570a52ec9",
   "metadata": {},
   "outputs": [],
   "source": []
  }
 ],
 "metadata": {
  "kernelspec": {
   "display_name": "Python 3 (ipykernel)",
   "language": "python",
   "name": "python3"
  },
  "language_info": {
   "codemirror_mode": {
    "name": "ipython",
    "version": 3
   },
   "file_extension": ".py",
   "mimetype": "text/x-python",
   "name": "python",
   "nbconvert_exporter": "python",
   "pygments_lexer": "ipython3",
   "version": "3.10.12"
  }
 },
 "nbformat": 4,
 "nbformat_minor": 5
}
