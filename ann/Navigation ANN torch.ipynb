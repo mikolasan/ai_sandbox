{
 "cells": [
  {
   "cell_type": "code",
   "execution_count": 1,
   "id": "12183e2c",
   "metadata": {},
   "outputs": [
    {
     "name": "stderr",
     "output_type": "stream",
     "text": [
      "C:\\Users\\neupo\\AppData\\Local\\Programs\\Python\\Python38\\lib\\site-packages\\tqdm\\auto.py:22: TqdmWarning: IProgress not found. Please update jupyter and ipywidgets. See https://ipywidgets.readthedocs.io/en/stable/user_install.html\n",
      "  from .autonotebook import tqdm as notebook_tqdm\n"
     ]
    }
   ],
   "source": [
    "import torch\n",
    "import torch.nn as nn\n",
    "import numpy as np\n",
    "\n",
    "import matplotlib.pyplot as plt\n",
    "%matplotlib inline"
   ]
  },
  {
   "cell_type": "code",
   "execution_count": 2,
   "id": "733016e7",
   "metadata": {},
   "outputs": [
    {
     "data": {
      "text/plain": [
       "array([[339.71744091,  98.08159868, 180.        ],\n",
       "       [200.44954761,  62.96824597,   0.        ],\n",
       "       [242.43487469, 179.35997324,   0.        ],\n",
       "       ...,\n",
       "       [ 89.58780726, 139.00359708, -90.        ],\n",
       "       [ 86.86364163, 146.21901381, -90.        ],\n",
       "       [ 94.42697165, 155.46382216, -90.        ]])"
      ]
     },
     "execution_count": 2,
     "metadata": {},
     "output_type": "execute_result"
    }
   ],
   "source": [
    "train_data = np.genfromtxt('nav_robot_train.csv', delimiter=',')\n",
    "max_0 = 360\n",
    "max_1 = 250\n",
    "max_2 = 270\n",
    "train_data"
   ]
  },
  {
   "cell_type": "code",
   "execution_count": 55,
   "id": "74ec11ff",
   "metadata": {},
   "outputs": [
    {
     "data": {
      "text/plain": [
       "tensor([[339.7174],\n",
       "        [200.4496],\n",
       "        [242.4349],\n",
       "        [138.8141],\n",
       "        [162.8143],\n",
       "        [147.7040],\n",
       "        [114.0832],\n",
       "        [330.3955],\n",
       "        [328.7608],\n",
       "        [293.7106]])"
      ]
     },
     "execution_count": 55,
     "metadata": {},
     "output_type": "execute_result"
    }
   ],
   "source": [
    "x = np.delete(train_data, [1,2], 1)\n",
    "x = torch.Tensor(x)\n",
    "# x_max = torch.Tensor([max_0, max_1])\n",
    "# x = x / x_max\n",
    "x[:10]"
   ]
  },
  {
   "cell_type": "code",
   "execution_count": 56,
   "id": "f785637a",
   "metadata": {},
   "outputs": [
    {
     "data": {
      "text/plain": [
       "tensor([[1.0000],\n",
       "        [0.3333],\n",
       "        [0.3333],\n",
       "        [0.3333],\n",
       "        [0.3333],\n",
       "        [0.3333],\n",
       "        [0.3333],\n",
       "        [1.0000],\n",
       "        [1.0000],\n",
       "        [1.0000]])"
      ]
     },
     "execution_count": 56,
     "metadata": {},
     "output_type": "execute_result"
    }
   ],
   "source": [
    "y = np.delete(train_data, [0,1], 1)\n",
    "y = torch.Tensor(y)\n",
    "y_max = torch.Tensor([max_2])\n",
    "y = (y + 90) / y_max\n",
    "y[:10]"
   ]
  },
  {
   "cell_type": "code",
   "execution_count": 59,
   "id": "123afda7",
   "metadata": {},
   "outputs": [],
   "source": [
    "class XOR(nn.Module):\n",
    "    def __init__(self, input_dim = 1, output_dim=1):\n",
    "        super(XOR, self).__init__()\n",
    "        self.linear1 = nn.Linear(input_dim, 4)\n",
    "        self.linear2 = nn.Linear(4, output_dim)\n",
    "    \n",
    "    def forward(self, x):\n",
    "        z1 = self.linear1(x)\n",
    "        a1 = torch.sigmoid(z1)\n",
    "        z2 = self.linear2(a1)\n",
    "        a2 = z2\n",
    "        return a2"
   ]
  },
  {
   "cell_type": "code",
   "execution_count": 60,
   "id": "a939fc93",
   "metadata": {},
   "outputs": [],
   "source": [
    "model = XOR()\n",
    "mseloss = nn.MSELoss() # mean squared error\n",
    "# optimizer = torch.optim.SGD(model.parameters(), lr=0.2, momentum=0.0)\n",
    "optimizer = torch.optim.Adam(model.parameters(), lr=0.03)\n",
    "N = 100\n",
    "loss_values = []\n",
    "accuracy_values = []\n",
    "\n",
    "for i in range(N):\n",
    "    model.train()\n",
    "    y_hat = model.forward(x)\n",
    "    loss = mseloss(y_hat, y)\n",
    "    loss.backward()\n",
    "    optimizer.step()\n",
    "    optimizer.zero_grad()\n",
    "\n",
    "    loss_values.append(loss.item())"
   ]
  },
  {
   "cell_type": "code",
   "execution_count": 61,
   "id": "b0238f8b",
   "metadata": {},
   "outputs": [
    {
     "data": {
      "text/plain": [
       "tensor(0.0992, grad_fn=<MseLossBackward0>)"
      ]
     },
     "execution_count": 61,
     "metadata": {},
     "output_type": "execute_result"
    }
   ],
   "source": [
    "y_hat = model.forward(x)\n",
    "loss = mseloss(y_hat, y)\n",
    "loss.backward()\n",
    "optimizer.step()\n",
    "optimizer.zero_grad()\n",
    "loss_values.append(loss.item())\n",
    "loss"
   ]
  },
  {
   "cell_type": "code",
   "execution_count": 62,
   "id": "8bc3dc9f",
   "metadata": {},
   "outputs": [
    {
     "data": {
      "text/plain": [
       "tensor([[0.5428, 1.0000],\n",
       "        [0.5428, 0.3333],\n",
       "        [0.5428, 0.3333],\n",
       "        ...,\n",
       "        [0.5814, 0.0000],\n",
       "        [0.5878, 0.0000],\n",
       "        [0.5721, 0.0000]])"
      ]
     },
     "execution_count": 62,
     "metadata": {},
     "output_type": "execute_result"
    }
   ],
   "source": [
    "model.eval()\n",
    "with torch.no_grad():\n",
    "    z = model.forward(x)\n",
    "torch.cat([z,y], 1)"
   ]
  },
  {
   "cell_type": "code",
   "execution_count": 30,
   "id": "3cebce52",
   "metadata": {},
   "outputs": [
    {
     "ename": "ValueError",
     "evalue": "x and y must have same first dimension, but have shapes (2,) and (8,)",
     "output_type": "error",
     "traceback": [
      "\u001b[1;31m---------------------------------------------------------------------------\u001b[0m",
      "\u001b[1;31mValueError\u001b[0m                                Traceback (most recent call last)",
      "Input \u001b[1;32mIn [30]\u001b[0m, in \u001b[0;36m<cell line: 11>\u001b[1;34m()\u001b[0m\n\u001b[0;32m      9\u001b[0m ax2 \u001b[38;5;241m=\u001b[39m ax1\u001b[38;5;241m.\u001b[39mtwinx()\n\u001b[0;32m     10\u001b[0m ax2\u001b[38;5;241m.\u001b[39mset_ylabel(\u001b[38;5;124m'\u001b[39m\u001b[38;5;124mloss\u001b[39m\u001b[38;5;124m'\u001b[39m, color\u001b[38;5;241m=\u001b[39m\u001b[38;5;124m'\u001b[39m\u001b[38;5;124mtab:red\u001b[39m\u001b[38;5;124m'\u001b[39m)\n\u001b[1;32m---> 11\u001b[0m \u001b[43max2\u001b[49m\u001b[38;5;241;43m.\u001b[39;49m\u001b[43mplot\u001b[49m\u001b[43m(\u001b[49m\u001b[43mxdata\u001b[49m\u001b[43m,\u001b[49m\u001b[43m \u001b[49m\u001b[43mloss\u001b[49m\u001b[43m,\u001b[49m\u001b[43m \u001b[49m\u001b[43mcolor\u001b[49m\u001b[38;5;241;43m=\u001b[39;49m\u001b[38;5;124;43m'\u001b[39;49m\u001b[38;5;124;43mtab:red\u001b[39;49m\u001b[38;5;124;43m'\u001b[39;49m\u001b[43m)\u001b[49m\n",
      "File \u001b[1;32m~\\AppData\\Local\\Programs\\Python\\Python38\\lib\\site-packages\\matplotlib\\axes\\_axes.py:1743\u001b[0m, in \u001b[0;36mAxes.plot\u001b[1;34m(self, scalex, scaley, data, *args, **kwargs)\u001b[0m\n\u001b[0;32m   1512\u001b[0m \u001b[38;5;124;03m\"\"\"\u001b[39;00m\n\u001b[0;32m   1513\u001b[0m \u001b[38;5;124;03mPlot y versus x as lines and/or markers.\u001b[39;00m\n\u001b[0;32m   1514\u001b[0m \n\u001b[1;32m   (...)\u001b[0m\n\u001b[0;32m   1740\u001b[0m \u001b[38;5;124;03m(``'green'``) or hex strings (``'#008000'``).\u001b[39;00m\n\u001b[0;32m   1741\u001b[0m \u001b[38;5;124;03m\"\"\"\u001b[39;00m\n\u001b[0;32m   1742\u001b[0m kwargs \u001b[38;5;241m=\u001b[39m cbook\u001b[38;5;241m.\u001b[39mnormalize_kwargs(kwargs, mlines\u001b[38;5;241m.\u001b[39mLine2D)\n\u001b[1;32m-> 1743\u001b[0m lines \u001b[38;5;241m=\u001b[39m [\u001b[38;5;241m*\u001b[39m\u001b[38;5;28mself\u001b[39m\u001b[38;5;241m.\u001b[39m_get_lines(\u001b[38;5;241m*\u001b[39margs, data\u001b[38;5;241m=\u001b[39mdata, \u001b[38;5;241m*\u001b[39m\u001b[38;5;241m*\u001b[39mkwargs)]\n\u001b[0;32m   1744\u001b[0m \u001b[38;5;28;01mfor\u001b[39;00m line \u001b[38;5;129;01min\u001b[39;00m lines:\n\u001b[0;32m   1745\u001b[0m     \u001b[38;5;28mself\u001b[39m\u001b[38;5;241m.\u001b[39madd_line(line)\n",
      "File \u001b[1;32m~\\AppData\\Local\\Programs\\Python\\Python38\\lib\\site-packages\\matplotlib\\axes\\_base.py:273\u001b[0m, in \u001b[0;36m_process_plot_var_args.__call__\u001b[1;34m(self, data, *args, **kwargs)\u001b[0m\n\u001b[0;32m    271\u001b[0m     this \u001b[38;5;241m+\u001b[39m\u001b[38;5;241m=\u001b[39m args[\u001b[38;5;241m0\u001b[39m],\n\u001b[0;32m    272\u001b[0m     args \u001b[38;5;241m=\u001b[39m args[\u001b[38;5;241m1\u001b[39m:]\n\u001b[1;32m--> 273\u001b[0m \u001b[38;5;28;01myield from\u001b[39;00m \u001b[38;5;28;43mself\u001b[39;49m\u001b[38;5;241;43m.\u001b[39;49m\u001b[43m_plot_args\u001b[49m\u001b[43m(\u001b[49m\u001b[43mthis\u001b[49m\u001b[43m,\u001b[49m\u001b[43m \u001b[49m\u001b[43mkwargs\u001b[49m\u001b[43m)\u001b[49m\n",
      "File \u001b[1;32m~\\AppData\\Local\\Programs\\Python\\Python38\\lib\\site-packages\\matplotlib\\axes\\_base.py:399\u001b[0m, in \u001b[0;36m_process_plot_var_args._plot_args\u001b[1;34m(self, tup, kwargs)\u001b[0m\n\u001b[0;32m    396\u001b[0m     \u001b[38;5;28mself\u001b[39m\u001b[38;5;241m.\u001b[39maxes\u001b[38;5;241m.\u001b[39myaxis\u001b[38;5;241m.\u001b[39mupdate_units(y)\n\u001b[0;32m    398\u001b[0m \u001b[38;5;28;01mif\u001b[39;00m x\u001b[38;5;241m.\u001b[39mshape[\u001b[38;5;241m0\u001b[39m] \u001b[38;5;241m!=\u001b[39m y\u001b[38;5;241m.\u001b[39mshape[\u001b[38;5;241m0\u001b[39m]:\n\u001b[1;32m--> 399\u001b[0m     \u001b[38;5;28;01mraise\u001b[39;00m \u001b[38;5;167;01mValueError\u001b[39;00m(\u001b[38;5;124mf\u001b[39m\u001b[38;5;124m\"\u001b[39m\u001b[38;5;124mx and y must have same first dimension, but \u001b[39m\u001b[38;5;124m\"\u001b[39m\n\u001b[0;32m    400\u001b[0m                      \u001b[38;5;124mf\u001b[39m\u001b[38;5;124m\"\u001b[39m\u001b[38;5;124mhave shapes \u001b[39m\u001b[38;5;132;01m{\u001b[39;00mx\u001b[38;5;241m.\u001b[39mshape\u001b[38;5;132;01m}\u001b[39;00m\u001b[38;5;124m and \u001b[39m\u001b[38;5;132;01m{\u001b[39;00my\u001b[38;5;241m.\u001b[39mshape\u001b[38;5;132;01m}\u001b[39;00m\u001b[38;5;124m\"\u001b[39m)\n\u001b[0;32m    401\u001b[0m \u001b[38;5;28;01mif\u001b[39;00m x\u001b[38;5;241m.\u001b[39mndim \u001b[38;5;241m>\u001b[39m \u001b[38;5;241m2\u001b[39m \u001b[38;5;129;01mor\u001b[39;00m y\u001b[38;5;241m.\u001b[39mndim \u001b[38;5;241m>\u001b[39m \u001b[38;5;241m2\u001b[39m:\n\u001b[0;32m    402\u001b[0m     \u001b[38;5;28;01mraise\u001b[39;00m \u001b[38;5;167;01mValueError\u001b[39;00m(\u001b[38;5;124mf\u001b[39m\u001b[38;5;124m\"\u001b[39m\u001b[38;5;124mx and y can be no greater than 2-D, but have \u001b[39m\u001b[38;5;124m\"\u001b[39m\n\u001b[0;32m    403\u001b[0m                      \u001b[38;5;124mf\u001b[39m\u001b[38;5;124m\"\u001b[39m\u001b[38;5;124mshapes \u001b[39m\u001b[38;5;132;01m{\u001b[39;00mx\u001b[38;5;241m.\u001b[39mshape\u001b[38;5;132;01m}\u001b[39;00m\u001b[38;5;124m and \u001b[39m\u001b[38;5;132;01m{\u001b[39;00my\u001b[38;5;241m.\u001b[39mshape\u001b[38;5;132;01m}\u001b[39;00m\u001b[38;5;124m\"\u001b[39m)\n",
      "\u001b[1;31mValueError\u001b[0m: x and y must have same first dimension, but have shapes (2,) and (8,)"
     ]
    },
    {
     "data": {
      "image/png": "[encoded data removed]",
      "text/plain": [
       "<Figure size 432x288 with 2 Axes>"
      ]
     },
     "metadata": {
      "needs_background": "light"
     },
     "output_type": "display_data"
    }
   ],
   "source": [
    "loss = loss_values\n",
    "# acc = accuracy_values\n",
    "xdata = np.arange(0, 2, 1)\n",
    "\n",
    "fig, ax1 = plt.subplots()\n",
    "ax1.set_xlabel('epochs')\n",
    "ax1.set_ylabel('accuracy', color='tab:blue')\n",
    "# ax1.plot(xdata, acc, color='tab:blue')\n",
    "ax2 = ax1.twinx()\n",
    "ax2.set_ylabel('loss', color='tab:red')\n",
    "ax2.plot(xdata, loss, color='tab:red')"
   ]
  },
  {
   "cell_type": "code",
   "execution_count": 131,
   "id": "a597e317",
   "metadata": {},
   "outputs": [
    {
     "data": {
      "text/plain": [
       "tensor([[0],\n",
       "        [1],\n",
       "        [1],\n",
       "        [0]], dtype=torch.int32)"
      ]
     },
     "execution_count": 131,
     "metadata": {},
     "output_type": "execute_result"
    }
   ],
   "source": [
    "with torch.no_grad():\n",
    "    a = model.forward(torch.Tensor([[0,0],[1,0],[0,1],[1,1]]))\n",
    "a.round().int()"
   ]
  },
  {
   "cell_type": "code",
   "execution_count": 132,
   "id": "b91ef9d0",
   "metadata": {},
   "outputs": [
    {
     "data": {
      "text/plain": [
       "array([[-0.6973953 , -0.6987653 , -0.7003615 , -0.702219  , -0.7043791 ,\n",
       "        -0.7068887 , -0.7097995 , -0.7131691 , -0.7170613 , -0.7215419 ,\n",
       "        -0.72667956, -0.7325387 , -0.7391734 , -0.7466123 , -0.75484204,\n",
       "        -0.7637744 , -0.7732003 , -0.7827184 , -0.7916355 , -0.79881525,\n",
       "        -0.80248094, -0.79995227, -0.78735185, -0.7593522 , -0.7091527 ,\n",
       "        -0.6290307 , -0.51192844, -0.3543445 , -0.15995812,  0.05798018],\n",
       "       [-0.6987784 , -0.7003765 , -0.70223665, -0.7044003 , -0.7069125 ,\n",
       "        -0.70982695, -0.7132015 , -0.71709776, -0.72158384, -0.726727  ,\n",
       "        -0.73259234, -0.739233  , -0.74667764, -0.7549119 , -0.76384616,\n",
       "        -0.7732694 , -0.78277755, -0.79167247, -0.7988117 , -0.8024082 ,\n",
       "        -0.7997694 , -0.7870004 , -0.75875545, -0.7082174 , -0.6276591 ,\n",
       "        -0.51004755, -0.35194707, -0.1571486 ,  0.06097901,  0.28098845],\n",
       "       [-0.700392  , -0.7022543 , -0.7044208 , -0.70693636, -0.7098553 ,\n",
       "        -0.7132335 , -0.7171347 , -0.72162604, -0.72677517, -0.7326462 ,\n",
       "        -0.7392931 , -0.7467432 , -0.75498176, -0.76391816, -0.7733383 ,\n",
       "        -0.7828367 , -0.7917092 , -0.7988074 , -0.80233455, -0.79958487,\n",
       "        -0.78664684, -0.75815535, -0.7072766 , -0.62628126, -0.50815976,\n",
       "        -0.34954333, -0.15433419,  0.06397867,  0.28387845,  0.48180532],\n",
       "       [-0.70227265, -0.7044413 , -0.70696115, -0.70988274, -0.7132654 ,\n",
       "        -0.71717143, -0.72166824, -0.7268231 , -0.73270035, -0.73935294,\n",
       "        -0.74680877, -0.7550516 , -0.7639899 , -0.77340746, -0.7828958 ,\n",
       "        -0.7917459 , -0.7988026 , -0.80225945, -0.7993977 , -0.78628993,\n",
       "        -0.7575505 , -0.706331  , -0.6248975 , -0.5062647 , -0.3471341 ,\n",
       "        -0.15151656,  0.06697917,  0.2867651 ,  0.4843048 ,  0.64141285],\n",
       "       [-0.7044623 , -0.70698524, -0.70991063, -0.71329737, -0.7172084 ,\n",
       "        -0.7217102 , -0.7268708 , -0.73275447, -0.7394128 , -0.74687433,\n",
       "        -0.75512147, -0.76406145, -0.7734766 , -0.7829542 , -0.7917814 ,\n",
       "        -0.79879713, -0.80218387, -0.7992101 , -0.78593063, -0.756943  ,\n",
       "        -0.70538044, -0.62350726, -0.5043633 , -0.34471822, -0.14869428,\n",
       "         0.06997991,  0.28964925,  0.48679864,  0.64334583,  0.75082076],\n",
       "       [-0.7070091 , -0.7099385 , -0.71332955, -0.7172451 , -0.72175264,\n",
       "        -0.7269187 , -0.7328081 , -0.7394726 , -0.74693966, -0.7551913 ,\n",
       "        -0.7641332 , -0.77354527, -0.7830126 , -0.7918172 , -0.7987902 ,\n",
       "        -0.8021064 , -0.7990196 , -0.7855685 , -0.7563307 , -0.7044251 ,\n",
       "        -0.62211084, -0.50245523, -0.3422966 , -0.14586866,  0.0729816 ,\n",
       "         0.29252958,  0.48928648,  0.6452714 ,  0.75213957,  0.81068456],\n",
       "       [-0.7099664 , -0.713362  , -0.7172823 , -0.72179484, -0.7269666 ,\n",
       "        -0.73286223, -0.73953295, -0.7470052 , -0.7552612 , -0.76420474,\n",
       "        -0.7736137 , -0.7830703 , -0.7918525 , -0.7987833 , -0.8020282 ,\n",
       "        -0.79882765, -0.78520393, -0.75571537, -0.7034645 , -0.6207087 ,\n",
       "        -0.5005404 , -0.33986855, -0.14303863,  0.07598364,  0.2954067 ,\n",
       "         0.49176788,  0.64718986,  0.7534509 ,  0.8114408 ,  0.82785285],\n",
       "       [-0.7133939 , -0.71731925, -0.7218373 , -0.72701454, -0.73291636,\n",
       "        -0.739593  , -0.747071  , -0.7553313 , -0.76427627, -0.7736826 ,\n",
       "        -0.783128  , -0.79188657, -0.7987752 , -0.8019481 , -0.7986336 ,\n",
       "        -0.78483677, -0.75509596, -0.7024989 , -0.6192999 , -0.49861908,\n",
       "        -0.33743465, -0.14020467,  0.07898593,  0.29828095,  0.49424338,\n",
       "         0.6491007 ,  0.7547554 ,  0.8121911 ,  0.8281491 ,  0.811622  ],\n",
       "       [-0.71735644, -0.7218795 , -0.72706294, -0.73297024, -0.7396529 ,\n",
       "        -0.74713683, -0.75540113, -0.7643473 , -0.77375054, -0.7831855 ,\n",
       "        -0.7919209 , -0.7987664 , -0.8018675 , -0.7984381 , -0.784466  ,\n",
       "        -0.75447273, -0.7015283 , -0.6178856 , -0.49669063, -0.3349948 ,\n",
       "        -0.13736713,  0.08198881,  0.3011515 ,  0.49671286,  0.65100414,\n",
       "         0.7560524 ,  0.8129351 ,  0.82844067,  0.8115717 ,  0.7711971 ],\n",
       "       [-0.72192216, -0.72711086, -0.73302436, -0.7397132 , -0.7472024 ,\n",
       "        -0.7554705 , -0.76441884, -0.77381873, -0.7832427 , -0.7919543 ,\n",
       "        -0.7987566 , -0.80178523, -0.79824066, -0.7840934 , -0.7538457 ,\n",
       "        -0.70055246, -0.6164646 , -0.49475586, -0.33254838, -0.1345253 ,\n",
       "         0.08499241,  0.3040191 ,  0.49917626,  0.65290016,  0.7573422 ,\n",
       "         0.8136729 ,  0.8287275 ,  0.8115176 ,  0.77090216,  0.71448416],\n",
       "       [-0.72715926, -0.7330787 , -0.7397733 , -0.74726796, -0.7555404 ,\n",
       "        -0.7644901 , -0.7738867 , -0.7832997 , -0.7919874 , -0.79874635,\n",
       "        -0.80170155, -0.7980411 , -0.7837179 , -0.7532146 , -0.6995716 ,\n",
       "        -0.61503744, -0.49281406, -0.330096  , -0.13168001,  0.08799601,\n",
       "         0.30688357,  0.5016336 ,  0.65478903,  0.7586249 ,  0.8144045 ,\n",
       "         0.8290093 ,  0.81146026,  0.77060485,  0.71402735,  0.64776945],\n",
       "       [-0.73313284, -0.7398336 , -0.7473335 , -0.75561   , -0.7645614 ,\n",
       "        -0.77395463, -0.7833562 , -0.79201984, -0.7987354 , -0.8016174 ,\n",
       "        -0.7978394 , -0.78333926, -0.7525799 , -0.69858575, -0.61360407,\n",
       "        -0.4908657 , -0.3276379 , -0.12883079,  0.09099996,  0.30974388,\n",
       "         0.5040845 ,  0.65667045,  0.7599002 ,  0.81512976,  0.8292861 ,\n",
       "         0.81139934,  0.7703049 ,  0.7135694 ,  0.6472147 ,  0.5758307 ],\n",
       "       [-0.73989344, -0.74739957, -0.7556801 , -0.7646322 , -0.7740226 ,\n",
       "        -0.78341246, -0.7920518 , -0.79872346, -0.8015311 , -0.7976365 ,\n",
       "        -0.78295827, -0.75194144, -0.6975949 , -0.6121645 , -0.48891056,\n",
       "        -0.32517362, -0.12597775,  0.09400427,  0.3126012 ,  0.5065292 ,\n",
       "         0.6585444 ,  0.7611685 ,  0.8158492 ,  0.8295584 ,  0.81133485,\n",
       "         0.77000284,  0.71310973,  0.6466594 ,  0.57522506,  0.5021924 ],\n",
       "       [-0.7474649 , -0.7557502 , -0.7647035 , -0.77409005, -0.7834685 ,\n",
       "        -0.79208374, -0.7987106 , -0.80144405, -0.79743147, -0.7825742 ,\n",
       "        -0.75129867, -0.69659805, -0.6107185 , -0.4869485 , -0.32270336,\n",
       "        -0.1231209 ,  0.09700882,  0.3154552 ,  0.5089679 ,  0.6604109 ,\n",
       "         0.7624295 ,  0.8165622 ,  0.82982576,  0.8112668 ,  0.7696978 ,\n",
       "         0.71264833,  0.6461029 ,  0.57461894,  0.5015693 ,  0.42938983],\n",
       "       [-0.75581956, -0.76477456, -0.7741575 , -0.7835245 , -0.79211473,\n",
       "        -0.798697  , -0.8013556 , -0.79722404, -0.78218746, -0.7506521 ,\n",
       "        -0.6955967 , -0.6092663 , -0.48497963, -0.32022727, -0.12026036,\n",
       "         0.10001349,  0.31830537,  0.51140046,  0.66227   ,  0.76368344,\n",
       "         0.8172693 ,  0.8300884 ,  0.8111954 ,  0.7693908 ,  0.7121855 ,\n",
       "         0.64554554,  0.5740123 ,  0.50094616,  0.4287731 ,  0.35919565],\n",
       "       [-0.7648456 , -0.774225  , -0.7835798 , -0.7921455 , -0.7986827 ,\n",
       "        -0.80126595, -0.79701495, -0.7817974 , -0.75000167, -0.69459057,\n",
       "        -0.6078081 , -0.48300457, -0.3177451 , -0.11739659,  0.10301805,\n",
       "         0.3211521 ,  0.5138264 ,  0.6641219 ,  0.76493   ,  0.81797016,\n",
       "         0.8303462 ,  0.8111203 ,  0.76908123,  0.71172094,  0.644987  ,\n",
       "         0.5734052 ,  0.50032276,  0.42815673,  0.3586017 ,  0.29279745],\n",
       "       [-0.774292  , -0.7836349 , -0.79217553, -0.79866767, -0.8011749 ,\n",
       "        -0.7968044 , -0.781405  , -0.7493472 , -0.6935785 , -0.6063435 ,\n",
       "        -0.4810226 , -0.31525707, -0.11452901,  0.10602307,  0.323995  ,\n",
       "         0.51624626,  0.66596615,  0.76616955,  0.818665  ,  0.8305993 ,\n",
       "         0.81104183,  0.76876926,  0.7112551 ,  0.64442766,  0.57279754,\n",
       "         0.49969935,  0.42754018,  0.3580079 ,  0.29223657,  0.23093563],\n",
       "       [-0.78368974, -0.79220533, -0.79865146, -0.8010831 , -0.7965915 ,\n",
       "        -0.7810099 , -0.7486892 , -0.6925616 , -0.6048722 , -0.47903407,\n",
       "        -0.31276286, -0.11165786,  0.10902786,  0.32683432,  0.5186599 ,\n",
       "         0.66780305,  0.76740205,  0.8193537 ,  0.83084774,  0.8109598 ,\n",
       "         0.7684549 ,  0.71078736,  0.6438675 ,  0.5721893 ,  0.49907547,\n",
       "         0.4269237 ,  0.35741436,  0.2916761 ,  0.2304143 ,  0.17401174],\n",
       "       [-0.7922344 , -0.7986345 , -0.80098915, -0.796376  , -0.7806115 ,\n",
       "        -0.7480266 , -0.6915395 , -0.6033952 , -0.47703874, -0.31026304,\n",
       "        -0.10878325,  0.11203265,  0.32967007,  0.52106684,  0.6696325 ,\n",
       "         0.7686273 ,  0.8200363 ,  0.83109117,  0.8108746 ,  0.7681384 ,\n",
       "         0.71031845,  0.6433064 ,  0.57158065,  0.49845165,  0.42630738,\n",
       "         0.35682094,  0.29111594,  0.22989354,  0.17353335,  0.12217242],\n",
       "       [-0.7986169 , -0.80089426, -0.79615927, -0.7802105 , -0.7473602 ,\n",
       "        -0.6905122 , -0.60191154, -0.47503603, -0.30775738, -0.10590518,\n",
       "         0.11503744,  0.33250213,  0.5234675 ,  0.67145455,  0.76984525,\n",
       "         0.8207129 ,  0.8313303 ,  0.8107858 ,  0.7678193 ,  0.70984757,\n",
       "         0.64274424,  0.57097155,  0.4978276 ,  0.42569083,  0.3562277 ,\n",
       "         0.290556  ,  0.22937301,  0.17305538,  0.1217379 ,  0.07537696],\n",
       "       [-0.8007984 , -0.7959404 , -0.77980614, -0.74669003, -0.6894791 ,\n",
       "        -0.6004219 , -0.47302747, -0.30524552, -0.10302341,  0.11804187,\n",
       "         0.3353306 ,  0.525862  ,  0.6732692 ,  0.7710562 ,  0.8213836 ,\n",
       "         0.83156455,  0.81069374,  0.7674979 ,  0.7093755 ,  0.6421812 ,\n",
       "         0.5703619 ,  0.4972034 ,  0.4250747 ,  0.3556347 ,  0.28999627,\n",
       "         0.22885284,  0.17257777,  0.12130389,  0.07498574,  0.03345141],\n",
       "       [-0.79571986, -0.77939963, -0.7460158 , -0.68844175, -0.5989256 ,\n",
       "        -0.47101176, -0.30272818, -0.10013843,  0.12104654,  0.33815467,\n",
       "         0.52824986,  0.6750765 ,  0.7722603 ,  0.8220483 ,  0.83179414,\n",
       "         0.81059813,  0.7671741 ,  0.7089018 ,  0.6416172 ,  0.5697519 ,\n",
       "         0.496579  ,  0.42445827,  0.35504186,  0.28943688,  0.22833288,\n",
       "         0.17210054,  0.12087014,  0.07459497,  0.03310177, -0.00386849],\n",
       "       [-0.77899027, -0.74533725, -0.6873982 , -0.59742355, -0.4689895 ,\n",
       "        -0.30020523, -0.0972501 ,  0.12405038,  0.34097505,  0.5306313 ,\n",
       "         0.6768762 ,  0.77345693,  0.8227068 ,  0.8320192 ,  0.8104991 ,\n",
       "         0.7668481 ,  0.7084268 ,  0.64105237,  0.56914145,  0.4959545 ,\n",
       "         0.4238422 ,  0.3544492 ,  0.28887796,  0.2278134 ,  0.17162368,\n",
       "         0.12043685,  0.07420453,  0.03275251, -0.00417906, -0.03690352],\n",
       "       [-0.7446549 , -0.68634987, -0.5959146 , -0.4669608 , -0.29767585,\n",
       "        -0.09435833,  0.12705445,  0.34379184,  0.5330062 ,  0.6786683 ,\n",
       "         0.77464664,  0.8233594 ,  0.8322395 ,  0.8103967 ,  0.7665198 ,\n",
       "         0.70795   ,  0.6404866 ,  0.5685304 ,  0.4953298 ,  0.42322594,\n",
       "         0.3538568 ,  0.28831905,  0.2272942 ,  0.17114714,  0.12000382,\n",
       "         0.07381448,  0.03240362, -0.00448918, -0.03717786, -0.06600459],\n",
       "       [-0.68529606, -0.5943992 , -0.46492505, -0.29514146, -0.09146369,\n",
       "         0.13005793,  0.34660423,  0.5353747 ,  0.6804533 ,  0.7758291 ,\n",
       "         0.82400584,  0.83245516,  0.81029105,  0.7661892 ,  0.70747185,\n",
       "         0.63992   ,  0.5679189 ,  0.49470508,  0.42260993,  0.35326463,\n",
       "         0.28776056,  0.22677541,  0.17067105,  0.11957121,  0.0734247 ,\n",
       "         0.03205505, -0.00479907, -0.03745183, -0.06624578, -0.09153318],\n",
       "       [-0.5928781 , -0.46288252, -0.2926005 , -0.08856583,  0.13306093,\n",
       "         0.34941292,  0.53773683,  0.68223065,  0.7770046 ,  0.8246467 ,\n",
       "         0.8326664 ,  0.810182  ,  0.765856  ,  0.70699215,  0.63935256,\n",
       "         0.567307  ,  0.49407995,  0.42199385,  0.35267264,  0.28720236,\n",
       "         0.22625706,  0.17019528,  0.11913908,  0.07303536,  0.03170684,\n",
       "        -0.00510855, -0.03772552, -0.06648673, -0.09174447, -0.11384706],\n",
       "       [-0.46083355, -0.29005408, -0.08566368,  0.13606381,  0.35221756,\n",
       "         0.54009247,  0.6840005 ,  0.7781731 ,  0.8252814 ,  0.8328726 ,\n",
       "         0.8100698 ,  0.76552093,  0.706511  ,  0.63878417,  0.5666947 ,\n",
       "         0.49345487,  0.4213779 ,  0.35208064,  0.28664452,  0.22573882,\n",
       "         0.16971985,  0.11870718,  0.07264638,  0.03135899, -0.00541782,\n",
       "        -0.03799891, -0.06672737, -0.09195542, -0.11403145, -0.13329014],\n",
       "       [-0.2875024 , -0.08275926,  0.13906634,  0.35501778,  0.5424414 ,\n",
       "         0.685763  ,  0.77933455,  0.82591033,  0.8330748 ,  0.80995417,\n",
       "         0.7651833 ,  0.7060285 ,  0.6382149 ,  0.566082  ,  0.49282962,\n",
       "         0.420762  ,  0.3514892 ,  0.28608692,  0.22522104,  0.16924486,\n",
       "         0.11827576,  0.07225779,  0.03101149, -0.00572671, -0.03827205,\n",
       "        -0.06696773, -0.09216616, -0.11421557, -0.13345058, -0.15018609],\n",
       "       [-0.07985139,  0.1420685 ,  0.3578148 ,  0.54478365,  0.68751806,\n",
       "         0.78048885,  0.8265332 ,  0.8332722 ,  0.8098352 ,  0.7648436 ,\n",
       "         0.7055443 ,  0.63764477,  0.5654686 ,  0.49220407,  0.42014605,\n",
       "         0.35089767,  0.28552943,  0.22470352,  0.16877013,  0.11784458,\n",
       "         0.07186958,  0.03066424, -0.00603528, -0.03854483, -0.06720783,\n",
       "        -0.09237666, -0.11439951, -0.13361081, -0.15032542, -0.16483453],\n",
       "       [ 0.14506948,  0.3606068 ,  0.54711986,  0.68926543,  0.7816361 ,\n",
       "         0.82715034,  0.8334652 ,  0.8097131 ,  0.7645017 ,  0.7050587 ,\n",
       "         0.6370738 ,  0.56485504,  0.49157864,  0.4195304 ,  0.35030645,\n",
       "         0.2849725 ,  0.22418657,  0.16829586,  0.11741397,  0.07148167,\n",
       "         0.03031752, -0.00634344, -0.03881732, -0.0674476 , -0.0925869 ,\n",
       "        -0.11458316, -0.13377087, -0.15046445, -0.16495515, -0.17750889]],\n",
       "      dtype=float32)"
      ]
     },
     "execution_count": 132,
     "metadata": {},
     "output_type": "execute_result"
    }
   ],
   "source": [
    "x_range = np.linspace(-2, 2, 30)\n",
    "y_range = np.linspace(-2, 2, 30)\n",
    "xx, yy = np.meshgrid(x_range, y_range, indexing='ij')\n",
    "zz = [model.forward(torch.Tensor([[xx[i][j], yy[i,j]] for i in range(30)])).detach().cpu().numpy().flatten() for j in range(30)]\n",
    "z = np.array(zz)\n",
    "z"
   ]
  },
  {
   "cell_type": "code",
   "execution_count": 133,
   "id": "3172090e",
   "metadata": {},
   "outputs": [
    {
     "data": {
      "text/plain": [
       "<matplotlib.contour.QuadContourSet at 0x13dc66c7100>"
      ]
     },
     "execution_count": 133,
     "metadata": {},
     "output_type": "execute_result"
    },
    {
     "data": {
      "image/png": "[encoded data removed]",
      "text/plain": [
       "<Figure size 1440x1440 with 1 Axes>"
      ]
     },
     "metadata": {
      "needs_background": "light"
     },
     "output_type": "display_data"
    }
   ],
   "source": [
    "plt.figure(figsize=(20, 20))\n",
    "plt.axis('scaled')\n",
    "plt.xlim(-2, 2)\n",
    "plt.ylim(-2, 2)\n",
    "colors = {0: \"wo\", 1: \"ko\"}\n",
    "# plotting the four datapoints\n",
    "for i in range(len(x)):\n",
    "    plt.plot(x[i][0], x[i][1], colors[int(y[i][0])], markersize=20)\n",
    "\n",
    "# using the contourf function to create the plot\n",
    "plt.contourf(xx, yy, z, alpha=0.4)"
   ]
  },
  {
   "cell_type": "code",
   "execution_count": null,
   "id": "9db14ef5",
   "metadata": {},
   "outputs": [],
   "source": []
  }
 ],
 "metadata": {
  "kernelspec": {
   "display_name": "Python 3 (ipykernel)",
   "language": "python",
   "name": "python3"
  },
  "language_info": {
   "codemirror_mode": {
    "name": "ipython",
    "version": 3
   },
   "file_extension": ".py",
   "mimetype": "text/x-python",
   "name": "python",
   "nbconvert_exporter": "python",
   "pygments_lexer": "ipython3",
   "version": "3.8.1"
  }
 },
 "nbformat": 4,
 "nbformat_minor": 5
}
